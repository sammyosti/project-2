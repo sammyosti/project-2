{
 "cells": [
  {
   "cell_type": "markdown",
   "metadata": {
    "collapsed": true,
    "pycharm": {
     "name": "#%% md\n"
    }
   },
   "source": [
    "## WeRateDogs Twitter Analysis"
   ]
  },
  {
   "cell_type": "markdown",
   "source": [
    "The WeRateDogs is a known twitter account that makes posts about dogs and rates them. It has about 9.3 million followers as at November 2022.This data comprises of dog ratings that were taken from the text of the tweet along with the dog name and dog stage if present. WeRateDogs has its own categories of dogs based on its age and appearance. The necessary file were provided by Udacity for the purpose of this study. After the wrangling process, I came out with the following analysis:\n",
    "\n",
    "* The monthly trend of activities\n",
    "* Posting trend\n",
    "* Devices used by most followers of the page who interact with posts\n"
   ],
   "metadata": {
    "collapsed": false,
    "pycharm": {
     "name": "#%% md\n"
    }
   }
  },
  {
   "cell_type": "code",
   "execution_count": null,
   "outputs": [],
   "source": [],
   "metadata": {
    "collapsed": false,
    "pycharm": {
     "name": "#%%\n"
    }
   }
  },
  {
   "cell_type": "code",
   "execution_count": null,
   "outputs": [],
   "source": [],
   "metadata": {
    "collapsed": false,
    "pycharm": {
     "name": "#%%\n"
    }
   }
  }
 ],
 "metadata": {
  "kernelspec": {
   "display_name": "Python 3",
   "language": "python",
   "name": "python3"
  },
  "language_info": {
   "codemirror_mode": {
    "name": "ipython",
    "version": 2
   },
   "file_extension": ".py",
   "mimetype": "text/x-python",
   "name": "python",
   "nbconvert_exporter": "python",
   "pygments_lexer": "ipython2",
   "version": "2.7.6"
  }
 },
 "nbformat": 4,
 "nbformat_minor": 0
}