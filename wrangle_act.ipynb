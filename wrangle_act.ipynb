{
 "cells": [
  {
   "cell_type": "markdown",
   "source": [
    "# Project: Wrangling and Analyze Data"
   ],
   "metadata": {
    "collapsed": false
   }
  },
  {
   "cell_type": "code",
   "execution_count": 75,
   "outputs": [],
   "source": [
    "#importing libraries\n",
    "import pandas as pd\n",
    "import numpy as np\n",
    "import matplotlib.pyplot as plt\n",
    "%matplotlib inline\n",
    "import requests\n",
    "import tweepy\n",
    "from tweepy import OAuthHandler\n",
    "import configparser\n",
    "import json\n",
    "from timeit import default_timer as timer\n",
    "from io import BytesIO\n",
    "import seaborn as sns\n",
    "import os"
   ],
   "metadata": {
    "collapsed": false,
    "pycharm": {
     "name": "#%%\n"
    }
   }
  },
  {
   "cell_type": "markdown",
   "source": [
    "## Data Gathering"
   ],
   "metadata": {
    "collapsed": false,
    "pycharm": {
     "name": "#%% md\n"
    }
   }
  },
  {
   "cell_type": "code",
   "execution_count": 76,
   "outputs": [],
   "source": [
    "#loading archive data\n",
    "archive = pd.read_csv('twitter-archive-enhanced.csv')"
   ],
   "metadata": {
    "collapsed": false,
    "pycharm": {
     "name": "#%%\n"
    }
   }
  },
  {
   "cell_type": "code",
   "execution_count": 77,
   "outputs": [],
   "source": [
    "#downloading tweet image predictions\n",
    "url='https://d17h27t6h515a5.cloudfront.net/topher/2017/August/599fd2ad_image-predictions/image-predictions.tsv'\n",
    "response = requests.get(url)\n",
    "\n",
    "with open('image-predictions.tsv', mode= 'wb') as file:\n",
    "    file.write(response.content)"
   ],
   "metadata": {
    "collapsed": false,
    "pycharm": {
     "name": "#%%\n"
    }
   }
  },
  {
   "cell_type": "code",
   "execution_count": 78,
   "outputs": [],
   "source": [
    "img_pred = pd.read_csv('image-predictions.tsv', sep='\\t')"
   ],
   "metadata": {
    "collapsed": false,
    "pycharm": {
     "name": "#%%\n"
    }
   }
  },
  {
   "cell_type": "code",
   "execution_count": 79,
   "outputs": [],
   "source": [
    "#getting tweet data\n",
    "\n",
    "#consumer_key ='1XhhuRqy6'\n",
    "#consumer_secret = 'pauUJS'\n",
    "#access_token = '119628'\n",
    "#access_secret = 'QC'\n",
    "\n",
    "#auth = OAuthHandler(consumer_key,consumer_secret)\n",
    "#auth.set_access_token(access_token,access_secret)\n",
    "\n",
    "#api = tweepy.API(auth,wait_on_rate_limit=True)"
   ],
   "metadata": {
    "collapsed": false,
    "pycharm": {
     "name": "#%%\n"
    }
   }
  },
  {
   "cell_type": "code",
   "execution_count": 80,
   "outputs": [],
   "source": [
    "#count = 0\n",
    "#fails_dict = {}\n",
    "#start = timer()\n",
    "#with open('tweet_json.txt', 'w') as outfile:\n",
    "#    for tweet_id in tweet_ids:\n",
    "#        count+=1\n",
    "#        print(str(count)+':'+str(tweet_id))\n",
    "#        try:\n",
    "#            tweet = api.get_status(tweet_id,tweet_mode='extend')\n",
    "#            print('Success')\n",
    "#            json.dump(tweet._json, outfile)\n",
    "#            outfile.write('\\n')\n",
    "#        except tweepy.errors.TweepyException as e:\n",
    "#            print('Fail')\n",
    "#            fails_dict[tweet_id]=e\n",
    "#            pass\n",
    "#end = timer()\n",
    "#print(end-start)\n",
    "#print(fails_dict)"
   ],
   "metadata": {
    "collapsed": false,
    "pycharm": {
     "name": "#%%\n"
    }
   }
  },
  {
   "cell_type": "code",
   "execution_count": 81,
   "outputs": [],
   "source": [
    "with open ('tweet_json.txt') as file:\n",
    "    api_list = pd.read_json(file,lines = True, encoding ='utf-8')"
   ],
   "metadata": {
    "collapsed": false,
    "pycharm": {
     "name": "#%%\n"
    }
   }
  },
  {
   "cell_type": "markdown",
   "source": [
    "## Assessing Data"
   ],
   "metadata": {
    "collapsed": false,
    "pycharm": {
     "name": "#%% md\n"
    }
   }
  },
  {
   "cell_type": "code",
   "execution_count": 82,
   "outputs": [
    {
     "data": {
      "text/plain": "                tweet_id  in_reply_to_status_id  in_reply_to_user_id  \\\n0     892420643555336193                    NaN                  NaN   \n1     892177421306343426                    NaN                  NaN   \n2     891815181378084864                    NaN                  NaN   \n3     891689557279858688                    NaN                  NaN   \n4     891327558926688256                    NaN                  NaN   \n...                  ...                    ...                  ...   \n2351  666049248165822465                    NaN                  NaN   \n2352  666044226329800704                    NaN                  NaN   \n2353  666033412701032449                    NaN                  NaN   \n2354  666029285002620928                    NaN                  NaN   \n2355  666020888022790149                    NaN                  NaN   \n\n                      timestamp  \\\n0     2017-08-01 16:23:56 +0000   \n1     2017-08-01 00:17:27 +0000   \n2     2017-07-31 00:18:03 +0000   \n3     2017-07-30 15:58:51 +0000   \n4     2017-07-29 16:00:24 +0000   \n...                         ...   \n2351  2015-11-16 00:24:50 +0000   \n2352  2015-11-16 00:04:52 +0000   \n2353  2015-11-15 23:21:54 +0000   \n2354  2015-11-15 23:05:30 +0000   \n2355  2015-11-15 22:32:08 +0000   \n\n                                                 source  \\\n0     <a href=\"http://twitter.com/download/iphone\" r...   \n1     <a href=\"http://twitter.com/download/iphone\" r...   \n2     <a href=\"http://twitter.com/download/iphone\" r...   \n3     <a href=\"http://twitter.com/download/iphone\" r...   \n4     <a href=\"http://twitter.com/download/iphone\" r...   \n...                                                 ...   \n2351  <a href=\"http://twitter.com/download/iphone\" r...   \n2352  <a href=\"http://twitter.com/download/iphone\" r...   \n2353  <a href=\"http://twitter.com/download/iphone\" r...   \n2354  <a href=\"http://twitter.com/download/iphone\" r...   \n2355  <a href=\"http://twitter.com/download/iphone\" r...   \n\n                                                   text  retweeted_status_id  \\\n0     This is Phineas. He's a mystical boy. Only eve...                  NaN   \n1     This is Tilly. She's just checking pup on you....                  NaN   \n2     This is Archie. He is a rare Norwegian Pouncin...                  NaN   \n3     This is Darla. She commenced a snooze mid meal...                  NaN   \n4     This is Franklin. He would like you to stop ca...                  NaN   \n...                                                 ...                  ...   \n2351  Here we have a 1949 1st generation vulpix. Enj...                  NaN   \n2352  This is a purebred Piers Morgan. Loves to Netf...                  NaN   \n2353  Here is a very happy pup. Big fan of well-main...                  NaN   \n2354  This is a western brown Mitsubishi terrier. Up...                  NaN   \n2355  Here we have a Japanese Irish Setter. Lost eye...                  NaN   \n\n      retweeted_status_user_id retweeted_status_timestamp  \\\n0                          NaN                        NaN   \n1                          NaN                        NaN   \n2                          NaN                        NaN   \n3                          NaN                        NaN   \n4                          NaN                        NaN   \n...                        ...                        ...   \n2351                       NaN                        NaN   \n2352                       NaN                        NaN   \n2353                       NaN                        NaN   \n2354                       NaN                        NaN   \n2355                       NaN                        NaN   \n\n                                          expanded_urls  rating_numerator  \\\n0     https://twitter.com/dog_rates/status/892420643...                13   \n1     https://twitter.com/dog_rates/status/892177421...                13   \n2     https://twitter.com/dog_rates/status/891815181...                12   \n3     https://twitter.com/dog_rates/status/891689557...                13   \n4     https://twitter.com/dog_rates/status/891327558...                12   \n...                                                 ...               ...   \n2351  https://twitter.com/dog_rates/status/666049248...                 5   \n2352  https://twitter.com/dog_rates/status/666044226...                 6   \n2353  https://twitter.com/dog_rates/status/666033412...                 9   \n2354  https://twitter.com/dog_rates/status/666029285...                 7   \n2355  https://twitter.com/dog_rates/status/666020888...                 8   \n\n      rating_denominator      name doggo floofer pupper puppo  \n0                     10   Phineas  None    None   None  None  \n1                     10     Tilly  None    None   None  None  \n2                     10    Archie  None    None   None  None  \n3                     10     Darla  None    None   None  None  \n4                     10  Franklin  None    None   None  None  \n...                  ...       ...   ...     ...    ...   ...  \n2351                  10      None  None    None   None  None  \n2352                  10         a  None    None   None  None  \n2353                  10         a  None    None   None  None  \n2354                  10         a  None    None   None  None  \n2355                  10      None  None    None   None  None  \n\n[2356 rows x 17 columns]",
      "text/html": "<div>\n<style scoped>\n    .dataframe tbody tr th:only-of-type {\n        vertical-align: middle;\n    }\n\n    .dataframe tbody tr th {\n        vertical-align: top;\n    }\n\n    .dataframe thead th {\n        text-align: right;\n    }\n</style>\n<table border=\"1\" class=\"dataframe\">\n  <thead>\n    <tr style=\"text-align: right;\">\n      <th></th>\n      <th>tweet_id</th>\n      <th>in_reply_to_status_id</th>\n      <th>in_reply_to_user_id</th>\n      <th>timestamp</th>\n      <th>source</th>\n      <th>text</th>\n      <th>retweeted_status_id</th>\n      <th>retweeted_status_user_id</th>\n      <th>retweeted_status_timestamp</th>\n      <th>expanded_urls</th>\n      <th>rating_numerator</th>\n      <th>rating_denominator</th>\n      <th>name</th>\n      <th>doggo</th>\n      <th>floofer</th>\n      <th>pupper</th>\n      <th>puppo</th>\n    </tr>\n  </thead>\n  <tbody>\n    <tr>\n      <th>0</th>\n      <td>892420643555336193</td>\n      <td>NaN</td>\n      <td>NaN</td>\n      <td>2017-08-01 16:23:56 +0000</td>\n      <td>&lt;a href=\"http://twitter.com/download/iphone\" r...</td>\n      <td>This is Phineas. He's a mystical boy. Only eve...</td>\n      <td>NaN</td>\n      <td>NaN</td>\n      <td>NaN</td>\n      <td>https://twitter.com/dog_rates/status/892420643...</td>\n      <td>13</td>\n      <td>10</td>\n      <td>Phineas</td>\n      <td>None</td>\n      <td>None</td>\n      <td>None</td>\n      <td>None</td>\n    </tr>\n    <tr>\n      <th>1</th>\n      <td>892177421306343426</td>\n      <td>NaN</td>\n      <td>NaN</td>\n      <td>2017-08-01 00:17:27 +0000</td>\n      <td>&lt;a href=\"http://twitter.com/download/iphone\" r...</td>\n      <td>This is Tilly. She's just checking pup on you....</td>\n      <td>NaN</td>\n      <td>NaN</td>\n      <td>NaN</td>\n      <td>https://twitter.com/dog_rates/status/892177421...</td>\n      <td>13</td>\n      <td>10</td>\n      <td>Tilly</td>\n      <td>None</td>\n      <td>None</td>\n      <td>None</td>\n      <td>None</td>\n    </tr>\n    <tr>\n      <th>2</th>\n      <td>891815181378084864</td>\n      <td>NaN</td>\n      <td>NaN</td>\n      <td>2017-07-31 00:18:03 +0000</td>\n      <td>&lt;a href=\"http://twitter.com/download/iphone\" r...</td>\n      <td>This is Archie. He is a rare Norwegian Pouncin...</td>\n      <td>NaN</td>\n      <td>NaN</td>\n      <td>NaN</td>\n      <td>https://twitter.com/dog_rates/status/891815181...</td>\n      <td>12</td>\n      <td>10</td>\n      <td>Archie</td>\n      <td>None</td>\n      <td>None</td>\n      <td>None</td>\n      <td>None</td>\n    </tr>\n    <tr>\n      <th>3</th>\n      <td>891689557279858688</td>\n      <td>NaN</td>\n      <td>NaN</td>\n      <td>2017-07-30 15:58:51 +0000</td>\n      <td>&lt;a href=\"http://twitter.com/download/iphone\" r...</td>\n      <td>This is Darla. She commenced a snooze mid meal...</td>\n      <td>NaN</td>\n      <td>NaN</td>\n      <td>NaN</td>\n      <td>https://twitter.com/dog_rates/status/891689557...</td>\n      <td>13</td>\n      <td>10</td>\n      <td>Darla</td>\n      <td>None</td>\n      <td>None</td>\n      <td>None</td>\n      <td>None</td>\n    </tr>\n    <tr>\n      <th>4</th>\n      <td>891327558926688256</td>\n      <td>NaN</td>\n      <td>NaN</td>\n      <td>2017-07-29 16:00:24 +0000</td>\n      <td>&lt;a href=\"http://twitter.com/download/iphone\" r...</td>\n      <td>This is Franklin. He would like you to stop ca...</td>\n      <td>NaN</td>\n      <td>NaN</td>\n      <td>NaN</td>\n      <td>https://twitter.com/dog_rates/status/891327558...</td>\n      <td>12</td>\n      <td>10</td>\n      <td>Franklin</td>\n      <td>None</td>\n      <td>None</td>\n      <td>None</td>\n      <td>None</td>\n    </tr>\n    <tr>\n      <th>...</th>\n      <td>...</td>\n      <td>...</td>\n      <td>...</td>\n      <td>...</td>\n      <td>...</td>\n      <td>...</td>\n      <td>...</td>\n      <td>...</td>\n      <td>...</td>\n      <td>...</td>\n      <td>...</td>\n      <td>...</td>\n      <td>...</td>\n      <td>...</td>\n      <td>...</td>\n      <td>...</td>\n      <td>...</td>\n    </tr>\n    <tr>\n      <th>2351</th>\n      <td>666049248165822465</td>\n      <td>NaN</td>\n      <td>NaN</td>\n      <td>2015-11-16 00:24:50 +0000</td>\n      <td>&lt;a href=\"http://twitter.com/download/iphone\" r...</td>\n      <td>Here we have a 1949 1st generation vulpix. Enj...</td>\n      <td>NaN</td>\n      <td>NaN</td>\n      <td>NaN</td>\n      <td>https://twitter.com/dog_rates/status/666049248...</td>\n      <td>5</td>\n      <td>10</td>\n      <td>None</td>\n      <td>None</td>\n      <td>None</td>\n      <td>None</td>\n      <td>None</td>\n    </tr>\n    <tr>\n      <th>2352</th>\n      <td>666044226329800704</td>\n      <td>NaN</td>\n      <td>NaN</td>\n      <td>2015-11-16 00:04:52 +0000</td>\n      <td>&lt;a href=\"http://twitter.com/download/iphone\" r...</td>\n      <td>This is a purebred Piers Morgan. Loves to Netf...</td>\n      <td>NaN</td>\n      <td>NaN</td>\n      <td>NaN</td>\n      <td>https://twitter.com/dog_rates/status/666044226...</td>\n      <td>6</td>\n      <td>10</td>\n      <td>a</td>\n      <td>None</td>\n      <td>None</td>\n      <td>None</td>\n      <td>None</td>\n    </tr>\n    <tr>\n      <th>2353</th>\n      <td>666033412701032449</td>\n      <td>NaN</td>\n      <td>NaN</td>\n      <td>2015-11-15 23:21:54 +0000</td>\n      <td>&lt;a href=\"http://twitter.com/download/iphone\" r...</td>\n      <td>Here is a very happy pup. Big fan of well-main...</td>\n      <td>NaN</td>\n      <td>NaN</td>\n      <td>NaN</td>\n      <td>https://twitter.com/dog_rates/status/666033412...</td>\n      <td>9</td>\n      <td>10</td>\n      <td>a</td>\n      <td>None</td>\n      <td>None</td>\n      <td>None</td>\n      <td>None</td>\n    </tr>\n    <tr>\n      <th>2354</th>\n      <td>666029285002620928</td>\n      <td>NaN</td>\n      <td>NaN</td>\n      <td>2015-11-15 23:05:30 +0000</td>\n      <td>&lt;a href=\"http://twitter.com/download/iphone\" r...</td>\n      <td>This is a western brown Mitsubishi terrier. Up...</td>\n      <td>NaN</td>\n      <td>NaN</td>\n      <td>NaN</td>\n      <td>https://twitter.com/dog_rates/status/666029285...</td>\n      <td>7</td>\n      <td>10</td>\n      <td>a</td>\n      <td>None</td>\n      <td>None</td>\n      <td>None</td>\n      <td>None</td>\n    </tr>\n    <tr>\n      <th>2355</th>\n      <td>666020888022790149</td>\n      <td>NaN</td>\n      <td>NaN</td>\n      <td>2015-11-15 22:32:08 +0000</td>\n      <td>&lt;a href=\"http://twitter.com/download/iphone\" r...</td>\n      <td>Here we have a Japanese Irish Setter. Lost eye...</td>\n      <td>NaN</td>\n      <td>NaN</td>\n      <td>NaN</td>\n      <td>https://twitter.com/dog_rates/status/666020888...</td>\n      <td>8</td>\n      <td>10</td>\n      <td>None</td>\n      <td>None</td>\n      <td>None</td>\n      <td>None</td>\n      <td>None</td>\n    </tr>\n  </tbody>\n</table>\n<p>2356 rows × 17 columns</p>\n</div>"
     },
     "execution_count": 82,
     "metadata": {},
     "output_type": "execute_result"
    }
   ],
   "source": [
    "archive"
   ],
   "metadata": {
    "collapsed": false,
    "pycharm": {
     "name": "#%%\n"
    }
   }
  },
  {
   "cell_type": "code",
   "execution_count": 83,
   "outputs": [
    {
     "name": "stdout",
     "output_type": "stream",
     "text": [
      "<class 'pandas.core.frame.DataFrame'>\n",
      "RangeIndex: 2356 entries, 0 to 2355\n",
      "Data columns (total 17 columns):\n",
      " #   Column                      Non-Null Count  Dtype  \n",
      "---  ------                      --------------  -----  \n",
      " 0   tweet_id                    2356 non-null   int64  \n",
      " 1   in_reply_to_status_id       78 non-null     float64\n",
      " 2   in_reply_to_user_id         78 non-null     float64\n",
      " 3   timestamp                   2356 non-null   object \n",
      " 4   source                      2356 non-null   object \n",
      " 5   text                        2356 non-null   object \n",
      " 6   retweeted_status_id         181 non-null    float64\n",
      " 7   retweeted_status_user_id    181 non-null    float64\n",
      " 8   retweeted_status_timestamp  181 non-null    object \n",
      " 9   expanded_urls               2297 non-null   object \n",
      " 10  rating_numerator            2356 non-null   int64  \n",
      " 11  rating_denominator          2356 non-null   int64  \n",
      " 12  name                        2356 non-null   object \n",
      " 13  doggo                       2356 non-null   object \n",
      " 14  floofer                     2356 non-null   object \n",
      " 15  pupper                      2356 non-null   object \n",
      " 16  puppo                       2356 non-null   object \n",
      "dtypes: float64(4), int64(3), object(10)\n",
      "memory usage: 313.0+ KB\n"
     ]
    }
   ],
   "source": [
    "archive.info()"
   ],
   "metadata": {
    "collapsed": false,
    "pycharm": {
     "name": "#%%\n"
    }
   }
  },
  {
   "cell_type": "code",
   "execution_count": 84,
   "outputs": [
    {
     "data": {
      "text/plain": "array(['Phineas', 'Tilly', 'Archie', 'Darla', 'Franklin', 'None', 'Jax',\n       'Zoey', 'Cassie', 'Koda', 'Bruno', 'Ted', 'Stuart', 'Oliver',\n       'Jim', 'Zeke', 'Ralphus', 'Canela', 'Gerald', 'Jeffrey', 'such',\n       'Maya', 'Mingus', 'Derek', 'Roscoe', 'Waffles', 'Jimbo', 'Maisey',\n       'Lilly', 'Earl', 'Lola', 'Kevin', 'Yogi', 'Noah', 'Bella',\n       'Grizzwald', 'Rusty', 'Gus', 'Stanley', 'Alfy', 'Koko', 'Rey',\n       'Gary', 'a', 'Elliot', 'Louis', 'Jesse', 'Romeo', 'Bailey',\n       'Duddles', 'Jack', 'Emmy', 'Steven', 'Beau', 'Snoopy', 'Shadow',\n       'Terrance', 'Aja', 'Penny', 'Dante', 'Nelly', 'Ginger', 'Benedict',\n       'Venti', 'Goose', 'Nugget', 'Cash', 'Coco', 'Jed', 'Sebastian',\n       'Walter', 'Sierra', 'Monkey', 'Harry', 'Kody', 'Lassie', 'Rover',\n       'Napolean', 'Dawn', 'Boomer', 'Cody', 'Rumble', 'Clifford',\n       'quite', 'Dewey', 'Scout', 'Gizmo', 'Cooper', 'Harold', 'Shikha',\n       'Jamesy', 'Lili', 'Sammy', 'Meatball', 'Paisley', 'Albus',\n       'Neptune', 'Quinn', 'Belle', 'Zooey', 'Dave', 'Jersey', 'Hobbes',\n       'Burt', 'Lorenzo', 'Carl', 'Jordy', 'Milky', 'Trooper', 'Winston',\n       'Sophie', 'Wyatt', 'Rosie', 'Thor', 'Oscar', 'Luna', 'Callie',\n       'Cermet', 'George', 'Marlee', 'Arya', 'Einstein', 'Alice',\n       'Rumpole', 'Benny', 'Aspen', 'Jarod', 'Wiggles', 'General',\n       'Sailor', 'Astrid', 'Iggy', 'Snoop', 'Kyle', 'Leo', 'Riley',\n       'Gidget', 'Noosh', 'Odin', 'Jerry', 'Charlie', 'Georgie', 'Rontu',\n       'Cannon', 'Furzey', 'Daisy', 'Tuck', 'Barney', 'Vixen', 'Jarvis',\n       'Mimosa', 'Pickles', 'Bungalo', 'Brady', 'Margo', 'Sadie', 'Hank',\n       'Tycho', 'Stephan', 'Indie', 'Winnie', 'Bentley', 'Ken', 'Max',\n       'Maddie', 'Pipsy', 'Monty', 'Sojourner', 'Odie', 'Arlo', 'Sunny',\n       'Vincent', 'Lucy', 'Clark', 'Mookie', 'Meera', 'Buddy', 'Ava',\n       'Rory', 'Eli', 'Ash', 'Tucker', 'Tobi', 'Chester', 'Wilson',\n       'Sunshine', 'Lipton', 'Gabby', 'Bronte', 'Poppy', 'Rhino',\n       'Willow', 'not', 'Orion', 'Eevee', 'Smiley', 'Logan', 'Moreton',\n       'Klein', 'Miguel', 'Emanuel', 'Kuyu', 'Dutch', 'Pete', 'Scooter',\n       'Reggie', 'Kyro', 'Samson', 'Loki', 'Mia', 'Malcolm', 'Dexter',\n       'Alfie', 'Fiona', 'one', 'Mutt', 'Bear', 'Doobert', 'Beebop',\n       'Alexander', 'Sailer', 'Brutus', 'Kona', 'Boots', 'Ralphie',\n       'Phil', 'Cupid', 'Pawnd', 'Pilot', 'Ike', 'Mo', 'Toby', 'Sweet',\n       'Pablo', 'Nala', 'Balto', 'Crawford', 'Gabe', 'Mattie', 'Jimison',\n       'Hercules', 'Duchess', 'Harlso', 'Sampson', 'Sundance', 'Luca',\n       'Flash', 'Finn', 'Peaches', 'Howie', 'Jazzy', 'Anna', 'Bo',\n       'Seamus', 'Wafer', 'Chelsea', 'Tom', 'Moose', 'Florence', 'Autumn',\n       'Dido', 'Eugene', 'Herschel', 'Strudel', 'Tebow', 'Chloe', 'Betty',\n       'Timber', 'Binky', 'Dudley', 'Comet', 'Larry', 'Levi', 'Akumi',\n       'Titan', 'Olivia', 'Alf', 'Oshie', 'Bruce', 'Chubbs', 'Sky',\n       'Atlas', 'Eleanor', 'Layla', 'Rocky', 'Baron', 'Tyr', 'Bauer',\n       'Swagger', 'Brandi', 'Mary', 'Moe', 'Halo', 'Augie', 'Craig',\n       'Sam', 'Hunter', 'Pavlov', 'Maximus', 'Wallace', 'Ito', 'Milo',\n       'Ollie', 'Cali', 'Lennon', 'incredibly', 'Major', 'Duke',\n       'Reginald', 'Sansa', 'Shooter', 'Django', 'Diogi', 'Sonny',\n       'Philbert', 'Marley', 'Severus', 'Ronnie', 'Anakin', 'Bones',\n       'Mauve', 'Chef', 'Doc', 'Sobe', 'Longfellow', 'Mister', 'Iroh',\n       'Baloo', 'Stubert', 'Paull', 'Timison', 'Davey', 'Pancake',\n       'Tyrone', 'Snicku', 'Ruby', 'Brody', 'Rizzy', 'Mack', 'Butter',\n       'Nimbus', 'Laika', 'Dobby', 'Juno', 'Maude', 'Lily', 'Newt',\n       'Benji', 'Nida', 'Robin', 'Monster', 'BeBe', 'Remus', 'Mabel',\n       'Misty', 'Happy', 'Mosby', 'Maggie', 'Leela', 'Ralphy', 'Brownie',\n       'Meyer', 'Stella', 'mad', 'Frank', 'Tonks', 'Lincoln', 'Oakley',\n       'Dale', 'Rizzo', 'Arnie', 'Pinot', 'Dallas', 'Hero', 'Frankie',\n       'Stormy', 'Mairi', 'Loomis', 'Godi', 'Kenny', 'Deacon', 'Timmy',\n       'Harper', 'Chipson', 'Combo', 'Dash', 'Bell', 'Hurley', 'Jay',\n       'Mya', 'Strider', 'an', 'Wesley', 'Solomon', 'Huck', 'very', 'O',\n       'Blue', 'Finley', 'Sprinkles', 'Heinrich', 'Shakespeare', 'Fizz',\n       'Chip', 'Grey', 'Roosevelt', 'Gromit', 'Willem', 'Dakota', 'Dixie',\n       'Al', 'Jackson', 'just', 'Carbon', 'DonDon', 'Kirby', 'Lou',\n       'Nollie', 'Chevy', 'Tito', 'Louie', 'Rupert', 'Rufus', 'Brudge',\n       'Shadoe', 'Colby', 'Angel', 'Brat', 'Tove', 'my', 'Aubie', 'Kota',\n       'Eve', 'Glenn', 'Shelby', 'Sephie', 'Bonaparte', 'Albert',\n       'Wishes', 'Rose', 'Theo', 'Rocco', 'Fido', 'Emma', 'Spencer',\n       'Lilli', 'Boston', 'Brandonald', 'Corey', 'Leonard', 'Chompsky',\n       'Beckham', 'Devón', 'Gert', 'Watson', 'Rubio', 'Keith', 'Dex',\n       'Carly', 'Ace', 'Tayzie', 'Grizzie', 'Fred', 'Gilbert', 'Zoe',\n       'Stewie', 'Calvin', 'Lilah', 'Spanky', 'Jameson', 'Piper',\n       'Atticus', 'Blu', 'Dietrich', 'Divine', 'Tripp', 'his', 'Cora',\n       'Huxley', 'Keurig', 'Bookstore', 'Linus', 'Abby', 'Shaggy',\n       'Shiloh', 'Gustav', 'Arlen', 'Percy', 'Lenox', 'Sugar', 'Harvey',\n       'Blanket', 'actually', 'Geno', 'Stark', 'Beya', 'Kilo', 'Kayla',\n       'Maxaroni', 'Doug', 'Edmund', 'Aqua', 'Theodore', 'Chase',\n       'getting', 'Rorie', 'Simba', 'Charles', 'Bayley', 'Axel',\n       'Storkson', 'Remy', 'Chadrick', 'Kellogg', 'Buckley', 'Livvie',\n       'Terry', 'Hermione', 'Ralpher', 'Aldrick', 'this', 'unacceptable',\n       'Rooney', 'Crystal', 'Ziva', 'Stefan', 'Pupcasso', 'Puff',\n       'Flurpson', 'Coleman', 'Enchilada', 'Raymond', 'all', 'Rueben',\n       'Cilantro', 'Karll', 'Sprout', 'Blitz', 'Bloop', 'Lillie',\n       'Ashleigh', 'Kreggory', 'Sarge', 'Luther', 'Ivar', 'Jangle',\n       'Schnitzel', 'Panda', 'Berkeley', 'Ralphé', 'Charleson', 'Clyde',\n       'Harnold', 'Sid', 'Pippa', 'Otis', 'Carper', 'Bowie',\n       'Alexanderson', 'Suki', 'Barclay', 'Skittle', 'Ebby', 'Flávio',\n       'Smokey', 'Link', 'Jennifur', 'Ozzy', 'Bluebert', 'Stephanus',\n       'Bubbles', 'old', 'Zeus', 'Bertson', 'Nico', 'Michelangelope',\n       'Siba', 'Calbert', 'Curtis', 'Travis', 'Thumas', 'Kanu', 'Lance',\n       'Opie', 'Kane', 'Olive', 'Chuckles', 'Staniel', 'Sora', 'Beemo',\n       'Gunner', 'infuriating', 'Lacy', 'Tater', 'Olaf', 'Cecil', 'Vince',\n       'Karma', 'Billy', 'Walker', 'Rodney', 'Klevin', 'Malikai',\n       'Bobble', 'River', 'Jebberson', 'Remington', 'Farfle', 'Jiminus',\n       'Clarkus', 'Finnegus', 'Cupcake', 'Kathmandu', 'Ellie', 'Katie',\n       'Kara', 'Adele', 'Zara', 'Ambrose', 'Jimothy', 'Bode', 'Terrenth',\n       'Reese', 'Chesterson', 'Lucia', 'Bisquick', 'Ralphson', 'Socks',\n       'Rambo', 'Rudy', 'Fiji', 'Rilo', 'Bilbo', 'Coopson', 'Yoda',\n       'Millie', 'Chet', 'Crouton', 'Daniel', 'Kaia', 'Murphy', 'Dotsy',\n       'Eazy', 'Coops', 'Fillup', 'Miley', 'Charl', 'Reagan', 'Yukon',\n       'CeCe', 'Cuddles', 'Claude', 'Jessiga', 'Carter', 'Ole', 'Pherb',\n       'Blipson', 'Reptar', 'Trevith', 'Berb', 'Bob', 'Colin', 'Brian',\n       'Oliviér', 'Grady', 'Kobe', 'Freddery', 'Bodie', 'Dunkin', 'Wally',\n       'Tupawc', 'Amber', 'Edgar', 'Teddy', 'Kingsley', 'Brockly',\n       'Richie', 'Molly', 'Vinscent', 'Cedrick', 'Hazel', 'Lolo', 'Eriq',\n       'Phred', 'the', 'Oddie', 'Maxwell', 'Geoff', 'Covach', 'Durg',\n       'Fynn', 'Ricky', 'Herald', 'Lucky', 'Ferg', 'Trip', 'Clarence',\n       'Hamrick', 'Brad', 'Pubert', 'Frönq', 'Derby', 'Lizzie', 'Ember',\n       'Blakely', 'Opal', 'Marq', 'Kramer', 'Barry', 'Gordon', 'Baxter',\n       'Mona', 'Horace', 'Crimson', 'Birf', 'Hammond', 'Lorelei', 'Marty',\n       'Brooks', 'Petrick', 'Hubertson', 'Gerbald', 'Oreo', 'Bruiser',\n       'Perry', 'Bobby', 'Jeph', 'Obi', 'Tino', 'Kulet', 'Sweets', 'Lupe',\n       'Tiger', 'Jiminy', 'Griffin', 'Banjo', 'Brandy', 'Lulu', 'Darrel',\n       'Taco', 'Joey', 'Patrick', 'Kreg', 'Todo', 'Tess', 'Ulysses',\n       'Toffee', 'Apollo', 'Asher', 'Glacier', 'Chuck', 'Champ', 'Ozzie',\n       'Griswold', 'Cheesy', 'Moofasa', 'Hector', 'Goliath', 'Kawhi',\n       'by', 'Emmie', 'Penelope', 'Willie', 'Rinna', 'Mike', 'William',\n       'Dwight', 'Evy', 'officially', 'Rascal', 'Linda', 'Tug', 'Tango',\n       'Grizz', 'Jerome', 'Crumpet', 'Jessifer', 'Izzy', 'Ralph', 'Sandy',\n       'Humphrey', 'Tassy', 'Juckson', 'Chuq', 'Tyrus', 'Karl',\n       'Godzilla', 'Vinnie', 'Kenneth', 'Herm', 'Bert', 'Striker',\n       'Donny', 'Pepper', 'Bernie', 'Buddah', 'Lenny', 'Arnold', 'Zuzu',\n       'Mollie', 'Laela', 'Tedders', 'Superpup', 'Rufio', 'Jeb', 'Rodman',\n       'Jonah', 'Chesney', 'life', 'Henry', 'Bobbay', 'Mitch', 'Kaiya',\n       'Acro', 'Aiden', 'Obie', 'Dot', 'Shnuggles', 'Kendall', 'Jeffri',\n       'Steve', 'Mac', 'Fletcher', 'Kenzie', 'Pumpkin', 'Schnozz',\n       'Gustaf', 'Cheryl', 'Ed', 'Leonidas', 'Norman', 'Caryl', 'Scott',\n       'Taz', 'Darby', 'Jackie', 'light', 'Jazz', 'Franq', 'Pippin',\n       'Rolf', 'Snickers', 'Ridley', 'Cal', 'Bradley', 'Bubba', 'Tuco',\n       'Patch', 'Mojo', 'Batdog', 'Dylan', 'space', 'Mark', 'JD',\n       'Alejandro', 'Scruffers', 'Pip', 'Julius', 'Tanner', 'Sparky',\n       'Anthony', 'Holly', 'Jett', 'Amy', 'Sage', 'Andy', 'Mason',\n       'Trigger', 'Antony', 'Creg', 'Traviss', 'Gin', 'Jeffrie', 'Danny',\n       'Ester', 'Pluto', 'Bloo', 'Edd', 'Willy', 'Herb', 'Damon',\n       'Peanut', 'Nigel', 'Butters', 'Sandra', 'Fabio', 'Randall', 'Liam',\n       'Tommy', 'Ben', 'Raphael', 'Julio', 'Andru', 'Kloey', 'Shawwn',\n       'Skye', 'Kollin', 'Ronduh', 'Billl', 'Saydee', 'Dug', 'Tessa',\n       'Sully', 'Kirk', 'Ralf', 'Clarq', 'Jaspers', 'Samsom', 'Harrison',\n       'Chaz', 'Jeremy', 'Jaycob', 'Lambeau', 'Ruffles', 'Amélie', 'Bobb',\n       'Banditt', 'Kevon', 'Winifred', 'Hanz', 'Churlie', 'Zeek',\n       'Timofy', 'Maks', 'Jomathan', 'Kallie', 'Marvin', 'Spark',\n       'Gòrdón', 'Jo', 'DayZ', 'Jareld', 'Torque', 'Ron', 'Skittles',\n       'Cleopatricia', 'Erik', 'Stu', 'Tedrick', 'Filup', 'Kial',\n       'Naphaniel', 'Dook', 'Hall', 'Philippe', 'Biden', 'Fwed',\n       'Genevieve', 'Joshwa', 'Bradlay', 'Clybe', 'Keet', 'Carll',\n       'Jockson', 'Josep', 'Lugan', 'Christoper'], dtype=object)"
     },
     "execution_count": 84,
     "metadata": {},
     "output_type": "execute_result"
    }
   ],
   "source": [
    "archive.name.unique()"
   ],
   "metadata": {
    "collapsed": false,
    "pycharm": {
     "name": "#%%\n"
    }
   }
  },
  {
   "cell_type": "code",
   "execution_count": 85,
   "outputs": [
    {
     "data": {
      "text/plain": "2356"
     },
     "execution_count": 85,
     "metadata": {},
     "output_type": "execute_result"
    }
   ],
   "source": [
    "tweet_ids = archive.tweet_id.values\n",
    "len(tweet_ids)"
   ],
   "metadata": {
    "collapsed": false,
    "pycharm": {
     "name": "#%%\n"
    }
   }
  },
  {
   "cell_type": "code",
   "execution_count": 86,
   "outputs": [
    {
     "data": {
      "text/plain": "                tweet_id  in_reply_to_status_id  in_reply_to_user_id  \\\n22    887517139158093824                    NaN                  NaN   \n56    881536004380872706                    NaN                  NaN   \n118   869988702071779329                    NaN                  NaN   \n169   859196978902773760                    NaN                  NaN   \n193   855459453768019968                    NaN                  NaN   \n...                  ...                    ...                  ...   \n2349  666051853826850816                    NaN                  NaN   \n2350  666050758794694657                    NaN                  NaN   \n2352  666044226329800704                    NaN                  NaN   \n2353  666033412701032449                    NaN                  NaN   \n2354  666029285002620928                    NaN                  NaN   \n\n                      timestamp  \\\n22    2017-07-19 03:39:09 +0000   \n56    2017-07-02 15:32:16 +0000   \n118   2017-05-31 18:47:24 +0000   \n169   2017-05-02 00:04:57 +0000   \n193   2017-04-21 16:33:22 +0000   \n...                         ...   \n2349  2015-11-16 00:35:11 +0000   \n2350  2015-11-16 00:30:50 +0000   \n2352  2015-11-16 00:04:52 +0000   \n2353  2015-11-15 23:21:54 +0000   \n2354  2015-11-15 23:05:30 +0000   \n\n                                                 source  \\\n22    <a href=\"http://twitter.com/download/iphone\" r...   \n56    <a href=\"http://twitter.com/download/iphone\" r...   \n118   <a href=\"http://twitter.com/download/iphone\" r...   \n169   <a href=\"http://twitter.com/download/iphone\" r...   \n193   <a href=\"http://twitter.com/download/iphone\" r...   \n...                                                 ...   \n2349  <a href=\"http://twitter.com/download/iphone\" r...   \n2350  <a href=\"http://twitter.com/download/iphone\" r...   \n2352  <a href=\"http://twitter.com/download/iphone\" r...   \n2353  <a href=\"http://twitter.com/download/iphone\" r...   \n2354  <a href=\"http://twitter.com/download/iphone\" r...   \n\n                                                   text  retweeted_status_id  \\\n22    I've yet to rate a Venezuelan Hover Wiener. Th...                  NaN   \n56    Here is a pupper approaching maximum borkdrive...                  NaN   \n118   RT @dog_rates: We only rate dogs. This is quit...         8.591970e+17   \n169   We only rate dogs. This is quite clearly a smo...                  NaN   \n193   Guys, we only rate dogs. This is quite clearly...                  NaN   \n...                                                 ...                  ...   \n2349  This is an odd dog. Hard on the outside but lo...                  NaN   \n2350  This is a truly beautiful English Wilson Staff...                  NaN   \n2352  This is a purebred Piers Morgan. Loves to Netf...                  NaN   \n2353  Here is a very happy pup. Big fan of well-main...                  NaN   \n2354  This is a western brown Mitsubishi terrier. Up...                  NaN   \n\n      retweeted_status_user_id retweeted_status_timestamp  \\\n22                         NaN                        NaN   \n56                         NaN                        NaN   \n118               4.196984e+09  2017-05-02 00:04:57 +0000   \n169                        NaN                        NaN   \n193                        NaN                        NaN   \n...                        ...                        ...   \n2349                       NaN                        NaN   \n2350                       NaN                        NaN   \n2352                       NaN                        NaN   \n2353                       NaN                        NaN   \n2354                       NaN                        NaN   \n\n                                          expanded_urls  rating_numerator  \\\n22    https://twitter.com/dog_rates/status/887517139...                14   \n56    https://twitter.com/dog_rates/status/881536004...                14   \n118   https://twitter.com/dog_rates/status/859196978...                12   \n169   https://twitter.com/dog_rates/status/859196978...                12   \n193   https://twitter.com/dog_rates/status/855459453...                12   \n...                                                 ...               ...   \n2349  https://twitter.com/dog_rates/status/666051853...                 2   \n2350  https://twitter.com/dog_rates/status/666050758...                10   \n2352  https://twitter.com/dog_rates/status/666044226...                 6   \n2353  https://twitter.com/dog_rates/status/666033412...                 9   \n2354  https://twitter.com/dog_rates/status/666029285...                 7   \n\n      rating_denominator   name doggo floofer  pupper puppo  \n22                    10   such  None    None    None  None  \n56                    10      a  None    None  pupper  None  \n118                   10  quite  None    None    None  None  \n169                   10  quite  None    None    None  None  \n193                   10  quite  None    None    None  None  \n...                  ...    ...   ...     ...     ...   ...  \n2349                  10     an  None    None    None  None  \n2350                  10      a  None    None    None  None  \n2352                  10      a  None    None    None  None  \n2353                  10      a  None    None    None  None  \n2354                  10      a  None    None    None  None  \n\n[109 rows x 17 columns]",
      "text/html": "<div>\n<style scoped>\n    .dataframe tbody tr th:only-of-type {\n        vertical-align: middle;\n    }\n\n    .dataframe tbody tr th {\n        vertical-align: top;\n    }\n\n    .dataframe thead th {\n        text-align: right;\n    }\n</style>\n<table border=\"1\" class=\"dataframe\">\n  <thead>\n    <tr style=\"text-align: right;\">\n      <th></th>\n      <th>tweet_id</th>\n      <th>in_reply_to_status_id</th>\n      <th>in_reply_to_user_id</th>\n      <th>timestamp</th>\n      <th>source</th>\n      <th>text</th>\n      <th>retweeted_status_id</th>\n      <th>retweeted_status_user_id</th>\n      <th>retweeted_status_timestamp</th>\n      <th>expanded_urls</th>\n      <th>rating_numerator</th>\n      <th>rating_denominator</th>\n      <th>name</th>\n      <th>doggo</th>\n      <th>floofer</th>\n      <th>pupper</th>\n      <th>puppo</th>\n    </tr>\n  </thead>\n  <tbody>\n    <tr>\n      <th>22</th>\n      <td>887517139158093824</td>\n      <td>NaN</td>\n      <td>NaN</td>\n      <td>2017-07-19 03:39:09 +0000</td>\n      <td>&lt;a href=\"http://twitter.com/download/iphone\" r...</td>\n      <td>I've yet to rate a Venezuelan Hover Wiener. Th...</td>\n      <td>NaN</td>\n      <td>NaN</td>\n      <td>NaN</td>\n      <td>https://twitter.com/dog_rates/status/887517139...</td>\n      <td>14</td>\n      <td>10</td>\n      <td>such</td>\n      <td>None</td>\n      <td>None</td>\n      <td>None</td>\n      <td>None</td>\n    </tr>\n    <tr>\n      <th>56</th>\n      <td>881536004380872706</td>\n      <td>NaN</td>\n      <td>NaN</td>\n      <td>2017-07-02 15:32:16 +0000</td>\n      <td>&lt;a href=\"http://twitter.com/download/iphone\" r...</td>\n      <td>Here is a pupper approaching maximum borkdrive...</td>\n      <td>NaN</td>\n      <td>NaN</td>\n      <td>NaN</td>\n      <td>https://twitter.com/dog_rates/status/881536004...</td>\n      <td>14</td>\n      <td>10</td>\n      <td>a</td>\n      <td>None</td>\n      <td>None</td>\n      <td>pupper</td>\n      <td>None</td>\n    </tr>\n    <tr>\n      <th>118</th>\n      <td>869988702071779329</td>\n      <td>NaN</td>\n      <td>NaN</td>\n      <td>2017-05-31 18:47:24 +0000</td>\n      <td>&lt;a href=\"http://twitter.com/download/iphone\" r...</td>\n      <td>RT @dog_rates: We only rate dogs. This is quit...</td>\n      <td>8.591970e+17</td>\n      <td>4.196984e+09</td>\n      <td>2017-05-02 00:04:57 +0000</td>\n      <td>https://twitter.com/dog_rates/status/859196978...</td>\n      <td>12</td>\n      <td>10</td>\n      <td>quite</td>\n      <td>None</td>\n      <td>None</td>\n      <td>None</td>\n      <td>None</td>\n    </tr>\n    <tr>\n      <th>169</th>\n      <td>859196978902773760</td>\n      <td>NaN</td>\n      <td>NaN</td>\n      <td>2017-05-02 00:04:57 +0000</td>\n      <td>&lt;a href=\"http://twitter.com/download/iphone\" r...</td>\n      <td>We only rate dogs. This is quite clearly a smo...</td>\n      <td>NaN</td>\n      <td>NaN</td>\n      <td>NaN</td>\n      <td>https://twitter.com/dog_rates/status/859196978...</td>\n      <td>12</td>\n      <td>10</td>\n      <td>quite</td>\n      <td>None</td>\n      <td>None</td>\n      <td>None</td>\n      <td>None</td>\n    </tr>\n    <tr>\n      <th>193</th>\n      <td>855459453768019968</td>\n      <td>NaN</td>\n      <td>NaN</td>\n      <td>2017-04-21 16:33:22 +0000</td>\n      <td>&lt;a href=\"http://twitter.com/download/iphone\" r...</td>\n      <td>Guys, we only rate dogs. This is quite clearly...</td>\n      <td>NaN</td>\n      <td>NaN</td>\n      <td>NaN</td>\n      <td>https://twitter.com/dog_rates/status/855459453...</td>\n      <td>12</td>\n      <td>10</td>\n      <td>quite</td>\n      <td>None</td>\n      <td>None</td>\n      <td>None</td>\n      <td>None</td>\n    </tr>\n    <tr>\n      <th>...</th>\n      <td>...</td>\n      <td>...</td>\n      <td>...</td>\n      <td>...</td>\n      <td>...</td>\n      <td>...</td>\n      <td>...</td>\n      <td>...</td>\n      <td>...</td>\n      <td>...</td>\n      <td>...</td>\n      <td>...</td>\n      <td>...</td>\n      <td>...</td>\n      <td>...</td>\n      <td>...</td>\n      <td>...</td>\n    </tr>\n    <tr>\n      <th>2349</th>\n      <td>666051853826850816</td>\n      <td>NaN</td>\n      <td>NaN</td>\n      <td>2015-11-16 00:35:11 +0000</td>\n      <td>&lt;a href=\"http://twitter.com/download/iphone\" r...</td>\n      <td>This is an odd dog. Hard on the outside but lo...</td>\n      <td>NaN</td>\n      <td>NaN</td>\n      <td>NaN</td>\n      <td>https://twitter.com/dog_rates/status/666051853...</td>\n      <td>2</td>\n      <td>10</td>\n      <td>an</td>\n      <td>None</td>\n      <td>None</td>\n      <td>None</td>\n      <td>None</td>\n    </tr>\n    <tr>\n      <th>2350</th>\n      <td>666050758794694657</td>\n      <td>NaN</td>\n      <td>NaN</td>\n      <td>2015-11-16 00:30:50 +0000</td>\n      <td>&lt;a href=\"http://twitter.com/download/iphone\" r...</td>\n      <td>This is a truly beautiful English Wilson Staff...</td>\n      <td>NaN</td>\n      <td>NaN</td>\n      <td>NaN</td>\n      <td>https://twitter.com/dog_rates/status/666050758...</td>\n      <td>10</td>\n      <td>10</td>\n      <td>a</td>\n      <td>None</td>\n      <td>None</td>\n      <td>None</td>\n      <td>None</td>\n    </tr>\n    <tr>\n      <th>2352</th>\n      <td>666044226329800704</td>\n      <td>NaN</td>\n      <td>NaN</td>\n      <td>2015-11-16 00:04:52 +0000</td>\n      <td>&lt;a href=\"http://twitter.com/download/iphone\" r...</td>\n      <td>This is a purebred Piers Morgan. Loves to Netf...</td>\n      <td>NaN</td>\n      <td>NaN</td>\n      <td>NaN</td>\n      <td>https://twitter.com/dog_rates/status/666044226...</td>\n      <td>6</td>\n      <td>10</td>\n      <td>a</td>\n      <td>None</td>\n      <td>None</td>\n      <td>None</td>\n      <td>None</td>\n    </tr>\n    <tr>\n      <th>2353</th>\n      <td>666033412701032449</td>\n      <td>NaN</td>\n      <td>NaN</td>\n      <td>2015-11-15 23:21:54 +0000</td>\n      <td>&lt;a href=\"http://twitter.com/download/iphone\" r...</td>\n      <td>Here is a very happy pup. Big fan of well-main...</td>\n      <td>NaN</td>\n      <td>NaN</td>\n      <td>NaN</td>\n      <td>https://twitter.com/dog_rates/status/666033412...</td>\n      <td>9</td>\n      <td>10</td>\n      <td>a</td>\n      <td>None</td>\n      <td>None</td>\n      <td>None</td>\n      <td>None</td>\n    </tr>\n    <tr>\n      <th>2354</th>\n      <td>666029285002620928</td>\n      <td>NaN</td>\n      <td>NaN</td>\n      <td>2015-11-15 23:05:30 +0000</td>\n      <td>&lt;a href=\"http://twitter.com/download/iphone\" r...</td>\n      <td>This is a western brown Mitsubishi terrier. Up...</td>\n      <td>NaN</td>\n      <td>NaN</td>\n      <td>NaN</td>\n      <td>https://twitter.com/dog_rates/status/666029285...</td>\n      <td>7</td>\n      <td>10</td>\n      <td>a</td>\n      <td>None</td>\n      <td>None</td>\n      <td>None</td>\n      <td>None</td>\n    </tr>\n  </tbody>\n</table>\n<p>109 rows × 17 columns</p>\n</div>"
     },
     "execution_count": 86,
     "metadata": {},
     "output_type": "execute_result"
    }
   ],
   "source": [
    "archive[archive.name.str.islower()]"
   ],
   "metadata": {
    "collapsed": false,
    "pycharm": {
     "name": "#%%\n"
    }
   }
  },
  {
   "cell_type": "code",
   "execution_count": 87,
   "outputs": [
    {
     "data": {
      "text/plain": "None        745\na            55\nCharlie      12\nLucy         11\nCooper       11\n           ... \nEvy           1\nSiba          1\nSobe          1\nGodi          1\nFletcher      1\nName: name, Length: 957, dtype: int64"
     },
     "execution_count": 87,
     "metadata": {},
     "output_type": "execute_result"
    }
   ],
   "source": [
    "archive.name.value_counts()"
   ],
   "metadata": {
    "collapsed": false,
    "pycharm": {
     "name": "#%%\n"
    }
   }
  },
  {
   "cell_type": "code",
   "execution_count": 88,
   "outputs": [
    {
     "data": {
      "text/plain": "               tweet_id  in_reply_to_status_id  in_reply_to_user_id  \\\n45   883482846933004288                    NaN                  NaN   \n315  835152434251116546                    NaN                  NaN   \n605  798576900688019456                    NaN                  NaN   \n730  781661882474196992                    NaN                  NaN   \n765  777885040357281792                    NaN                  NaN   \n883  760252756032651264                    NaN                  NaN   \n912  757596066325864448                    NaN                  NaN   \n956  751583847268179968                    NaN                  NaN   \n\n                     timestamp  \\\n45   2017-07-08 00:28:19 +0000   \n315  2017-02-24 15:40:31 +0000   \n605  2016-11-15 17:22:24 +0000   \n730  2016-09-30 01:08:10 +0000   \n765  2016-09-19 15:00:20 +0000   \n883  2016-08-01 23:15:56 +0000   \n912  2016-07-25 15:19:12 +0000   \n956  2016-07-09 01:08:47 +0000   \n\n                                                source  \\\n45   <a href=\"http://twitter.com/download/iphone\" r...   \n315  <a href=\"http://twitter.com/download/iphone\" r...   \n605  <a href=\"http://twitter.com/download/iphone\" r...   \n730  <a href=\"http://twitter.com/download/iphone\" r...   \n765  <a href=\"http://twitter.com/download/iphone\" r...   \n883  <a href=\"http://twitter.com/download/iphone\" r...   \n912  <a href=\"http://twitter.com/download/iphone\" r...   \n956  <a href=\"http://twitter.com/download/iphone\" r...   \n\n                                                  text  retweeted_status_id  \\\n45   This is Bella. She hopes her smile made you sm...                  NaN   \n315  When you're so blinded by your systematic plag...                  NaN   \n605  RT @dog_rates: Not familiar with this breed. N...         6.661041e+17   \n730  Who keeps sending in pictures without dogs in ...                  NaN   \n765  This is Wesley. He's clearly trespassing. Seem...                  NaN   \n883  This is Fido. He can tell the weather. Not goo...                  NaN   \n912  Here's another picture without a dog in it. Id...                  NaN   \n956  Please stop sending it pictures that don't eve...                  NaN   \n\n     retweeted_status_user_id retweeted_status_timestamp  \\\n45                        NaN                        NaN   \n315                       NaN                        NaN   \n605              4.196984e+09  2015-11-16 04:02:55 +0000   \n730                       NaN                        NaN   \n765                       NaN                        NaN   \n883                       NaN                        NaN   \n912                       NaN                        NaN   \n956                       NaN                        NaN   \n\n                                         expanded_urls  rating_numerator  \\\n45   https://twitter.com/dog_rates/status/883482846...                 5   \n315  https://twitter.com/dog_rates/status/835152434...                 0   \n605  https://twitter.com/dog_rates/status/666104133...                 1   \n730  https://twitter.com/dog_rates/status/781661882...                 5   \n765  https://twitter.com/dog_rates/status/777885040...                 3   \n883  https://twitter.com/dog_rates/status/760252756...                 4   \n912  https://twitter.com/dog_rates/status/757596066...                 4   \n956  https://twitter.com/dog_rates/status/751583847...                 5   \n\n     rating_denominator    name  doggo floofer  pupper puppo  \n45                   10   Bella   None    None    None  None  \n315                  10    None   None    None    None  None  \n605                  10    None   None    None    None  None  \n730                  10    None   None    None    None  None  \n765                  10  Wesley   None    None    None  None  \n883                  10    Fido   None    None    None  None  \n912                  10    None   None    None    None  None  \n956                  10    None  doggo    None  pupper  None  ",
      "text/html": "<div>\n<style scoped>\n    .dataframe tbody tr th:only-of-type {\n        vertical-align: middle;\n    }\n\n    .dataframe tbody tr th {\n        vertical-align: top;\n    }\n\n    .dataframe thead th {\n        text-align: right;\n    }\n</style>\n<table border=\"1\" class=\"dataframe\">\n  <thead>\n    <tr style=\"text-align: right;\">\n      <th></th>\n      <th>tweet_id</th>\n      <th>in_reply_to_status_id</th>\n      <th>in_reply_to_user_id</th>\n      <th>timestamp</th>\n      <th>source</th>\n      <th>text</th>\n      <th>retweeted_status_id</th>\n      <th>retweeted_status_user_id</th>\n      <th>retweeted_status_timestamp</th>\n      <th>expanded_urls</th>\n      <th>rating_numerator</th>\n      <th>rating_denominator</th>\n      <th>name</th>\n      <th>doggo</th>\n      <th>floofer</th>\n      <th>pupper</th>\n      <th>puppo</th>\n    </tr>\n  </thead>\n  <tbody>\n    <tr>\n      <th>45</th>\n      <td>883482846933004288</td>\n      <td>NaN</td>\n      <td>NaN</td>\n      <td>2017-07-08 00:28:19 +0000</td>\n      <td>&lt;a href=\"http://twitter.com/download/iphone\" r...</td>\n      <td>This is Bella. She hopes her smile made you sm...</td>\n      <td>NaN</td>\n      <td>NaN</td>\n      <td>NaN</td>\n      <td>https://twitter.com/dog_rates/status/883482846...</td>\n      <td>5</td>\n      <td>10</td>\n      <td>Bella</td>\n      <td>None</td>\n      <td>None</td>\n      <td>None</td>\n      <td>None</td>\n    </tr>\n    <tr>\n      <th>315</th>\n      <td>835152434251116546</td>\n      <td>NaN</td>\n      <td>NaN</td>\n      <td>2017-02-24 15:40:31 +0000</td>\n      <td>&lt;a href=\"http://twitter.com/download/iphone\" r...</td>\n      <td>When you're so blinded by your systematic plag...</td>\n      <td>NaN</td>\n      <td>NaN</td>\n      <td>NaN</td>\n      <td>https://twitter.com/dog_rates/status/835152434...</td>\n      <td>0</td>\n      <td>10</td>\n      <td>None</td>\n      <td>None</td>\n      <td>None</td>\n      <td>None</td>\n      <td>None</td>\n    </tr>\n    <tr>\n      <th>605</th>\n      <td>798576900688019456</td>\n      <td>NaN</td>\n      <td>NaN</td>\n      <td>2016-11-15 17:22:24 +0000</td>\n      <td>&lt;a href=\"http://twitter.com/download/iphone\" r...</td>\n      <td>RT @dog_rates: Not familiar with this breed. N...</td>\n      <td>6.661041e+17</td>\n      <td>4.196984e+09</td>\n      <td>2015-11-16 04:02:55 +0000</td>\n      <td>https://twitter.com/dog_rates/status/666104133...</td>\n      <td>1</td>\n      <td>10</td>\n      <td>None</td>\n      <td>None</td>\n      <td>None</td>\n      <td>None</td>\n      <td>None</td>\n    </tr>\n    <tr>\n      <th>730</th>\n      <td>781661882474196992</td>\n      <td>NaN</td>\n      <td>NaN</td>\n      <td>2016-09-30 01:08:10 +0000</td>\n      <td>&lt;a href=\"http://twitter.com/download/iphone\" r...</td>\n      <td>Who keeps sending in pictures without dogs in ...</td>\n      <td>NaN</td>\n      <td>NaN</td>\n      <td>NaN</td>\n      <td>https://twitter.com/dog_rates/status/781661882...</td>\n      <td>5</td>\n      <td>10</td>\n      <td>None</td>\n      <td>None</td>\n      <td>None</td>\n      <td>None</td>\n      <td>None</td>\n    </tr>\n    <tr>\n      <th>765</th>\n      <td>777885040357281792</td>\n      <td>NaN</td>\n      <td>NaN</td>\n      <td>2016-09-19 15:00:20 +0000</td>\n      <td>&lt;a href=\"http://twitter.com/download/iphone\" r...</td>\n      <td>This is Wesley. He's clearly trespassing. Seem...</td>\n      <td>NaN</td>\n      <td>NaN</td>\n      <td>NaN</td>\n      <td>https://twitter.com/dog_rates/status/777885040...</td>\n      <td>3</td>\n      <td>10</td>\n      <td>Wesley</td>\n      <td>None</td>\n      <td>None</td>\n      <td>None</td>\n      <td>None</td>\n    </tr>\n    <tr>\n      <th>883</th>\n      <td>760252756032651264</td>\n      <td>NaN</td>\n      <td>NaN</td>\n      <td>2016-08-01 23:15:56 +0000</td>\n      <td>&lt;a href=\"http://twitter.com/download/iphone\" r...</td>\n      <td>This is Fido. He can tell the weather. Not goo...</td>\n      <td>NaN</td>\n      <td>NaN</td>\n      <td>NaN</td>\n      <td>https://twitter.com/dog_rates/status/760252756...</td>\n      <td>4</td>\n      <td>10</td>\n      <td>Fido</td>\n      <td>None</td>\n      <td>None</td>\n      <td>None</td>\n      <td>None</td>\n    </tr>\n    <tr>\n      <th>912</th>\n      <td>757596066325864448</td>\n      <td>NaN</td>\n      <td>NaN</td>\n      <td>2016-07-25 15:19:12 +0000</td>\n      <td>&lt;a href=\"http://twitter.com/download/iphone\" r...</td>\n      <td>Here's another picture without a dog in it. Id...</td>\n      <td>NaN</td>\n      <td>NaN</td>\n      <td>NaN</td>\n      <td>https://twitter.com/dog_rates/status/757596066...</td>\n      <td>4</td>\n      <td>10</td>\n      <td>None</td>\n      <td>None</td>\n      <td>None</td>\n      <td>None</td>\n      <td>None</td>\n    </tr>\n    <tr>\n      <th>956</th>\n      <td>751583847268179968</td>\n      <td>NaN</td>\n      <td>NaN</td>\n      <td>2016-07-09 01:08:47 +0000</td>\n      <td>&lt;a href=\"http://twitter.com/download/iphone\" r...</td>\n      <td>Please stop sending it pictures that don't eve...</td>\n      <td>NaN</td>\n      <td>NaN</td>\n      <td>NaN</td>\n      <td>https://twitter.com/dog_rates/status/751583847...</td>\n      <td>5</td>\n      <td>10</td>\n      <td>None</td>\n      <td>doggo</td>\n      <td>None</td>\n      <td>pupper</td>\n      <td>None</td>\n    </tr>\n  </tbody>\n</table>\n</div>"
     },
     "execution_count": 88,
     "metadata": {},
     "output_type": "execute_result"
    }
   ],
   "source": [
    "#numerator check\n",
    "archive[archive.rating_numerator<=5].loc[0:1000, :]"
   ],
   "metadata": {
    "collapsed": false,
    "pycharm": {
     "name": "#%%\n"
    }
   }
  },
  {
   "cell_type": "code",
   "execution_count": 89,
   "outputs": [
    {
     "data": {
      "text/plain": "                tweet_id  in_reply_to_status_id  in_reply_to_user_id  \\\n2013  672231046314901505                    NaN                  NaN   \n2026  671879137494245376                    NaN                  NaN   \n2038  671550332464455680           6.715449e+17         4.196984e+09   \n2063  671159727754231808                    NaN                  NaN   \n2070  671122204919246848                    NaN                  NaN   \n2076  670838202509447168                    NaN                  NaN   \n2079  670826280409919488                    NaN                  NaN   \n2091  670783437142401025                    NaN                  NaN   \n2092  670782429121134593                    NaN                  NaN   \n2109  670449342516494336                    NaN                  NaN   \n2134  670069087419133954                    NaN                  NaN   \n2136  670055038660800512                    NaN                  NaN   \n2139  670037189829525505                    NaN                  NaN   \n2153  669661792646373376                    NaN                  NaN   \n2181  668994913074286592                    NaN                  NaN   \n2183  668989615043424256                    NaN                  NaN   \n2186  668981893510119424                    NaN                  NaN   \n2202  668643542311546881                    NaN                  NaN   \n2206  668631377374486528                    NaN                  NaN   \n2222  668466899341221888                    NaN                  NaN   \n2237  668142349051129856                    NaN                  NaN   \n2239  667937095915278337                    NaN                  NaN   \n2242  667911425562669056                    NaN                  NaN   \n2246  667878741721415682                    NaN                  NaN   \n2260  667550882905632768                    NaN                  NaN   \n2261  667549055577362432                    NaN                  NaN   \n2288  667176164155375616                    NaN                  NaN   \n2305  666837028449972224                    NaN                  NaN   \n2310  666786068205871104                    NaN                  NaN   \n2312  666776908487630848                    NaN                  NaN   \n2316  666649482315059201                    NaN                  NaN   \n2326  666411507551481857                    NaN                  NaN   \n2334  666293911632134144                    NaN                  NaN   \n2335  666287406224695296                    NaN                  NaN   \n2338  666104133288665088                    NaN                  NaN   \n2349  666051853826850816                    NaN                  NaN   \n2351  666049248165822465                    NaN                  NaN   \n\n                      timestamp  \\\n2013  2015-12-03 01:49:05 +0000   \n2026  2015-12-02 02:30:43 +0000   \n2038  2015-12-01 04:44:10 +0000   \n2063  2015-11-30 02:52:03 +0000   \n2070  2015-11-30 00:22:57 +0000   \n2076  2015-11-29 05:34:25 +0000   \n2079  2015-11-29 04:47:03 +0000   \n2091  2015-11-29 01:56:48 +0000   \n2092  2015-11-29 01:52:48 +0000   \n2109  2015-11-28 03:49:14 +0000   \n2134  2015-11-27 02:38:14 +0000   \n2136  2015-11-27 01:42:24 +0000   \n2139  2015-11-27 00:31:29 +0000   \n2153  2015-11-25 23:39:47 +0000   \n2181  2015-11-24 03:29:51 +0000   \n2183  2015-11-24 03:08:48 +0000   \n2186  2015-11-24 02:38:07 +0000   \n2202  2015-11-23 04:13:37 +0000   \n2206  2015-11-23 03:25:17 +0000   \n2222  2015-11-22 16:31:42 +0000   \n2237  2015-11-21 19:02:04 +0000   \n2239  2015-11-21 05:26:27 +0000   \n2242  2015-11-21 03:44:27 +0000   \n2246  2015-11-21 01:34:35 +0000   \n2260  2015-11-20 03:51:47 +0000   \n2261  2015-11-20 03:44:31 +0000   \n2288  2015-11-19 03:02:47 +0000   \n2305  2015-11-18 04:35:11 +0000   \n2310  2015-11-18 01:12:41 +0000   \n2312  2015-11-18 00:36:17 +0000   \n2316  2015-11-17 16:09:56 +0000   \n2326  2015-11-17 00:24:19 +0000   \n2334  2015-11-16 16:37:02 +0000   \n2335  2015-11-16 16:11:11 +0000   \n2338  2015-11-16 04:02:55 +0000   \n2349  2015-11-16 00:35:11 +0000   \n2351  2015-11-16 00:24:50 +0000   \n\n                                                 source  \\\n2013  <a href=\"http://twitter.com/download/iphone\" r...   \n2026  <a href=\"http://twitter.com/download/iphone\" r...   \n2038  <a href=\"http://twitter.com/download/iphone\" r...   \n2063  <a href=\"http://twitter.com/download/iphone\" r...   \n2070  <a href=\"http://twitter.com/download/iphone\" r...   \n2076  <a href=\"http://twitter.com/download/iphone\" r...   \n2079  <a href=\"http://twitter.com/download/iphone\" r...   \n2091  <a href=\"http://twitter.com/download/iphone\" r...   \n2092  <a href=\"http://twitter.com/download/iphone\" r...   \n2109  <a href=\"http://twitter.com/download/iphone\" r...   \n2134  <a href=\"http://twitter.com/download/iphone\" r...   \n2136  <a href=\"http://twitter.com/download/iphone\" r...   \n2139  <a href=\"http://twitter.com/download/iphone\" r...   \n2153  <a href=\"http://twitter.com/download/iphone\" r...   \n2181  <a href=\"http://twitter.com/download/iphone\" r...   \n2183  <a href=\"http://twitter.com/download/iphone\" r...   \n2186  <a href=\"http://twitter.com/download/iphone\" r...   \n2202  <a href=\"http://twitter.com/download/iphone\" r...   \n2206  <a href=\"http://twitter.com/download/iphone\" r...   \n2222  <a href=\"http://twitter.com/download/iphone\" r...   \n2237  <a href=\"http://twitter.com/download/iphone\" r...   \n2239  <a href=\"http://twitter.com/download/iphone\" r...   \n2242  <a href=\"http://twitter.com/download/iphone\" r...   \n2246  <a href=\"http://twitter.com/download/iphone\" r...   \n2260  <a href=\"http://twitter.com\" rel=\"nofollow\">Tw...   \n2261  <a href=\"http://twitter.com\" rel=\"nofollow\">Tw...   \n2288  <a href=\"http://twitter.com/download/iphone\" r...   \n2305  <a href=\"http://twitter.com/download/iphone\" r...   \n2310  <a href=\"http://twitter.com/download/iphone\" r...   \n2312  <a href=\"http://twitter.com/download/iphone\" r...   \n2316  <a href=\"http://twitter.com/download/iphone\" r...   \n2326  <a href=\"http://twitter.com/download/iphone\" r...   \n2334  <a href=\"http://twitter.com/download/iphone\" r...   \n2335  <a href=\"http://twitter.com/download/iphone\" r...   \n2338  <a href=\"http://twitter.com/download/iphone\" r...   \n2349  <a href=\"http://twitter.com/download/iphone\" r...   \n2351  <a href=\"http://twitter.com/download/iphone\" r...   \n\n                                                   text  retweeted_status_id  \\\n2013  Exotic underwater dog here. Very shy. Wont ret...                  NaN   \n2026  This is Brad. He's a chubby lil pup. Doesn't r...                  NaN   \n2038  After 22 minutes of careful deliberation this ...                  NaN   \n2063  This is Anthony. He just finished up his maste...                  NaN   \n2070  Two miniature golden retrievers here. Webbed p...                  NaN   \n2076  Pink dogs here. Unreasonably long necks. Left ...                  NaN   \n2079  Scary dog here. Too many legs. Extra tail. Not...                  NaN   \n2091  Flamboyant pup here. Probably poisonous. Won't...                  NaN   \n2092  This dude slaps your girl's ass what do you do...                  NaN   \n2109  Vibrant dog here. Fabulous tail. Only 2 legs t...                  NaN   \n2134  This is Randall. He's from Chernobyl. Built pl...                  NaN   \n2136  This is Tommy. He's a cool dog. Hard not to st...                  NaN   \n2139  Awesome dog here. Not sure where it is tho. Sp...                  NaN   \n2153  This is a brave dog. Excellent free climber. T...                  NaN   \n2181  Two gorgeous pups here. Both have cute fake ho...                  NaN   \n2183  This is Bernie. He's taking his Halloween cost...                  NaN   \n2186  Unique dog here. Oddly shaped tail. Long pink ...                  NaN   \n2202  Fascinating dog here. Loves beach. Oddly long ...                  NaN   \n2206  Meet Zeek. He is a grey Cumulonimbus. Zeek is ...                  NaN   \n2222  Here is a mother dog caring for her pups. Snaz...                  NaN   \n2237  This lil pup is Oliver. Hops around. Has wings...                  NaN   \n2239  This dog resembles a baked potato. Bed looks u...                  NaN   \n2242  Wow. Armored dog here. Ready for battle. Face ...                  NaN   \n2246  This is Tedrick. He lives on the edge. Needs s...                  NaN   \n2260  RT @dogratingrating: Unoriginal idea. Blatant ...         6.675484e+17   \n2261  Never seen dog like this. Breathes heavy. Tilt...                  NaN   \n2288  These are strange dogs. All have toupees. Long...                  NaN   \n2305  My goodness. Very rare dog here. Large. Tail d...                  NaN   \n2310  Unfamiliar with this breed. Ears pointy af. Wo...                  NaN   \n2312  This is Josep. He is a Rye Manganese mix. Can ...                  NaN   \n2316  Cool dog. Enjoys couch. Low monotone bark. Ver...                  NaN   \n2326  This is quite the dog. Gets really excited whe...                  NaN   \n2334  This is a funny dog. Weird toes. Won't come do...                  NaN   \n2335  This is an Albanian 3 1/2 legged  Episcopalian...                  NaN   \n2338  Not familiar with this breed. No tail (weird)....                  NaN   \n2349  This is an odd dog. Hard on the outside but lo...                  NaN   \n2351  Here we have a 1949 1st generation vulpix. Enj...                  NaN   \n\n      retweeted_status_user_id retweeted_status_timestamp  \\\n2013                       NaN                        NaN   \n2026                       NaN                        NaN   \n2038                       NaN                        NaN   \n2063                       NaN                        NaN   \n2070                       NaN                        NaN   \n2076                       NaN                        NaN   \n2079                       NaN                        NaN   \n2091                       NaN                        NaN   \n2092                       NaN                        NaN   \n2109                       NaN                        NaN   \n2134                       NaN                        NaN   \n2136                       NaN                        NaN   \n2139                       NaN                        NaN   \n2153                       NaN                        NaN   \n2181                       NaN                        NaN   \n2183                       NaN                        NaN   \n2186                       NaN                        NaN   \n2202                       NaN                        NaN   \n2206                       NaN                        NaN   \n2222                       NaN                        NaN   \n2237                       NaN                        NaN   \n2239                       NaN                        NaN   \n2242                       NaN                        NaN   \n2246                       NaN                        NaN   \n2260              4.296832e+09  2015-11-20 03:41:59 +0000   \n2261                       NaN                        NaN   \n2288                       NaN                        NaN   \n2305                       NaN                        NaN   \n2310                       NaN                        NaN   \n2312                       NaN                        NaN   \n2316                       NaN                        NaN   \n2326                       NaN                        NaN   \n2334                       NaN                        NaN   \n2335                       NaN                        NaN   \n2338                       NaN                        NaN   \n2349                       NaN                        NaN   \n2351                       NaN                        NaN   \n\n                                          expanded_urls  rating_numerator  \\\n2013  https://twitter.com/dog_rates/status/672231046...                 5   \n2026  https://twitter.com/dog_rates/status/671879137...                 5   \n2038                                                NaN                 1   \n2063  https://twitter.com/dog_rates/status/671159727...                 5   \n2070  https://twitter.com/dog_rates/status/671122204...                 4   \n2076  https://twitter.com/dog_rates/status/670838202...                 4   \n2079  https://twitter.com/dog_rates/status/670826280...                 2   \n2091  https://twitter.com/dog_rates/status/670783437...                 1   \n2092  https://twitter.com/dog_rates/status/670782429...                 5   \n2109  https://twitter.com/dog_rates/status/670449342...                 5   \n2134  https://twitter.com/dog_rates/status/670069087...                 5   \n2136  https://twitter.com/dog_rates/status/670055038...                 3   \n2139  https://twitter.com/dog_rates/status/670037189...                 5   \n2153  https://twitter.com/dog_rates/status/669661792...                 5   \n2181  https://twitter.com/dog_rates/status/668994913...                 5   \n2183  https://twitter.com/dog_rates/status/668989615...                 3   \n2186  https://twitter.com/dog_rates/status/668981893...                 4   \n2202  https://twitter.com/dog_rates/status/668643542...                 3   \n2206  https://twitter.com/dog_rates/status/668631377...                 5   \n2222  https://twitter.com/dog_rates/status/668466899...                 4   \n2237  https://twitter.com/dog_rates/status/668142349...                 2   \n2239  https://twitter.com/dog_rates/status/667937095...                 3   \n2242  https://twitter.com/dog_rates/status/667911425...                 5   \n2246  https://twitter.com/dog_rates/status/667878741...                 2   \n2260  https://twitter.com/dogratingrating/status/667...                 5   \n2261  https://twitter.com/dog_rates/status/667549055...                 1   \n2288  https://twitter.com/dog_rates/status/667176164...                 4   \n2305  https://twitter.com/dog_rates/status/666837028...                 3   \n2310  https://twitter.com/dog_rates/status/666786068...                 2   \n2312  https://twitter.com/dog_rates/status/666776908...                 5   \n2316  https://twitter.com/dog_rates/status/666649482...                 4   \n2326  https://twitter.com/dog_rates/status/666411507...                 2   \n2334  https://twitter.com/dog_rates/status/666293911...                 3   \n2335  https://twitter.com/dog_rates/status/666287406...                 1   \n2338  https://twitter.com/dog_rates/status/666104133...                 1   \n2349  https://twitter.com/dog_rates/status/666051853...                 2   \n2351  https://twitter.com/dog_rates/status/666049248...                 5   \n\n      rating_denominator     name doggo floofer pupper puppo  \n2013                  10     None  None    None   None  None  \n2026                  10     Brad  None    None   None  None  \n2038                  10     None  None    None   None  None  \n2063                  10  Anthony  None    None   None  None  \n2070                  10     None  None    None   None  None  \n2076                  10     None  None    None   None  None  \n2079                  10     None  None    None   None  None  \n2091                  10     None  None    None   None  None  \n2092                  10     None  None    None   None  None  \n2109                  10     None  None    None   None  None  \n2134                  10  Randall  None    None   None  None  \n2136                  10    Tommy  None    None   None  None  \n2139                  10     None  None    None   None  None  \n2153                  10        a  None    None   None  None  \n2181                  10     None  None    None   None  None  \n2183                  10   Bernie  None    None   None  None  \n2186                  10     None  None    None   None  None  \n2202                  10     None  None    None   None  None  \n2206                  10     Zeek  None    None   None  None  \n2222                  10        a  None    None   None  None  \n2237                  10     None  None    None   None  None  \n2239                  10     None  None    None   None  None  \n2242                  10     None  None    None   None  None  \n2246                  10  Tedrick  None    None   None  None  \n2260                  10     None  None    None   None  None  \n2261                  10     None  None    None   None  None  \n2288                  10     None  None    None   None  None  \n2305                  10     None  None    None   None  None  \n2310                  10     None  None    None   None  None  \n2312                  10    Josep  None    None   None  None  \n2316                  10     None  None    None   None  None  \n2326                  10    quite  None    None   None  None  \n2334                  10        a  None    None   None  None  \n2335                   2       an  None    None   None  None  \n2338                  10     None  None    None   None  None  \n2349                  10       an  None    None   None  None  \n2351                  10     None  None    None   None  None  ",
      "text/html": "<div>\n<style scoped>\n    .dataframe tbody tr th:only-of-type {\n        vertical-align: middle;\n    }\n\n    .dataframe tbody tr th {\n        vertical-align: top;\n    }\n\n    .dataframe thead th {\n        text-align: right;\n    }\n</style>\n<table border=\"1\" class=\"dataframe\">\n  <thead>\n    <tr style=\"text-align: right;\">\n      <th></th>\n      <th>tweet_id</th>\n      <th>in_reply_to_status_id</th>\n      <th>in_reply_to_user_id</th>\n      <th>timestamp</th>\n      <th>source</th>\n      <th>text</th>\n      <th>retweeted_status_id</th>\n      <th>retweeted_status_user_id</th>\n      <th>retweeted_status_timestamp</th>\n      <th>expanded_urls</th>\n      <th>rating_numerator</th>\n      <th>rating_denominator</th>\n      <th>name</th>\n      <th>doggo</th>\n      <th>floofer</th>\n      <th>pupper</th>\n      <th>puppo</th>\n    </tr>\n  </thead>\n  <tbody>\n    <tr>\n      <th>2013</th>\n      <td>672231046314901505</td>\n      <td>NaN</td>\n      <td>NaN</td>\n      <td>2015-12-03 01:49:05 +0000</td>\n      <td>&lt;a href=\"http://twitter.com/download/iphone\" r...</td>\n      <td>Exotic underwater dog here. Very shy. Wont ret...</td>\n      <td>NaN</td>\n      <td>NaN</td>\n      <td>NaN</td>\n      <td>https://twitter.com/dog_rates/status/672231046...</td>\n      <td>5</td>\n      <td>10</td>\n      <td>None</td>\n      <td>None</td>\n      <td>None</td>\n      <td>None</td>\n      <td>None</td>\n    </tr>\n    <tr>\n      <th>2026</th>\n      <td>671879137494245376</td>\n      <td>NaN</td>\n      <td>NaN</td>\n      <td>2015-12-02 02:30:43 +0000</td>\n      <td>&lt;a href=\"http://twitter.com/download/iphone\" r...</td>\n      <td>This is Brad. He's a chubby lil pup. Doesn't r...</td>\n      <td>NaN</td>\n      <td>NaN</td>\n      <td>NaN</td>\n      <td>https://twitter.com/dog_rates/status/671879137...</td>\n      <td>5</td>\n      <td>10</td>\n      <td>Brad</td>\n      <td>None</td>\n      <td>None</td>\n      <td>None</td>\n      <td>None</td>\n    </tr>\n    <tr>\n      <th>2038</th>\n      <td>671550332464455680</td>\n      <td>6.715449e+17</td>\n      <td>4.196984e+09</td>\n      <td>2015-12-01 04:44:10 +0000</td>\n      <td>&lt;a href=\"http://twitter.com/download/iphone\" r...</td>\n      <td>After 22 minutes of careful deliberation this ...</td>\n      <td>NaN</td>\n      <td>NaN</td>\n      <td>NaN</td>\n      <td>NaN</td>\n      <td>1</td>\n      <td>10</td>\n      <td>None</td>\n      <td>None</td>\n      <td>None</td>\n      <td>None</td>\n      <td>None</td>\n    </tr>\n    <tr>\n      <th>2063</th>\n      <td>671159727754231808</td>\n      <td>NaN</td>\n      <td>NaN</td>\n      <td>2015-11-30 02:52:03 +0000</td>\n      <td>&lt;a href=\"http://twitter.com/download/iphone\" r...</td>\n      <td>This is Anthony. He just finished up his maste...</td>\n      <td>NaN</td>\n      <td>NaN</td>\n      <td>NaN</td>\n      <td>https://twitter.com/dog_rates/status/671159727...</td>\n      <td>5</td>\n      <td>10</td>\n      <td>Anthony</td>\n      <td>None</td>\n      <td>None</td>\n      <td>None</td>\n      <td>None</td>\n    </tr>\n    <tr>\n      <th>2070</th>\n      <td>671122204919246848</td>\n      <td>NaN</td>\n      <td>NaN</td>\n      <td>2015-11-30 00:22:57 +0000</td>\n      <td>&lt;a href=\"http://twitter.com/download/iphone\" r...</td>\n      <td>Two miniature golden retrievers here. Webbed p...</td>\n      <td>NaN</td>\n      <td>NaN</td>\n      <td>NaN</td>\n      <td>https://twitter.com/dog_rates/status/671122204...</td>\n      <td>4</td>\n      <td>10</td>\n      <td>None</td>\n      <td>None</td>\n      <td>None</td>\n      <td>None</td>\n      <td>None</td>\n    </tr>\n    <tr>\n      <th>2076</th>\n      <td>670838202509447168</td>\n      <td>NaN</td>\n      <td>NaN</td>\n      <td>2015-11-29 05:34:25 +0000</td>\n      <td>&lt;a href=\"http://twitter.com/download/iphone\" r...</td>\n      <td>Pink dogs here. Unreasonably long necks. Left ...</td>\n      <td>NaN</td>\n      <td>NaN</td>\n      <td>NaN</td>\n      <td>https://twitter.com/dog_rates/status/670838202...</td>\n      <td>4</td>\n      <td>10</td>\n      <td>None</td>\n      <td>None</td>\n      <td>None</td>\n      <td>None</td>\n      <td>None</td>\n    </tr>\n    <tr>\n      <th>2079</th>\n      <td>670826280409919488</td>\n      <td>NaN</td>\n      <td>NaN</td>\n      <td>2015-11-29 04:47:03 +0000</td>\n      <td>&lt;a href=\"http://twitter.com/download/iphone\" r...</td>\n      <td>Scary dog here. Too many legs. Extra tail. Not...</td>\n      <td>NaN</td>\n      <td>NaN</td>\n      <td>NaN</td>\n      <td>https://twitter.com/dog_rates/status/670826280...</td>\n      <td>2</td>\n      <td>10</td>\n      <td>None</td>\n      <td>None</td>\n      <td>None</td>\n      <td>None</td>\n      <td>None</td>\n    </tr>\n    <tr>\n      <th>2091</th>\n      <td>670783437142401025</td>\n      <td>NaN</td>\n      <td>NaN</td>\n      <td>2015-11-29 01:56:48 +0000</td>\n      <td>&lt;a href=\"http://twitter.com/download/iphone\" r...</td>\n      <td>Flamboyant pup here. Probably poisonous. Won't...</td>\n      <td>NaN</td>\n      <td>NaN</td>\n      <td>NaN</td>\n      <td>https://twitter.com/dog_rates/status/670783437...</td>\n      <td>1</td>\n      <td>10</td>\n      <td>None</td>\n      <td>None</td>\n      <td>None</td>\n      <td>None</td>\n      <td>None</td>\n    </tr>\n    <tr>\n      <th>2092</th>\n      <td>670782429121134593</td>\n      <td>NaN</td>\n      <td>NaN</td>\n      <td>2015-11-29 01:52:48 +0000</td>\n      <td>&lt;a href=\"http://twitter.com/download/iphone\" r...</td>\n      <td>This dude slaps your girl's ass what do you do...</td>\n      <td>NaN</td>\n      <td>NaN</td>\n      <td>NaN</td>\n      <td>https://twitter.com/dog_rates/status/670782429...</td>\n      <td>5</td>\n      <td>10</td>\n      <td>None</td>\n      <td>None</td>\n      <td>None</td>\n      <td>None</td>\n      <td>None</td>\n    </tr>\n    <tr>\n      <th>2109</th>\n      <td>670449342516494336</td>\n      <td>NaN</td>\n      <td>NaN</td>\n      <td>2015-11-28 03:49:14 +0000</td>\n      <td>&lt;a href=\"http://twitter.com/download/iphone\" r...</td>\n      <td>Vibrant dog here. Fabulous tail. Only 2 legs t...</td>\n      <td>NaN</td>\n      <td>NaN</td>\n      <td>NaN</td>\n      <td>https://twitter.com/dog_rates/status/670449342...</td>\n      <td>5</td>\n      <td>10</td>\n      <td>None</td>\n      <td>None</td>\n      <td>None</td>\n      <td>None</td>\n      <td>None</td>\n    </tr>\n    <tr>\n      <th>2134</th>\n      <td>670069087419133954</td>\n      <td>NaN</td>\n      <td>NaN</td>\n      <td>2015-11-27 02:38:14 +0000</td>\n      <td>&lt;a href=\"http://twitter.com/download/iphone\" r...</td>\n      <td>This is Randall. He's from Chernobyl. Built pl...</td>\n      <td>NaN</td>\n      <td>NaN</td>\n      <td>NaN</td>\n      <td>https://twitter.com/dog_rates/status/670069087...</td>\n      <td>5</td>\n      <td>10</td>\n      <td>Randall</td>\n      <td>None</td>\n      <td>None</td>\n      <td>None</td>\n      <td>None</td>\n    </tr>\n    <tr>\n      <th>2136</th>\n      <td>670055038660800512</td>\n      <td>NaN</td>\n      <td>NaN</td>\n      <td>2015-11-27 01:42:24 +0000</td>\n      <td>&lt;a href=\"http://twitter.com/download/iphone\" r...</td>\n      <td>This is Tommy. He's a cool dog. Hard not to st...</td>\n      <td>NaN</td>\n      <td>NaN</td>\n      <td>NaN</td>\n      <td>https://twitter.com/dog_rates/status/670055038...</td>\n      <td>3</td>\n      <td>10</td>\n      <td>Tommy</td>\n      <td>None</td>\n      <td>None</td>\n      <td>None</td>\n      <td>None</td>\n    </tr>\n    <tr>\n      <th>2139</th>\n      <td>670037189829525505</td>\n      <td>NaN</td>\n      <td>NaN</td>\n      <td>2015-11-27 00:31:29 +0000</td>\n      <td>&lt;a href=\"http://twitter.com/download/iphone\" r...</td>\n      <td>Awesome dog here. Not sure where it is tho. Sp...</td>\n      <td>NaN</td>\n      <td>NaN</td>\n      <td>NaN</td>\n      <td>https://twitter.com/dog_rates/status/670037189...</td>\n      <td>5</td>\n      <td>10</td>\n      <td>None</td>\n      <td>None</td>\n      <td>None</td>\n      <td>None</td>\n      <td>None</td>\n    </tr>\n    <tr>\n      <th>2153</th>\n      <td>669661792646373376</td>\n      <td>NaN</td>\n      <td>NaN</td>\n      <td>2015-11-25 23:39:47 +0000</td>\n      <td>&lt;a href=\"http://twitter.com/download/iphone\" r...</td>\n      <td>This is a brave dog. Excellent free climber. T...</td>\n      <td>NaN</td>\n      <td>NaN</td>\n      <td>NaN</td>\n      <td>https://twitter.com/dog_rates/status/669661792...</td>\n      <td>5</td>\n      <td>10</td>\n      <td>a</td>\n      <td>None</td>\n      <td>None</td>\n      <td>None</td>\n      <td>None</td>\n    </tr>\n    <tr>\n      <th>2181</th>\n      <td>668994913074286592</td>\n      <td>NaN</td>\n      <td>NaN</td>\n      <td>2015-11-24 03:29:51 +0000</td>\n      <td>&lt;a href=\"http://twitter.com/download/iphone\" r...</td>\n      <td>Two gorgeous pups here. Both have cute fake ho...</td>\n      <td>NaN</td>\n      <td>NaN</td>\n      <td>NaN</td>\n      <td>https://twitter.com/dog_rates/status/668994913...</td>\n      <td>5</td>\n      <td>10</td>\n      <td>None</td>\n      <td>None</td>\n      <td>None</td>\n      <td>None</td>\n      <td>None</td>\n    </tr>\n    <tr>\n      <th>2183</th>\n      <td>668989615043424256</td>\n      <td>NaN</td>\n      <td>NaN</td>\n      <td>2015-11-24 03:08:48 +0000</td>\n      <td>&lt;a href=\"http://twitter.com/download/iphone\" r...</td>\n      <td>This is Bernie. He's taking his Halloween cost...</td>\n      <td>NaN</td>\n      <td>NaN</td>\n      <td>NaN</td>\n      <td>https://twitter.com/dog_rates/status/668989615...</td>\n      <td>3</td>\n      <td>10</td>\n      <td>Bernie</td>\n      <td>None</td>\n      <td>None</td>\n      <td>None</td>\n      <td>None</td>\n    </tr>\n    <tr>\n      <th>2186</th>\n      <td>668981893510119424</td>\n      <td>NaN</td>\n      <td>NaN</td>\n      <td>2015-11-24 02:38:07 +0000</td>\n      <td>&lt;a href=\"http://twitter.com/download/iphone\" r...</td>\n      <td>Unique dog here. Oddly shaped tail. Long pink ...</td>\n      <td>NaN</td>\n      <td>NaN</td>\n      <td>NaN</td>\n      <td>https://twitter.com/dog_rates/status/668981893...</td>\n      <td>4</td>\n      <td>10</td>\n      <td>None</td>\n      <td>None</td>\n      <td>None</td>\n      <td>None</td>\n      <td>None</td>\n    </tr>\n    <tr>\n      <th>2202</th>\n      <td>668643542311546881</td>\n      <td>NaN</td>\n      <td>NaN</td>\n      <td>2015-11-23 04:13:37 +0000</td>\n      <td>&lt;a href=\"http://twitter.com/download/iphone\" r...</td>\n      <td>Fascinating dog here. Loves beach. Oddly long ...</td>\n      <td>NaN</td>\n      <td>NaN</td>\n      <td>NaN</td>\n      <td>https://twitter.com/dog_rates/status/668643542...</td>\n      <td>3</td>\n      <td>10</td>\n      <td>None</td>\n      <td>None</td>\n      <td>None</td>\n      <td>None</td>\n      <td>None</td>\n    </tr>\n    <tr>\n      <th>2206</th>\n      <td>668631377374486528</td>\n      <td>NaN</td>\n      <td>NaN</td>\n      <td>2015-11-23 03:25:17 +0000</td>\n      <td>&lt;a href=\"http://twitter.com/download/iphone\" r...</td>\n      <td>Meet Zeek. He is a grey Cumulonimbus. Zeek is ...</td>\n      <td>NaN</td>\n      <td>NaN</td>\n      <td>NaN</td>\n      <td>https://twitter.com/dog_rates/status/668631377...</td>\n      <td>5</td>\n      <td>10</td>\n      <td>Zeek</td>\n      <td>None</td>\n      <td>None</td>\n      <td>None</td>\n      <td>None</td>\n    </tr>\n    <tr>\n      <th>2222</th>\n      <td>668466899341221888</td>\n      <td>NaN</td>\n      <td>NaN</td>\n      <td>2015-11-22 16:31:42 +0000</td>\n      <td>&lt;a href=\"http://twitter.com/download/iphone\" r...</td>\n      <td>Here is a mother dog caring for her pups. Snaz...</td>\n      <td>NaN</td>\n      <td>NaN</td>\n      <td>NaN</td>\n      <td>https://twitter.com/dog_rates/status/668466899...</td>\n      <td>4</td>\n      <td>10</td>\n      <td>a</td>\n      <td>None</td>\n      <td>None</td>\n      <td>None</td>\n      <td>None</td>\n    </tr>\n    <tr>\n      <th>2237</th>\n      <td>668142349051129856</td>\n      <td>NaN</td>\n      <td>NaN</td>\n      <td>2015-11-21 19:02:04 +0000</td>\n      <td>&lt;a href=\"http://twitter.com/download/iphone\" r...</td>\n      <td>This lil pup is Oliver. Hops around. Has wings...</td>\n      <td>NaN</td>\n      <td>NaN</td>\n      <td>NaN</td>\n      <td>https://twitter.com/dog_rates/status/668142349...</td>\n      <td>2</td>\n      <td>10</td>\n      <td>None</td>\n      <td>None</td>\n      <td>None</td>\n      <td>None</td>\n      <td>None</td>\n    </tr>\n    <tr>\n      <th>2239</th>\n      <td>667937095915278337</td>\n      <td>NaN</td>\n      <td>NaN</td>\n      <td>2015-11-21 05:26:27 +0000</td>\n      <td>&lt;a href=\"http://twitter.com/download/iphone\" r...</td>\n      <td>This dog resembles a baked potato. Bed looks u...</td>\n      <td>NaN</td>\n      <td>NaN</td>\n      <td>NaN</td>\n      <td>https://twitter.com/dog_rates/status/667937095...</td>\n      <td>3</td>\n      <td>10</td>\n      <td>None</td>\n      <td>None</td>\n      <td>None</td>\n      <td>None</td>\n      <td>None</td>\n    </tr>\n    <tr>\n      <th>2242</th>\n      <td>667911425562669056</td>\n      <td>NaN</td>\n      <td>NaN</td>\n      <td>2015-11-21 03:44:27 +0000</td>\n      <td>&lt;a href=\"http://twitter.com/download/iphone\" r...</td>\n      <td>Wow. Armored dog here. Ready for battle. Face ...</td>\n      <td>NaN</td>\n      <td>NaN</td>\n      <td>NaN</td>\n      <td>https://twitter.com/dog_rates/status/667911425...</td>\n      <td>5</td>\n      <td>10</td>\n      <td>None</td>\n      <td>None</td>\n      <td>None</td>\n      <td>None</td>\n      <td>None</td>\n    </tr>\n    <tr>\n      <th>2246</th>\n      <td>667878741721415682</td>\n      <td>NaN</td>\n      <td>NaN</td>\n      <td>2015-11-21 01:34:35 +0000</td>\n      <td>&lt;a href=\"http://twitter.com/download/iphone\" r...</td>\n      <td>This is Tedrick. He lives on the edge. Needs s...</td>\n      <td>NaN</td>\n      <td>NaN</td>\n      <td>NaN</td>\n      <td>https://twitter.com/dog_rates/status/667878741...</td>\n      <td>2</td>\n      <td>10</td>\n      <td>Tedrick</td>\n      <td>None</td>\n      <td>None</td>\n      <td>None</td>\n      <td>None</td>\n    </tr>\n    <tr>\n      <th>2260</th>\n      <td>667550882905632768</td>\n      <td>NaN</td>\n      <td>NaN</td>\n      <td>2015-11-20 03:51:47 +0000</td>\n      <td>&lt;a href=\"http://twitter.com\" rel=\"nofollow\"&gt;Tw...</td>\n      <td>RT @dogratingrating: Unoriginal idea. Blatant ...</td>\n      <td>6.675484e+17</td>\n      <td>4.296832e+09</td>\n      <td>2015-11-20 03:41:59 +0000</td>\n      <td>https://twitter.com/dogratingrating/status/667...</td>\n      <td>5</td>\n      <td>10</td>\n      <td>None</td>\n      <td>None</td>\n      <td>None</td>\n      <td>None</td>\n      <td>None</td>\n    </tr>\n    <tr>\n      <th>2261</th>\n      <td>667549055577362432</td>\n      <td>NaN</td>\n      <td>NaN</td>\n      <td>2015-11-20 03:44:31 +0000</td>\n      <td>&lt;a href=\"http://twitter.com\" rel=\"nofollow\"&gt;Tw...</td>\n      <td>Never seen dog like this. Breathes heavy. Tilt...</td>\n      <td>NaN</td>\n      <td>NaN</td>\n      <td>NaN</td>\n      <td>https://twitter.com/dog_rates/status/667549055...</td>\n      <td>1</td>\n      <td>10</td>\n      <td>None</td>\n      <td>None</td>\n      <td>None</td>\n      <td>None</td>\n      <td>None</td>\n    </tr>\n    <tr>\n      <th>2288</th>\n      <td>667176164155375616</td>\n      <td>NaN</td>\n      <td>NaN</td>\n      <td>2015-11-19 03:02:47 +0000</td>\n      <td>&lt;a href=\"http://twitter.com/download/iphone\" r...</td>\n      <td>These are strange dogs. All have toupees. Long...</td>\n      <td>NaN</td>\n      <td>NaN</td>\n      <td>NaN</td>\n      <td>https://twitter.com/dog_rates/status/667176164...</td>\n      <td>4</td>\n      <td>10</td>\n      <td>None</td>\n      <td>None</td>\n      <td>None</td>\n      <td>None</td>\n      <td>None</td>\n    </tr>\n    <tr>\n      <th>2305</th>\n      <td>666837028449972224</td>\n      <td>NaN</td>\n      <td>NaN</td>\n      <td>2015-11-18 04:35:11 +0000</td>\n      <td>&lt;a href=\"http://twitter.com/download/iphone\" r...</td>\n      <td>My goodness. Very rare dog here. Large. Tail d...</td>\n      <td>NaN</td>\n      <td>NaN</td>\n      <td>NaN</td>\n      <td>https://twitter.com/dog_rates/status/666837028...</td>\n      <td>3</td>\n      <td>10</td>\n      <td>None</td>\n      <td>None</td>\n      <td>None</td>\n      <td>None</td>\n      <td>None</td>\n    </tr>\n    <tr>\n      <th>2310</th>\n      <td>666786068205871104</td>\n      <td>NaN</td>\n      <td>NaN</td>\n      <td>2015-11-18 01:12:41 +0000</td>\n      <td>&lt;a href=\"http://twitter.com/download/iphone\" r...</td>\n      <td>Unfamiliar with this breed. Ears pointy af. Wo...</td>\n      <td>NaN</td>\n      <td>NaN</td>\n      <td>NaN</td>\n      <td>https://twitter.com/dog_rates/status/666786068...</td>\n      <td>2</td>\n      <td>10</td>\n      <td>None</td>\n      <td>None</td>\n      <td>None</td>\n      <td>None</td>\n      <td>None</td>\n    </tr>\n    <tr>\n      <th>2312</th>\n      <td>666776908487630848</td>\n      <td>NaN</td>\n      <td>NaN</td>\n      <td>2015-11-18 00:36:17 +0000</td>\n      <td>&lt;a href=\"http://twitter.com/download/iphone\" r...</td>\n      <td>This is Josep. He is a Rye Manganese mix. Can ...</td>\n      <td>NaN</td>\n      <td>NaN</td>\n      <td>NaN</td>\n      <td>https://twitter.com/dog_rates/status/666776908...</td>\n      <td>5</td>\n      <td>10</td>\n      <td>Josep</td>\n      <td>None</td>\n      <td>None</td>\n      <td>None</td>\n      <td>None</td>\n    </tr>\n    <tr>\n      <th>2316</th>\n      <td>666649482315059201</td>\n      <td>NaN</td>\n      <td>NaN</td>\n      <td>2015-11-17 16:09:56 +0000</td>\n      <td>&lt;a href=\"http://twitter.com/download/iphone\" r...</td>\n      <td>Cool dog. Enjoys couch. Low monotone bark. Ver...</td>\n      <td>NaN</td>\n      <td>NaN</td>\n      <td>NaN</td>\n      <td>https://twitter.com/dog_rates/status/666649482...</td>\n      <td>4</td>\n      <td>10</td>\n      <td>None</td>\n      <td>None</td>\n      <td>None</td>\n      <td>None</td>\n      <td>None</td>\n    </tr>\n    <tr>\n      <th>2326</th>\n      <td>666411507551481857</td>\n      <td>NaN</td>\n      <td>NaN</td>\n      <td>2015-11-17 00:24:19 +0000</td>\n      <td>&lt;a href=\"http://twitter.com/download/iphone\" r...</td>\n      <td>This is quite the dog. Gets really excited whe...</td>\n      <td>NaN</td>\n      <td>NaN</td>\n      <td>NaN</td>\n      <td>https://twitter.com/dog_rates/status/666411507...</td>\n      <td>2</td>\n      <td>10</td>\n      <td>quite</td>\n      <td>None</td>\n      <td>None</td>\n      <td>None</td>\n      <td>None</td>\n    </tr>\n    <tr>\n      <th>2334</th>\n      <td>666293911632134144</td>\n      <td>NaN</td>\n      <td>NaN</td>\n      <td>2015-11-16 16:37:02 +0000</td>\n      <td>&lt;a href=\"http://twitter.com/download/iphone\" r...</td>\n      <td>This is a funny dog. Weird toes. Won't come do...</td>\n      <td>NaN</td>\n      <td>NaN</td>\n      <td>NaN</td>\n      <td>https://twitter.com/dog_rates/status/666293911...</td>\n      <td>3</td>\n      <td>10</td>\n      <td>a</td>\n      <td>None</td>\n      <td>None</td>\n      <td>None</td>\n      <td>None</td>\n    </tr>\n    <tr>\n      <th>2335</th>\n      <td>666287406224695296</td>\n      <td>NaN</td>\n      <td>NaN</td>\n      <td>2015-11-16 16:11:11 +0000</td>\n      <td>&lt;a href=\"http://twitter.com/download/iphone\" r...</td>\n      <td>This is an Albanian 3 1/2 legged  Episcopalian...</td>\n      <td>NaN</td>\n      <td>NaN</td>\n      <td>NaN</td>\n      <td>https://twitter.com/dog_rates/status/666287406...</td>\n      <td>1</td>\n      <td>2</td>\n      <td>an</td>\n      <td>None</td>\n      <td>None</td>\n      <td>None</td>\n      <td>None</td>\n    </tr>\n    <tr>\n      <th>2338</th>\n      <td>666104133288665088</td>\n      <td>NaN</td>\n      <td>NaN</td>\n      <td>2015-11-16 04:02:55 +0000</td>\n      <td>&lt;a href=\"http://twitter.com/download/iphone\" r...</td>\n      <td>Not familiar with this breed. No tail (weird)....</td>\n      <td>NaN</td>\n      <td>NaN</td>\n      <td>NaN</td>\n      <td>https://twitter.com/dog_rates/status/666104133...</td>\n      <td>1</td>\n      <td>10</td>\n      <td>None</td>\n      <td>None</td>\n      <td>None</td>\n      <td>None</td>\n      <td>None</td>\n    </tr>\n    <tr>\n      <th>2349</th>\n      <td>666051853826850816</td>\n      <td>NaN</td>\n      <td>NaN</td>\n      <td>2015-11-16 00:35:11 +0000</td>\n      <td>&lt;a href=\"http://twitter.com/download/iphone\" r...</td>\n      <td>This is an odd dog. Hard on the outside but lo...</td>\n      <td>NaN</td>\n      <td>NaN</td>\n      <td>NaN</td>\n      <td>https://twitter.com/dog_rates/status/666051853...</td>\n      <td>2</td>\n      <td>10</td>\n      <td>an</td>\n      <td>None</td>\n      <td>None</td>\n      <td>None</td>\n      <td>None</td>\n    </tr>\n    <tr>\n      <th>2351</th>\n      <td>666049248165822465</td>\n      <td>NaN</td>\n      <td>NaN</td>\n      <td>2015-11-16 00:24:50 +0000</td>\n      <td>&lt;a href=\"http://twitter.com/download/iphone\" r...</td>\n      <td>Here we have a 1949 1st generation vulpix. Enj...</td>\n      <td>NaN</td>\n      <td>NaN</td>\n      <td>NaN</td>\n      <td>https://twitter.com/dog_rates/status/666049248...</td>\n      <td>5</td>\n      <td>10</td>\n      <td>None</td>\n      <td>None</td>\n      <td>None</td>\n      <td>None</td>\n      <td>None</td>\n    </tr>\n  </tbody>\n</table>\n</div>"
     },
     "execution_count": 89,
     "metadata": {},
     "output_type": "execute_result"
    }
   ],
   "source": [
    "archive[archive.rating_numerator<=5].loc[2000:, :]"
   ],
   "metadata": {
    "collapsed": false,
    "pycharm": {
     "name": "#%%\n"
    }
   }
  },
  {
   "cell_type": "code",
   "execution_count": 90,
   "outputs": [
    {
     "data": {
      "text/plain": "                tweet_id                                          jpg_url  \\\n0     666020888022790149  https://pbs.twimg.com/media/CT4udn0WwAA0aMy.jpg   \n1     666029285002620928  https://pbs.twimg.com/media/CT42GRgUYAA5iDo.jpg   \n2     666033412701032449  https://pbs.twimg.com/media/CT4521TWwAEvMyu.jpg   \n3     666044226329800704  https://pbs.twimg.com/media/CT5Dr8HUEAA-lEu.jpg   \n4     666049248165822465  https://pbs.twimg.com/media/CT5IQmsXIAAKY4A.jpg   \n...                  ...                                              ...   \n2070  891327558926688256  https://pbs.twimg.com/media/DF6hr6BUMAAzZgT.jpg   \n2071  891689557279858688  https://pbs.twimg.com/media/DF_q7IAWsAEuuN8.jpg   \n2072  891815181378084864  https://pbs.twimg.com/media/DGBdLU1WsAANxJ9.jpg   \n2073  892177421306343426  https://pbs.twimg.com/media/DGGmoV4XsAAUL6n.jpg   \n2074  892420643555336193  https://pbs.twimg.com/media/DGKD1-bXoAAIAUK.jpg   \n\n      img_num                      p1   p1_conf  p1_dog                  p2  \\\n0           1  Welsh_springer_spaniel  0.465074    True              collie   \n1           1                 redbone  0.506826    True  miniature_pinscher   \n2           1         German_shepherd  0.596461    True            malinois   \n3           1     Rhodesian_ridgeback  0.408143    True             redbone   \n4           1      miniature_pinscher  0.560311    True          Rottweiler   \n...       ...                     ...       ...     ...                 ...   \n2070        2                  basset  0.555712    True    English_springer   \n2071        1             paper_towel  0.170278   False  Labrador_retriever   \n2072        1               Chihuahua  0.716012    True            malamute   \n2073        1               Chihuahua  0.323581    True            Pekinese   \n2074        1                  orange  0.097049   False               bagel   \n\n       p2_conf  p2_dog                           p3   p3_conf  p3_dog  \n0     0.156665    True            Shetland_sheepdog  0.061428    True  \n1     0.074192    True          Rhodesian_ridgeback  0.072010    True  \n2     0.138584    True                   bloodhound  0.116197    True  \n3     0.360687    True           miniature_pinscher  0.222752    True  \n4     0.243682    True                     Doberman  0.154629    True  \n...        ...     ...                          ...       ...     ...  \n2070  0.225770    True  German_short-haired_pointer  0.175219    True  \n2071  0.168086    True                      spatula  0.040836   False  \n2072  0.078253    True                       kelpie  0.031379    True  \n2073  0.090647    True                     papillon  0.068957    True  \n2074  0.085851   False                       banana  0.076110   False  \n\n[2075 rows x 12 columns]",
      "text/html": "<div>\n<style scoped>\n    .dataframe tbody tr th:only-of-type {\n        vertical-align: middle;\n    }\n\n    .dataframe tbody tr th {\n        vertical-align: top;\n    }\n\n    .dataframe thead th {\n        text-align: right;\n    }\n</style>\n<table border=\"1\" class=\"dataframe\">\n  <thead>\n    <tr style=\"text-align: right;\">\n      <th></th>\n      <th>tweet_id</th>\n      <th>jpg_url</th>\n      <th>img_num</th>\n      <th>p1</th>\n      <th>p1_conf</th>\n      <th>p1_dog</th>\n      <th>p2</th>\n      <th>p2_conf</th>\n      <th>p2_dog</th>\n      <th>p3</th>\n      <th>p3_conf</th>\n      <th>p3_dog</th>\n    </tr>\n  </thead>\n  <tbody>\n    <tr>\n      <th>0</th>\n      <td>666020888022790149</td>\n      <td>https://pbs.twimg.com/media/CT4udn0WwAA0aMy.jpg</td>\n      <td>1</td>\n      <td>Welsh_springer_spaniel</td>\n      <td>0.465074</td>\n      <td>True</td>\n      <td>collie</td>\n      <td>0.156665</td>\n      <td>True</td>\n      <td>Shetland_sheepdog</td>\n      <td>0.061428</td>\n      <td>True</td>\n    </tr>\n    <tr>\n      <th>1</th>\n      <td>666029285002620928</td>\n      <td>https://pbs.twimg.com/media/CT42GRgUYAA5iDo.jpg</td>\n      <td>1</td>\n      <td>redbone</td>\n      <td>0.506826</td>\n      <td>True</td>\n      <td>miniature_pinscher</td>\n      <td>0.074192</td>\n      <td>True</td>\n      <td>Rhodesian_ridgeback</td>\n      <td>0.072010</td>\n      <td>True</td>\n    </tr>\n    <tr>\n      <th>2</th>\n      <td>666033412701032449</td>\n      <td>https://pbs.twimg.com/media/CT4521TWwAEvMyu.jpg</td>\n      <td>1</td>\n      <td>German_shepherd</td>\n      <td>0.596461</td>\n      <td>True</td>\n      <td>malinois</td>\n      <td>0.138584</td>\n      <td>True</td>\n      <td>bloodhound</td>\n      <td>0.116197</td>\n      <td>True</td>\n    </tr>\n    <tr>\n      <th>3</th>\n      <td>666044226329800704</td>\n      <td>https://pbs.twimg.com/media/CT5Dr8HUEAA-lEu.jpg</td>\n      <td>1</td>\n      <td>Rhodesian_ridgeback</td>\n      <td>0.408143</td>\n      <td>True</td>\n      <td>redbone</td>\n      <td>0.360687</td>\n      <td>True</td>\n      <td>miniature_pinscher</td>\n      <td>0.222752</td>\n      <td>True</td>\n    </tr>\n    <tr>\n      <th>4</th>\n      <td>666049248165822465</td>\n      <td>https://pbs.twimg.com/media/CT5IQmsXIAAKY4A.jpg</td>\n      <td>1</td>\n      <td>miniature_pinscher</td>\n      <td>0.560311</td>\n      <td>True</td>\n      <td>Rottweiler</td>\n      <td>0.243682</td>\n      <td>True</td>\n      <td>Doberman</td>\n      <td>0.154629</td>\n      <td>True</td>\n    </tr>\n    <tr>\n      <th>...</th>\n      <td>...</td>\n      <td>...</td>\n      <td>...</td>\n      <td>...</td>\n      <td>...</td>\n      <td>...</td>\n      <td>...</td>\n      <td>...</td>\n      <td>...</td>\n      <td>...</td>\n      <td>...</td>\n      <td>...</td>\n    </tr>\n    <tr>\n      <th>2070</th>\n      <td>891327558926688256</td>\n      <td>https://pbs.twimg.com/media/DF6hr6BUMAAzZgT.jpg</td>\n      <td>2</td>\n      <td>basset</td>\n      <td>0.555712</td>\n      <td>True</td>\n      <td>English_springer</td>\n      <td>0.225770</td>\n      <td>True</td>\n      <td>German_short-haired_pointer</td>\n      <td>0.175219</td>\n      <td>True</td>\n    </tr>\n    <tr>\n      <th>2071</th>\n      <td>891689557279858688</td>\n      <td>https://pbs.twimg.com/media/DF_q7IAWsAEuuN8.jpg</td>\n      <td>1</td>\n      <td>paper_towel</td>\n      <td>0.170278</td>\n      <td>False</td>\n      <td>Labrador_retriever</td>\n      <td>0.168086</td>\n      <td>True</td>\n      <td>spatula</td>\n      <td>0.040836</td>\n      <td>False</td>\n    </tr>\n    <tr>\n      <th>2072</th>\n      <td>891815181378084864</td>\n      <td>https://pbs.twimg.com/media/DGBdLU1WsAANxJ9.jpg</td>\n      <td>1</td>\n      <td>Chihuahua</td>\n      <td>0.716012</td>\n      <td>True</td>\n      <td>malamute</td>\n      <td>0.078253</td>\n      <td>True</td>\n      <td>kelpie</td>\n      <td>0.031379</td>\n      <td>True</td>\n    </tr>\n    <tr>\n      <th>2073</th>\n      <td>892177421306343426</td>\n      <td>https://pbs.twimg.com/media/DGGmoV4XsAAUL6n.jpg</td>\n      <td>1</td>\n      <td>Chihuahua</td>\n      <td>0.323581</td>\n      <td>True</td>\n      <td>Pekinese</td>\n      <td>0.090647</td>\n      <td>True</td>\n      <td>papillon</td>\n      <td>0.068957</td>\n      <td>True</td>\n    </tr>\n    <tr>\n      <th>2074</th>\n      <td>892420643555336193</td>\n      <td>https://pbs.twimg.com/media/DGKD1-bXoAAIAUK.jpg</td>\n      <td>1</td>\n      <td>orange</td>\n      <td>0.097049</td>\n      <td>False</td>\n      <td>bagel</td>\n      <td>0.085851</td>\n      <td>False</td>\n      <td>banana</td>\n      <td>0.076110</td>\n      <td>False</td>\n    </tr>\n  </tbody>\n</table>\n<p>2075 rows × 12 columns</p>\n</div>"
     },
     "execution_count": 90,
     "metadata": {},
     "output_type": "execute_result"
    }
   ],
   "source": [
    "img_pred"
   ],
   "metadata": {
    "collapsed": false,
    "pycharm": {
     "name": "#%%\n"
    }
   }
  },
  {
   "cell_type": "code",
   "execution_count": 91,
   "outputs": [
    {
     "name": "stdout",
     "output_type": "stream",
     "text": [
      "<class 'pandas.core.frame.DataFrame'>\n",
      "RangeIndex: 2075 entries, 0 to 2074\n",
      "Data columns (total 12 columns):\n",
      " #   Column    Non-Null Count  Dtype  \n",
      "---  ------    --------------  -----  \n",
      " 0   tweet_id  2075 non-null   int64  \n",
      " 1   jpg_url   2075 non-null   object \n",
      " 2   img_num   2075 non-null   int64  \n",
      " 3   p1        2075 non-null   object \n",
      " 4   p1_conf   2075 non-null   float64\n",
      " 5   p1_dog    2075 non-null   bool   \n",
      " 6   p2        2075 non-null   object \n",
      " 7   p2_conf   2075 non-null   float64\n",
      " 8   p2_dog    2075 non-null   bool   \n",
      " 9   p3        2075 non-null   object \n",
      " 10  p3_conf   2075 non-null   float64\n",
      " 11  p3_dog    2075 non-null   bool   \n",
      "dtypes: bool(3), float64(3), int64(2), object(4)\n",
      "memory usage: 152.1+ KB\n"
     ]
    }
   ],
   "source": [
    "img_pred.info()"
   ],
   "metadata": {
    "collapsed": false,
    "pycharm": {
     "name": "#%%\n"
    }
   }
  },
  {
   "cell_type": "code",
   "execution_count": 92,
   "outputs": [
    {
     "data": {
      "text/plain": "Index(['tweet_id', 'jpg_url', 'img_num', 'p1', 'p1_conf', 'p1_dog', 'p2',\n       'p2_conf', 'p2_dog', 'p3', 'p3_conf', 'p3_dog'],\n      dtype='object')"
     },
     "execution_count": 92,
     "metadata": {},
     "output_type": "execute_result"
    }
   ],
   "source": [
    "img_pred.columns"
   ],
   "metadata": {
    "collapsed": false,
    "pycharm": {
     "name": "#%%\n"
    }
   }
  },
  {
   "cell_type": "code",
   "execution_count": 93,
   "outputs": [
    {
     "data": {
      "text/plain": "array(['Welsh_springer_spaniel', 'redbone', 'German_shepherd',\n       'Rhodesian_ridgeback', 'miniature_pinscher',\n       'Bernese_mountain_dog', 'box_turtle', 'chow', 'shopping_cart',\n       'miniature_poodle', 'golden_retriever', 'Gordon_setter',\n       'Walker_hound', 'pug', 'bloodhound', 'Lhasa', 'English_setter',\n       'hen', 'desktop_computer', 'Italian_greyhound', 'Maltese_dog',\n       'three-toed_sloth', 'ox', 'malamute', 'guinea_pig',\n       'soft-coated_wheaten_terrier', 'Chihuahua',\n       'black-and-tan_coonhound', 'coho', 'toy_terrier',\n       'Blenheim_spaniel', 'Pembroke', 'llama',\n       'Chesapeake_Bay_retriever', 'curly-coated_retriever', 'dalmatian',\n       'Ibizan_hound', 'Border_collie', 'Labrador_retriever', 'seat_belt',\n       'snail', 'miniature_schnauzer', 'Airedale', 'triceratops', 'swab',\n       'hay', 'hyena', 'jigsaw_puzzle', 'West_Highland_white_terrier',\n       'toy_poodle', 'giant_schnauzer', 'vizsla', 'vacuum', 'Rottweiler',\n       'Siberian_husky', 'teddy', 'papillon', 'Saint_Bernard',\n       'porcupine', 'goose', 'Tibetan_terrier', 'borzoi', 'beagle',\n       'hare', 'Yorkshire_terrier', 'Pomeranian', 'electric_fan',\n       'web_site', 'ibex', 'kuvasz', 'fire_engine', 'lorikeet',\n       'flat-coated_retriever', 'toyshop', 'common_iguana',\n       'Norwegian_elkhound', 'frilled_lizard', 'leatherback_turtle',\n       'hamster', 'Angora', 'Arctic_fox', 'trombone', 'canoe',\n       'king_penguin', 'shopping_basket', 'standard_poodle',\n       'Staffordshire_bullterrier', 'basenji', 'Lakeland_terrier',\n       'American_Staffordshire_terrier', 'bearskin', 'Shih-Tzu',\n       'bustard', 'crash_helmet', 'French_bulldog', 'Pekinese',\n       'komondor', 'ski_mask', 'malinois', 'kelpie', 'Brittany_spaniel',\n       'cocker_spaniel', 'shower_curtain', 'basset', 'jellyfish',\n       'doormat', 'Arabian_camel', 'lynx', 'hog', 'comic_book', 'minivan',\n       'seashore', 'cuirass', 'Brabancon_griffon', 'candle', 'Eskimo_dog',\n       'weasel', 'Christmas_stocking', 'washbasin', 'car_mirror',\n       'piggy_bank', 'pot', 'boathouse', 'mud_turtle',\n       'German_short-haired_pointer', 'Shetland_sheepdog',\n       'Irish_terrier', 'cairn', 'platypus', 'English_springer',\n       'whippet', 'ping-pong_ball', 'sea_urchin', 'bow_tie',\n       'window_shade', \"jack-o'-lantern\", 'sorrel', 'Sussex_spaniel',\n       'peacock', 'axolotl', 'wool', 'banana', 'Dandie_Dinmont',\n       'Norwich_terrier', 'wood_rabbit', 'dhole', 'keeshond',\n       'Norfolk_terrier', 'lacewing', 'dingo', 'brown_bear',\n       'Old_English_sheepdog', 'scorpion', 'flamingo', 'microphone',\n       'Samoyed', 'pitcher', 'African_hunting_dog', 'refrigerator',\n       'picket_fence', 'tub', 'zebra', 'hermit_crab', 'swing', 'Doberman',\n       'park_bench', 'feather_boa', 'Loafer', 'stone_wall', 'ice_bear',\n       'prayer_rug', 'chimpanzee', 'china_cabinet', 'bee_eater',\n       'tennis_ball', 'carton', 'killer_whale', 'ostrich', 'terrapin',\n       'Siamese_cat', 'gondola', 'Great_Pyrenees', 'microwave',\n       'starfish', 'sandbar', 'tusker', 'motor_scooter', 'ram',\n       'leaf_beetle', 'wombat', 'schipperke', 'Newfoundland',\n       'bull_mastiff', 'water_bottle', 'suit', 'toilet_seat', 'collie',\n       'robin', 'Cardigan', 'Greater_Swiss_Mountain_dog', 'slug',\n       'toilet_tissue', 'acorn_squash', 'soccer_ball',\n       'African_crocodile', 'tick', 'ocarina', 'boxer', 'street_sign',\n       'bow', 'stove', 'paper_towel', 'upright', 'dough',\n       'Scottish_deerhound', 'bath_towel', 'standard_schnauzer',\n       'walking_stick', 'Irish_water_spaniel', 'bubble', 'Boston_bull',\n       'book_jacket', 'rain_barrel', 'black-footed_ferret', 'guenon',\n       'Japanese_spaniel', 'water_buffalo', 'patio', 'cowboy_hat',\n       'dogsled', 'maze', 'harp', 'panpipe', 'cash_machine', 'mailbox',\n       'wallaby', 'EntleBucher', 'earthstar', 'pillow', 'bluetick',\n       'space_heater', 'carousel', 'Irish_setter', 'birdhouse', 'snorkel',\n       'bald_eagle', 'koala', 'Leonberg', 'cheetah', 'minibus',\n       'Weimaraner', 'clog', 'dishwasher', 'white_wolf', 'sliding_door',\n       'damselfly', 'Great_Dane', 'Tibetan_mastiff', 'cheeseburger',\n       'fiddler_crab', 'bannister', 'crane', 'Scotch_terrier',\n       'snowmobile', 'badger', 'bighorn', 'geyser', 'barrow', 'bison',\n       'Mexican_hairless', 'ice_lolly', 'sea_lion', 'dining_table',\n       'groenendael', 'Australian_terrier', 'beaver', 'briard',\n       'Appenzeller', 'grey_fox', 'mousetrap', 'hippopotamus',\n       'Border_terrier', 'hummingbird', 'tailed_frog', 'otter',\n       'Egyptian_cat', 'four-poster', 'wild_boar', 'bathtub', 'agama',\n       'muzzle', 'hotdog', 'bib', 'espresso', 'timber_wolf', 'meerkat',\n       'nail', 'hammer', 'home_theater', 'alp', 'bonnet', 'handkerchief',\n       'hand_blower', 'polecat', 'lakeside', 'studio_couch', 'cup',\n       'cliff', 'Bedlington_terrier', 'lawn_mower', 'balloon',\n       'sunglasses', 'rapeseed', 'traffic_light', 'coil', 'binoculars',\n       'paddle', 'tiger_shark', 'sulphur-crested_cockatoo',\n       'wire-haired_fox_terrier', 'Saluki', 'American_black_bear',\n       'rotisserie', 'conch', 'skunk', 'bookshop', 'radio_telescope',\n       'cougar', 'African_grey', 'coral_reef', 'lion', 'maillot',\n       'Madagascar_cat', 'tabby', 'silky_terrier', 'giant_panda',\n       'long-horned_beetle', 'Afghan_hound', 'clumber', 'sundial',\n       'padlock', 'pool_table', 'quilt', 'beach_wagon', 'remote_control',\n       'bakery', 'pedestal', 'gas_pump', 'bookcase', 'shield', 'loupe',\n       'restaurant', 'prison', 'school_bus', 'cowboy_boot', 'jersey',\n       'wooden_spoon', 'leopard', 'mortarboard', 'teapot',\n       'military_uniform', 'washer', 'coffee_mug', 'fountain',\n       'pencil_box', 'barbell', 'grille', 'revolver', 'envelope',\n       'syringe', 'marmot', 'pole', 'laptop', 'basketball', 'tricycle',\n       'convertible', 'limousine', 'orange'], dtype=object)"
     },
     "execution_count": 93,
     "metadata": {},
     "output_type": "execute_result"
    }
   ],
   "source": [
    "img_pred.p1.unique()"
   ],
   "metadata": {
    "collapsed": false,
    "pycharm": {
     "name": "#%%\n"
    }
   }
  },
  {
   "cell_type": "code",
   "execution_count": 94,
   "outputs": [
    {
     "data": {
      "text/plain": "                    created_at                  id              id_str  \\\n0    2017-08-01 16:23:56+00:00  892420643555336193  892420643555336192   \n1    2017-08-01 00:17:27+00:00  892177421306343426  892177421306343424   \n2    2017-07-31 00:18:03+00:00  891815181378084864  891815181378084864   \n3    2017-07-30 15:58:51+00:00  891689557279858688  891689557279858688   \n4    2017-07-29 16:00:24+00:00  891327558926688256  891327558926688256   \n...                        ...                 ...                 ...   \n2349 2015-11-16 00:24:50+00:00  666049248165822465  666049248165822464   \n2350 2015-11-16 00:04:52+00:00  666044226329800704  666044226329800704   \n2351 2015-11-15 23:21:54+00:00  666033412701032449  666033412701032448   \n2352 2015-11-15 23:05:30+00:00  666029285002620928  666029285002620928   \n2353 2015-11-15 22:32:08+00:00  666020888022790149  666020888022790144   \n\n                                              full_text  truncated  \\\n0     This is Phineas. He's a mystical boy. Only eve...      False   \n1     This is Tilly. She's just checking pup on you....      False   \n2     This is Archie. He is a rare Norwegian Pouncin...      False   \n3     This is Darla. She commenced a snooze mid meal...      False   \n4     This is Franklin. He would like you to stop ca...      False   \n...                                                 ...        ...   \n2349  Here we have a 1949 1st generation vulpix. Enj...      False   \n2350  This is a purebred Piers Morgan. Loves to Netf...      False   \n2351  Here is a very happy pup. Big fan of well-main...      False   \n2352  This is a western brown Mitsubishi terrier. Up...      False   \n2353  Here we have a Japanese Irish Setter. Lost eye...      False   \n\n     display_text_range                                           entities  \\\n0               [0, 85]  {'hashtags': [], 'symbols': [], 'user_mentions...   \n1              [0, 138]  {'hashtags': [], 'symbols': [], 'user_mentions...   \n2              [0, 121]  {'hashtags': [], 'symbols': [], 'user_mentions...   \n3               [0, 79]  {'hashtags': [], 'symbols': [], 'user_mentions...   \n4              [0, 138]  {'hashtags': [{'text': 'BarkWeek', 'indices': ...   \n...                 ...                                                ...   \n2349           [0, 120]  {'hashtags': [], 'symbols': [], 'user_mentions...   \n2350           [0, 137]  {'hashtags': [], 'symbols': [], 'user_mentions...   \n2351           [0, 130]  {'hashtags': [], 'symbols': [], 'user_mentions...   \n2352           [0, 139]  {'hashtags': [], 'symbols': [], 'user_mentions...   \n2353           [0, 131]  {'hashtags': [], 'symbols': [], 'user_mentions...   \n\n                                      extended_entities  \\\n0     {'media': [{'id': 892420639486877696, 'id_str'...   \n1     {'media': [{'id': 892177413194625024, 'id_str'...   \n2     {'media': [{'id': 891815175371796480, 'id_str'...   \n3     {'media': [{'id': 891689552724799489, 'id_str'...   \n4     {'media': [{'id': 891327551943041024, 'id_str'...   \n...                                                 ...   \n2349  {'media': [{'id': 666049244999131136, 'id_str'...   \n2350  {'media': [{'id': 666044217047650304, 'id_str'...   \n2351  {'media': [{'id': 666033409081393153, 'id_str'...   \n2352  {'media': [{'id': 666029276303482880, 'id_str'...   \n2353  {'media': [{'id': 666020881337073664, 'id_str'...   \n\n                                                 source  \\\n0     <a href=\"http://twitter.com/download/iphone\" r...   \n1     <a href=\"http://twitter.com/download/iphone\" r...   \n2     <a href=\"http://twitter.com/download/iphone\" r...   \n3     <a href=\"http://twitter.com/download/iphone\" r...   \n4     <a href=\"http://twitter.com/download/iphone\" r...   \n...                                                 ...   \n2349  <a href=\"http://twitter.com/download/iphone\" r...   \n2350  <a href=\"http://twitter.com/download/iphone\" r...   \n2351  <a href=\"http://twitter.com/download/iphone\" r...   \n2352  <a href=\"http://twitter.com/download/iphone\" r...   \n2353  <a href=\"http://twitter.com/download/iphone\" r...   \n\n      in_reply_to_status_id  ...  favorite_count  favorited  retweeted  \\\n0                       NaN  ...           39467      False      False   \n1                       NaN  ...           33819      False      False   \n2                       NaN  ...           25461      False      False   \n3                       NaN  ...           42908      False      False   \n4                       NaN  ...           41048      False      False   \n...                     ...  ...             ...        ...        ...   \n2349                    NaN  ...             111      False      False   \n2350                    NaN  ...             311      False      False   \n2351                    NaN  ...             128      False      False   \n2352                    NaN  ...             132      False      False   \n2353                    NaN  ...            2535      False      False   \n\n     possibly_sensitive possibly_sensitive_appealable  lang  retweeted_status  \\\n0                   0.0                           0.0    en               NaN   \n1                   0.0                           0.0    en               NaN   \n2                   0.0                           0.0    en               NaN   \n3                   0.0                           0.0    en               NaN   \n4                   0.0                           0.0    en               NaN   \n...                 ...                           ...   ...               ...   \n2349                0.0                           0.0    en               NaN   \n2350                0.0                           0.0    en               NaN   \n2351                0.0                           0.0    en               NaN   \n2352                0.0                           0.0    en               NaN   \n2353                0.0                           0.0    en               NaN   \n\n     quoted_status_id  quoted_status_id_str  quoted_status  \n0                 NaN                   NaN            NaN  \n1                 NaN                   NaN            NaN  \n2                 NaN                   NaN            NaN  \n3                 NaN                   NaN            NaN  \n4                 NaN                   NaN            NaN  \n...               ...                   ...            ...  \n2349              NaN                   NaN            NaN  \n2350              NaN                   NaN            NaN  \n2351              NaN                   NaN            NaN  \n2352              NaN                   NaN            NaN  \n2353              NaN                   NaN            NaN  \n\n[2354 rows x 31 columns]",
      "text/html": "<div>\n<style scoped>\n    .dataframe tbody tr th:only-of-type {\n        vertical-align: middle;\n    }\n\n    .dataframe tbody tr th {\n        vertical-align: top;\n    }\n\n    .dataframe thead th {\n        text-align: right;\n    }\n</style>\n<table border=\"1\" class=\"dataframe\">\n  <thead>\n    <tr style=\"text-align: right;\">\n      <th></th>\n      <th>created_at</th>\n      <th>id</th>\n      <th>id_str</th>\n      <th>full_text</th>\n      <th>truncated</th>\n      <th>display_text_range</th>\n      <th>entities</th>\n      <th>extended_entities</th>\n      <th>source</th>\n      <th>in_reply_to_status_id</th>\n      <th>...</th>\n      <th>favorite_count</th>\n      <th>favorited</th>\n      <th>retweeted</th>\n      <th>possibly_sensitive</th>\n      <th>possibly_sensitive_appealable</th>\n      <th>lang</th>\n      <th>retweeted_status</th>\n      <th>quoted_status_id</th>\n      <th>quoted_status_id_str</th>\n      <th>quoted_status</th>\n    </tr>\n  </thead>\n  <tbody>\n    <tr>\n      <th>0</th>\n      <td>2017-08-01 16:23:56+00:00</td>\n      <td>892420643555336193</td>\n      <td>892420643555336192</td>\n      <td>This is Phineas. He's a mystical boy. Only eve...</td>\n      <td>False</td>\n      <td>[0, 85]</td>\n      <td>{'hashtags': [], 'symbols': [], 'user_mentions...</td>\n      <td>{'media': [{'id': 892420639486877696, 'id_str'...</td>\n      <td>&lt;a href=\"http://twitter.com/download/iphone\" r...</td>\n      <td>NaN</td>\n      <td>...</td>\n      <td>39467</td>\n      <td>False</td>\n      <td>False</td>\n      <td>0.0</td>\n      <td>0.0</td>\n      <td>en</td>\n      <td>NaN</td>\n      <td>NaN</td>\n      <td>NaN</td>\n      <td>NaN</td>\n    </tr>\n    <tr>\n      <th>1</th>\n      <td>2017-08-01 00:17:27+00:00</td>\n      <td>892177421306343426</td>\n      <td>892177421306343424</td>\n      <td>This is Tilly. She's just checking pup on you....</td>\n      <td>False</td>\n      <td>[0, 138]</td>\n      <td>{'hashtags': [], 'symbols': [], 'user_mentions...</td>\n      <td>{'media': [{'id': 892177413194625024, 'id_str'...</td>\n      <td>&lt;a href=\"http://twitter.com/download/iphone\" r...</td>\n      <td>NaN</td>\n      <td>...</td>\n      <td>33819</td>\n      <td>False</td>\n      <td>False</td>\n      <td>0.0</td>\n      <td>0.0</td>\n      <td>en</td>\n      <td>NaN</td>\n      <td>NaN</td>\n      <td>NaN</td>\n      <td>NaN</td>\n    </tr>\n    <tr>\n      <th>2</th>\n      <td>2017-07-31 00:18:03+00:00</td>\n      <td>891815181378084864</td>\n      <td>891815181378084864</td>\n      <td>This is Archie. He is a rare Norwegian Pouncin...</td>\n      <td>False</td>\n      <td>[0, 121]</td>\n      <td>{'hashtags': [], 'symbols': [], 'user_mentions...</td>\n      <td>{'media': [{'id': 891815175371796480, 'id_str'...</td>\n      <td>&lt;a href=\"http://twitter.com/download/iphone\" r...</td>\n      <td>NaN</td>\n      <td>...</td>\n      <td>25461</td>\n      <td>False</td>\n      <td>False</td>\n      <td>0.0</td>\n      <td>0.0</td>\n      <td>en</td>\n      <td>NaN</td>\n      <td>NaN</td>\n      <td>NaN</td>\n      <td>NaN</td>\n    </tr>\n    <tr>\n      <th>3</th>\n      <td>2017-07-30 15:58:51+00:00</td>\n      <td>891689557279858688</td>\n      <td>891689557279858688</td>\n      <td>This is Darla. She commenced a snooze mid meal...</td>\n      <td>False</td>\n      <td>[0, 79]</td>\n      <td>{'hashtags': [], 'symbols': [], 'user_mentions...</td>\n      <td>{'media': [{'id': 891689552724799489, 'id_str'...</td>\n      <td>&lt;a href=\"http://twitter.com/download/iphone\" r...</td>\n      <td>NaN</td>\n      <td>...</td>\n      <td>42908</td>\n      <td>False</td>\n      <td>False</td>\n      <td>0.0</td>\n      <td>0.0</td>\n      <td>en</td>\n      <td>NaN</td>\n      <td>NaN</td>\n      <td>NaN</td>\n      <td>NaN</td>\n    </tr>\n    <tr>\n      <th>4</th>\n      <td>2017-07-29 16:00:24+00:00</td>\n      <td>891327558926688256</td>\n      <td>891327558926688256</td>\n      <td>This is Franklin. He would like you to stop ca...</td>\n      <td>False</td>\n      <td>[0, 138]</td>\n      <td>{'hashtags': [{'text': 'BarkWeek', 'indices': ...</td>\n      <td>{'media': [{'id': 891327551943041024, 'id_str'...</td>\n      <td>&lt;a href=\"http://twitter.com/download/iphone\" r...</td>\n      <td>NaN</td>\n      <td>...</td>\n      <td>41048</td>\n      <td>False</td>\n      <td>False</td>\n      <td>0.0</td>\n      <td>0.0</td>\n      <td>en</td>\n      <td>NaN</td>\n      <td>NaN</td>\n      <td>NaN</td>\n      <td>NaN</td>\n    </tr>\n    <tr>\n      <th>...</th>\n      <td>...</td>\n      <td>...</td>\n      <td>...</td>\n      <td>...</td>\n      <td>...</td>\n      <td>...</td>\n      <td>...</td>\n      <td>...</td>\n      <td>...</td>\n      <td>...</td>\n      <td>...</td>\n      <td>...</td>\n      <td>...</td>\n      <td>...</td>\n      <td>...</td>\n      <td>...</td>\n      <td>...</td>\n      <td>...</td>\n      <td>...</td>\n      <td>...</td>\n      <td>...</td>\n    </tr>\n    <tr>\n      <th>2349</th>\n      <td>2015-11-16 00:24:50+00:00</td>\n      <td>666049248165822465</td>\n      <td>666049248165822464</td>\n      <td>Here we have a 1949 1st generation vulpix. Enj...</td>\n      <td>False</td>\n      <td>[0, 120]</td>\n      <td>{'hashtags': [], 'symbols': [], 'user_mentions...</td>\n      <td>{'media': [{'id': 666049244999131136, 'id_str'...</td>\n      <td>&lt;a href=\"http://twitter.com/download/iphone\" r...</td>\n      <td>NaN</td>\n      <td>...</td>\n      <td>111</td>\n      <td>False</td>\n      <td>False</td>\n      <td>0.0</td>\n      <td>0.0</td>\n      <td>en</td>\n      <td>NaN</td>\n      <td>NaN</td>\n      <td>NaN</td>\n      <td>NaN</td>\n    </tr>\n    <tr>\n      <th>2350</th>\n      <td>2015-11-16 00:04:52+00:00</td>\n      <td>666044226329800704</td>\n      <td>666044226329800704</td>\n      <td>This is a purebred Piers Morgan. Loves to Netf...</td>\n      <td>False</td>\n      <td>[0, 137]</td>\n      <td>{'hashtags': [], 'symbols': [], 'user_mentions...</td>\n      <td>{'media': [{'id': 666044217047650304, 'id_str'...</td>\n      <td>&lt;a href=\"http://twitter.com/download/iphone\" r...</td>\n      <td>NaN</td>\n      <td>...</td>\n      <td>311</td>\n      <td>False</td>\n      <td>False</td>\n      <td>0.0</td>\n      <td>0.0</td>\n      <td>en</td>\n      <td>NaN</td>\n      <td>NaN</td>\n      <td>NaN</td>\n      <td>NaN</td>\n    </tr>\n    <tr>\n      <th>2351</th>\n      <td>2015-11-15 23:21:54+00:00</td>\n      <td>666033412701032449</td>\n      <td>666033412701032448</td>\n      <td>Here is a very happy pup. Big fan of well-main...</td>\n      <td>False</td>\n      <td>[0, 130]</td>\n      <td>{'hashtags': [], 'symbols': [], 'user_mentions...</td>\n      <td>{'media': [{'id': 666033409081393153, 'id_str'...</td>\n      <td>&lt;a href=\"http://twitter.com/download/iphone\" r...</td>\n      <td>NaN</td>\n      <td>...</td>\n      <td>128</td>\n      <td>False</td>\n      <td>False</td>\n      <td>0.0</td>\n      <td>0.0</td>\n      <td>en</td>\n      <td>NaN</td>\n      <td>NaN</td>\n      <td>NaN</td>\n      <td>NaN</td>\n    </tr>\n    <tr>\n      <th>2352</th>\n      <td>2015-11-15 23:05:30+00:00</td>\n      <td>666029285002620928</td>\n      <td>666029285002620928</td>\n      <td>This is a western brown Mitsubishi terrier. Up...</td>\n      <td>False</td>\n      <td>[0, 139]</td>\n      <td>{'hashtags': [], 'symbols': [], 'user_mentions...</td>\n      <td>{'media': [{'id': 666029276303482880, 'id_str'...</td>\n      <td>&lt;a href=\"http://twitter.com/download/iphone\" r...</td>\n      <td>NaN</td>\n      <td>...</td>\n      <td>132</td>\n      <td>False</td>\n      <td>False</td>\n      <td>0.0</td>\n      <td>0.0</td>\n      <td>en</td>\n      <td>NaN</td>\n      <td>NaN</td>\n      <td>NaN</td>\n      <td>NaN</td>\n    </tr>\n    <tr>\n      <th>2353</th>\n      <td>2015-11-15 22:32:08+00:00</td>\n      <td>666020888022790149</td>\n      <td>666020888022790144</td>\n      <td>Here we have a Japanese Irish Setter. Lost eye...</td>\n      <td>False</td>\n      <td>[0, 131]</td>\n      <td>{'hashtags': [], 'symbols': [], 'user_mentions...</td>\n      <td>{'media': [{'id': 666020881337073664, 'id_str'...</td>\n      <td>&lt;a href=\"http://twitter.com/download/iphone\" r...</td>\n      <td>NaN</td>\n      <td>...</td>\n      <td>2535</td>\n      <td>False</td>\n      <td>False</td>\n      <td>0.0</td>\n      <td>0.0</td>\n      <td>en</td>\n      <td>NaN</td>\n      <td>NaN</td>\n      <td>NaN</td>\n      <td>NaN</td>\n    </tr>\n  </tbody>\n</table>\n<p>2354 rows × 31 columns</p>\n</div>"
     },
     "execution_count": 94,
     "metadata": {},
     "output_type": "execute_result"
    }
   ],
   "source": [
    "api_list"
   ],
   "metadata": {
    "collapsed": false,
    "pycharm": {
     "name": "#%%\n"
    }
   }
  },
  {
   "cell_type": "code",
   "execution_count": 95,
   "outputs": [
    {
     "name": "stdout",
     "output_type": "stream",
     "text": [
      "<class 'pandas.core.frame.DataFrame'>\n",
      "RangeIndex: 2354 entries, 0 to 2353\n",
      "Data columns (total 31 columns):\n",
      " #   Column                         Non-Null Count  Dtype              \n",
      "---  ------                         --------------  -----              \n",
      " 0   created_at                     2354 non-null   datetime64[ns, UTC]\n",
      " 1   id                             2354 non-null   int64              \n",
      " 2   id_str                         2354 non-null   int64              \n",
      " 3   full_text                      2354 non-null   object             \n",
      " 4   truncated                      2354 non-null   bool               \n",
      " 5   display_text_range             2354 non-null   object             \n",
      " 6   entities                       2354 non-null   object             \n",
      " 7   extended_entities              2073 non-null   object             \n",
      " 8   source                         2354 non-null   object             \n",
      " 9   in_reply_to_status_id          78 non-null     float64            \n",
      " 10  in_reply_to_status_id_str      78 non-null     float64            \n",
      " 11  in_reply_to_user_id            78 non-null     float64            \n",
      " 12  in_reply_to_user_id_str        78 non-null     float64            \n",
      " 13  in_reply_to_screen_name        78 non-null     object             \n",
      " 14  user                           2354 non-null   object             \n",
      " 15  geo                            0 non-null      float64            \n",
      " 16  coordinates                    0 non-null      float64            \n",
      " 17  place                          1 non-null      object             \n",
      " 18  contributors                   0 non-null      float64            \n",
      " 19  is_quote_status                2354 non-null   bool               \n",
      " 20  retweet_count                  2354 non-null   int64              \n",
      " 21  favorite_count                 2354 non-null   int64              \n",
      " 22  favorited                      2354 non-null   bool               \n",
      " 23  retweeted                      2354 non-null   bool               \n",
      " 24  possibly_sensitive             2211 non-null   float64            \n",
      " 25  possibly_sensitive_appealable  2211 non-null   float64            \n",
      " 26  lang                           2354 non-null   object             \n",
      " 27  retweeted_status               179 non-null    object             \n",
      " 28  quoted_status_id               29 non-null     float64            \n",
      " 29  quoted_status_id_str           29 non-null     float64            \n",
      " 30  quoted_status                  28 non-null     object             \n",
      "dtypes: bool(4), datetime64[ns, UTC](1), float64(11), int64(4), object(11)\n",
      "memory usage: 505.9+ KB\n"
     ]
    }
   ],
   "source": [
    "api_list.info()"
   ],
   "metadata": {
    "collapsed": false,
    "pycharm": {
     "name": "#%%\n"
    }
   }
  },
  {
   "cell_type": "code",
   "execution_count": 96,
   "outputs": [
    {
     "data": {
      "text/plain": "en     2336\nund       7\nnl        3\nin        3\nro        1\ntl        1\nes        1\net        1\neu        1\nName: lang, dtype: int64"
     },
     "execution_count": 96,
     "metadata": {},
     "output_type": "execute_result"
    }
   ],
   "source": [
    "api_list.lang.value_counts()"
   ],
   "metadata": {
    "collapsed": false,
    "pycharm": {
     "name": "#%%\n"
    }
   }
  },
  {
   "cell_type": "markdown",
   "source": [
    "### Quality issues\n",
    "\n",
    "* None values in (doggo, floofer, pupper, puppo) as missing values\n",
    "\n",
    "* None in name column of archive instead of Nan and it has inaccurate values\n",
    "\n",
    "* timestamp is of an invalid datatype\n",
    "\n",
    "* Removal of retweets since we are interested in original tweets\n",
    "\n",
    "* Removal of tweet replies also\n",
    "\n",
    "* source has a hyperlink tag and tweets can be extracted and made categorical\n",
    "\n",
    "* text column has link for tweets and ratings, it can be removed\n",
    "\n",
    "* rating_denominator column has values less than 10 and values more than 10 for more than one dog\n",
    "\n",
    "* expanded_urls has NaN values\n"
   ],
   "metadata": {
    "collapsed": false,
    "pycharm": {
     "name": "#%% md\n"
    }
   }
  },
  {
   "cell_type": "markdown",
   "source": [
    "### Tidiness issues\n",
    "1. Dog stage must be in a column together\n",
    "\n",
    "2. Remove useless columns like img_num, for api_list, only 3 columns are needed\n",
    "3. p1, p1_dog..... must be confidence and breed\n"
   ],
   "metadata": {
    "collapsed": false,
    "pycharm": {
     "name": "#%% md\n"
    }
   }
  },
  {
   "cell_type": "markdown",
   "source": [
    "## Cleaning Data"
   ],
   "metadata": {
    "collapsed": false,
    "pycharm": {
     "name": "#%% md\n"
    }
   }
  },
  {
   "cell_type": "code",
   "execution_count": 97,
   "outputs": [],
   "source": [
    "#making copies of the dataframes\n",
    "archiveclean = archive.copy()\n",
    "img_predclean = img_pred.copy()\n",
    "api_listclean = api_list.copy()"
   ],
   "metadata": {
    "collapsed": false,
    "pycharm": {
     "name": "#%%\n"
    }
   }
  },
  {
   "cell_type": "markdown",
   "source": [
    "## Define\n",
    "\n",
    "Replace None with np.nan for  (doggo, floofer, pupper, puppo) columns\n"
   ],
   "metadata": {
    "collapsed": false,
    "pycharm": {
     "name": "#%% md\n"
    }
   }
  },
  {
   "cell_type": "markdown",
   "source": [
    "## Code"
   ],
   "metadata": {
    "collapsed": false,
    "pycharm": {
     "name": "#%% md\n"
    }
   }
  },
  {
   "cell_type": "code",
   "execution_count": 98,
   "outputs": [],
   "source": [
    "colist = ['doggo', 'floofer', 'pupper', 'puppo']\n",
    "\n",
    "for col in colist:\n",
    "    archiveclean[col]=archiveclean[col].replace('None', np.nan)"
   ],
   "metadata": {
    "collapsed": false,
    "pycharm": {
     "name": "#%%\n"
    }
   }
  },
  {
   "cell_type": "markdown",
   "source": [
    "## Test"
   ],
   "metadata": {
    "collapsed": false,
    "pycharm": {
     "name": "#%% md\n"
    }
   }
  },
  {
   "cell_type": "code",
   "execution_count": 99,
   "outputs": [
    {
     "name": "stdout",
     "output_type": "stream",
     "text": [
      "<class 'pandas.core.frame.DataFrame'>\n",
      "RangeIndex: 2356 entries, 0 to 2355\n",
      "Data columns (total 17 columns):\n",
      " #   Column                      Non-Null Count  Dtype  \n",
      "---  ------                      --------------  -----  \n",
      " 0   tweet_id                    2356 non-null   int64  \n",
      " 1   in_reply_to_status_id       78 non-null     float64\n",
      " 2   in_reply_to_user_id         78 non-null     float64\n",
      " 3   timestamp                   2356 non-null   object \n",
      " 4   source                      2356 non-null   object \n",
      " 5   text                        2356 non-null   object \n",
      " 6   retweeted_status_id         181 non-null    float64\n",
      " 7   retweeted_status_user_id    181 non-null    float64\n",
      " 8   retweeted_status_timestamp  181 non-null    object \n",
      " 9   expanded_urls               2297 non-null   object \n",
      " 10  rating_numerator            2356 non-null   int64  \n",
      " 11  rating_denominator          2356 non-null   int64  \n",
      " 12  name                        2356 non-null   object \n",
      " 13  doggo                       97 non-null     object \n",
      " 14  floofer                     10 non-null     object \n",
      " 15  pupper                      257 non-null    object \n",
      " 16  puppo                       30 non-null     object \n",
      "dtypes: float64(4), int64(3), object(10)\n",
      "memory usage: 313.0+ KB\n"
     ]
    }
   ],
   "source": [
    "archiveclean.info()"
   ],
   "metadata": {
    "collapsed": false,
    "pycharm": {
     "name": "#%%\n"
    }
   }
  },
  {
   "cell_type": "markdown",
   "source": [
    "## Define\n",
    "\n",
    "Extract tweet source from source column and change type\n"
   ],
   "metadata": {
    "collapsed": false,
    "pycharm": {
     "name": "#%% md\n"
    }
   }
  },
  {
   "cell_type": "code",
   "execution_count": 100,
   "outputs": [
    {
     "data": {
      "text/plain": "array(['<a href=\"http://twitter.com/download/iphone\" rel=\"nofollow\">Twitter for iPhone</a>',\n       '<a href=\"http://twitter.com\" rel=\"nofollow\">Twitter Web Client</a>',\n       '<a href=\"http://vine.co\" rel=\"nofollow\">Vine - Make a Scene</a>',\n       '<a href=\"https://about.twitter.com/products/tweetdeck\" rel=\"nofollow\">TweetDeck</a>'],\n      dtype=object)"
     },
     "execution_count": 100,
     "metadata": {},
     "output_type": "execute_result"
    }
   ],
   "source": [
    "# checking for unique values\n",
    "archiveclean.source.unique()"
   ],
   "metadata": {
    "collapsed": false,
    "pycharm": {
     "name": "#%%\n"
    }
   }
  },
  {
   "cell_type": "code",
   "execution_count": 101,
   "outputs": [],
   "source": [
    "# function to extract strings between tags\n",
    "def extractor(a):\n",
    "    m = a.find('>') + 1\n",
    "    n = a[m:].find('<')\n",
    "    return a[m:][:n]"
   ],
   "metadata": {
    "collapsed": false,
    "pycharm": {
     "name": "#%%\n"
    }
   }
  },
  {
   "cell_type": "code",
   "execution_count": 102,
   "outputs": [],
   "source": [
    "archiveclean.source = archiveclean.source.apply(lambda a: extractor(a)).astype('category')"
   ],
   "metadata": {
    "collapsed": false,
    "pycharm": {
     "name": "#%%\n"
    }
   }
  },
  {
   "cell_type": "markdown",
   "source": [
    "## Test"
   ],
   "metadata": {
    "collapsed": false,
    "pycharm": {
     "name": "#%% md\n"
    }
   }
  },
  {
   "cell_type": "code",
   "execution_count": 103,
   "outputs": [
    {
     "data": {
      "text/plain": "['Twitter for iPhone', 'Twitter Web Client', 'Vine - Make a Scene', 'TweetDeck']\nCategories (4, object): ['Twitter for iPhone', 'Twitter Web Client', 'Vine - Make a Scene', 'TweetDeck']"
     },
     "execution_count": 103,
     "metadata": {},
     "output_type": "execute_result"
    }
   ],
   "source": [
    "archiveclean.source.unique()"
   ],
   "metadata": {
    "collapsed": false,
    "pycharm": {
     "name": "#%%\n"
    }
   }
  },
  {
   "cell_type": "markdown",
   "source": [
    "## Define\n",
    "\n",
    "Converting timestamp to datetime"
   ],
   "metadata": {
    "collapsed": false,
    "pycharm": {
     "name": "#%% md\n"
    }
   }
  },
  {
   "cell_type": "markdown",
   "source": [
    "## Code"
   ],
   "metadata": {
    "collapsed": false,
    "pycharm": {
     "name": "#%% md\n"
    }
   }
  },
  {
   "cell_type": "code",
   "execution_count": 104,
   "outputs": [],
   "source": [
    "archiveclean.timestamp = pd.to_datetime(archiveclean.timestamp)"
   ],
   "metadata": {
    "collapsed": false,
    "pycharm": {
     "name": "#%%\n"
    }
   }
  },
  {
   "cell_type": "markdown",
   "source": [
    "## Test"
   ],
   "metadata": {
    "collapsed": false,
    "pycharm": {
     "name": "#%% md\n"
    }
   }
  },
  {
   "cell_type": "code",
   "execution_count": 105,
   "outputs": [
    {
     "data": {
      "text/plain": "datetime64[ns, UTC]"
     },
     "execution_count": 105,
     "metadata": {},
     "output_type": "execute_result"
    }
   ],
   "source": [
    "archiveclean.timestamp.dtype"
   ],
   "metadata": {
    "collapsed": false,
    "pycharm": {
     "name": "#%%\n"
    }
   }
  },
  {
   "cell_type": "markdown",
   "source": [],
   "metadata": {
    "collapsed": false,
    "pycharm": {
     "name": "#%% md\n"
    }
   }
  },
  {
   "cell_type": "markdown",
   "source": [
    "## Define\n",
    "\n",
    "Removal of retweets and replies since we are only interested in original tweets"
   ],
   "metadata": {
    "collapsed": false,
    "pycharm": {
     "name": "#%% md\n"
    }
   }
  },
  {
   "cell_type": "markdown",
   "source": [
    "## Code"
   ],
   "metadata": {
    "collapsed": false,
    "pycharm": {
     "name": "#%% md\n"
    }
   }
  },
  {
   "cell_type": "code",
   "execution_count": 106,
   "outputs": [],
   "source": [
    "archiveclean = archiveclean.query('in_reply_to_status_id == \"NaN\" &\\\n",
    "                                                    in_reply_to_user_id == \"NaN\" &\\\n",
    "                                                    retweeted_status_id == \"NaN\" &\\\n",
    "                                                    retweeted_status_user_id == \"NaN\"')\n",
    "# drop columns\n",
    "cols = ['in_reply_to_status_id','in_reply_to_user_id','retweeted_status_id',\n",
    "        'retweeted_status_user_id', 'retweeted_status_timestamp']\n",
    "archiveclean.drop(columns = cols, axis=1, inplace=True)"
   ],
   "metadata": {
    "collapsed": false,
    "pycharm": {
     "name": "#%%\n"
    }
   }
  },
  {
   "cell_type": "markdown",
   "source": [
    "## Test"
   ],
   "metadata": {
    "collapsed": false,
    "pycharm": {
     "name": "#%% md\n"
    }
   }
  },
  {
   "cell_type": "code",
   "execution_count": 107,
   "outputs": [
    {
     "name": "stdout",
     "output_type": "stream",
     "text": [
      "<class 'pandas.core.frame.DataFrame'>\n",
      "Int64Index: 2097 entries, 0 to 2355\n",
      "Data columns (total 12 columns):\n",
      " #   Column              Non-Null Count  Dtype              \n",
      "---  ------              --------------  -----              \n",
      " 0   tweet_id            2097 non-null   int64              \n",
      " 1   timestamp           2097 non-null   datetime64[ns, UTC]\n",
      " 2   source              2097 non-null   category           \n",
      " 3   text                2097 non-null   object             \n",
      " 4   expanded_urls       2094 non-null   object             \n",
      " 5   rating_numerator    2097 non-null   int64              \n",
      " 6   rating_denominator  2097 non-null   int64              \n",
      " 7   name                2097 non-null   object             \n",
      " 8   doggo               83 non-null     object             \n",
      " 9   floofer             10 non-null     object             \n",
      " 10  pupper              230 non-null    object             \n",
      " 11  puppo               24 non-null     object             \n",
      "dtypes: category(1), datetime64[ns, UTC](1), int64(3), object(7)\n",
      "memory usage: 198.8+ KB\n"
     ]
    }
   ],
   "source": [
    "archiveclean.info()"
   ],
   "metadata": {
    "collapsed": false,
    "pycharm": {
     "name": "#%%\n"
    }
   }
  },
  {
   "cell_type": "markdown",
   "source": [],
   "metadata": {
    "collapsed": false,
    "pycharm": {
     "name": "#%% md\n"
    }
   }
  },
  {
   "cell_type": "markdown",
   "source": [
    "## Define\n",
    "\n",
    "Removal of denominator values other than 10"
   ],
   "metadata": {
    "collapsed": false,
    "pycharm": {
     "name": "#%% md\n"
    }
   }
  },
  {
   "cell_type": "markdown",
   "source": [
    "## Code"
   ],
   "metadata": {
    "collapsed": false,
    "pycharm": {
     "name": "#%% md\n"
    }
   }
  },
  {
   "cell_type": "code",
   "execution_count": 108,
   "outputs": [],
   "source": [
    "archiveclean = archiveclean[archiveclean['rating_denominator'] == 10]"
   ],
   "metadata": {
    "collapsed": false,
    "pycharm": {
     "name": "#%%\n"
    }
   }
  },
  {
   "cell_type": "markdown",
   "source": [
    "## Test"
   ],
   "metadata": {
    "collapsed": false,
    "pycharm": {
     "name": "#%% md\n"
    }
   }
  },
  {
   "cell_type": "code",
   "execution_count": 109,
   "outputs": [
    {
     "data": {
      "text/plain": "       rating_denominator  rating_numerator\ncount              2080.0       2080.000000\nmean                 10.0         11.698077\nstd                   0.0         39.816875\nmin                  10.0          0.000000\n25%                  10.0         10.000000\n50%                  10.0         11.000000\n75%                  10.0         12.000000\nmax                  10.0       1776.000000",
      "text/html": "<div>\n<style scoped>\n    .dataframe tbody tr th:only-of-type {\n        vertical-align: middle;\n    }\n\n    .dataframe tbody tr th {\n        vertical-align: top;\n    }\n\n    .dataframe thead th {\n        text-align: right;\n    }\n</style>\n<table border=\"1\" class=\"dataframe\">\n  <thead>\n    <tr style=\"text-align: right;\">\n      <th></th>\n      <th>rating_denominator</th>\n      <th>rating_numerator</th>\n    </tr>\n  </thead>\n  <tbody>\n    <tr>\n      <th>count</th>\n      <td>2080.0</td>\n      <td>2080.000000</td>\n    </tr>\n    <tr>\n      <th>mean</th>\n      <td>10.0</td>\n      <td>11.698077</td>\n    </tr>\n    <tr>\n      <th>std</th>\n      <td>0.0</td>\n      <td>39.816875</td>\n    </tr>\n    <tr>\n      <th>min</th>\n      <td>10.0</td>\n      <td>0.000000</td>\n    </tr>\n    <tr>\n      <th>25%</th>\n      <td>10.0</td>\n      <td>10.000000</td>\n    </tr>\n    <tr>\n      <th>50%</th>\n      <td>10.0</td>\n      <td>11.000000</td>\n    </tr>\n    <tr>\n      <th>75%</th>\n      <td>10.0</td>\n      <td>12.000000</td>\n    </tr>\n    <tr>\n      <th>max</th>\n      <td>10.0</td>\n      <td>1776.000000</td>\n    </tr>\n  </tbody>\n</table>\n</div>"
     },
     "execution_count": 109,
     "metadata": {},
     "output_type": "execute_result"
    }
   ],
   "source": [
    "archiveclean[['rating_denominator','rating_numerator']].describe()"
   ],
   "metadata": {
    "collapsed": false,
    "pycharm": {
     "name": "#%%\n"
    }
   }
  },
  {
   "cell_type": "markdown",
   "source": [
    "## Define\n",
    "\n",
    "Remove NaN values for expanded urls"
   ],
   "metadata": {
    "collapsed": false,
    "pycharm": {
     "name": "#%% md\n"
    }
   }
  },
  {
   "cell_type": "markdown",
   "source": [
    "## Code"
   ],
   "metadata": {
    "collapsed": false,
    "pycharm": {
     "name": "#%% md\n"
    }
   }
  },
  {
   "cell_type": "code",
   "execution_count": 110,
   "outputs": [],
   "source": [
    "archiveclean = archiveclean.loc[~archiveclean.expanded_urls.isnull()]"
   ],
   "metadata": {
    "collapsed": false,
    "pycharm": {
     "name": "#%%\n"
    }
   }
  },
  {
   "cell_type": "markdown",
   "source": [
    "## Test"
   ],
   "metadata": {
    "collapsed": false,
    "pycharm": {
     "name": "#%% md\n"
    }
   }
  },
  {
   "cell_type": "code",
   "execution_count": 111,
   "outputs": [
    {
     "name": "stdout",
     "output_type": "stream",
     "text": [
      "<class 'pandas.core.frame.DataFrame'>\n",
      "Int64Index: 2077 entries, 0 to 2355\n",
      "Data columns (total 12 columns):\n",
      " #   Column              Non-Null Count  Dtype              \n",
      "---  ------              --------------  -----              \n",
      " 0   tweet_id            2077 non-null   int64              \n",
      " 1   timestamp           2077 non-null   datetime64[ns, UTC]\n",
      " 2   source              2077 non-null   category           \n",
      " 3   text                2077 non-null   object             \n",
      " 4   expanded_urls       2077 non-null   object             \n",
      " 5   rating_numerator    2077 non-null   int64              \n",
      " 6   rating_denominator  2077 non-null   int64              \n",
      " 7   name                2077 non-null   object             \n",
      " 8   doggo               83 non-null     object             \n",
      " 9   floofer             10 non-null     object             \n",
      " 10  pupper              229 non-null    object             \n",
      " 11  puppo               24 non-null     object             \n",
      "dtypes: category(1), datetime64[ns, UTC](1), int64(3), object(7)\n",
      "memory usage: 196.9+ KB\n"
     ]
    }
   ],
   "source": [
    "archiveclean.info()"
   ],
   "metadata": {
    "collapsed": false,
    "pycharm": {
     "name": "#%%\n"
    }
   }
  },
  {
   "cell_type": "markdown",
   "source": [
    "## Define\n",
    "\n",
    "Replace None in archive.name and also remove any invalid names like 'the', 'an' and those in lower cases"
   ],
   "metadata": {
    "collapsed": false,
    "pycharm": {
     "name": "#%% md\n"
    }
   }
  },
  {
   "cell_type": "markdown",
   "source": [
    "## Code"
   ],
   "metadata": {
    "collapsed": false,
    "pycharm": {
     "name": "#%% md\n"
    }
   }
  },
  {
   "cell_type": "code",
   "execution_count": 112,
   "outputs": [
    {
     "data": {
      "text/plain": "array(['such', 'a', 'quite', 'not', 'one', 'incredibly', 'BeBe', 'very',\n       'DonDon', 'my', 'his', 'an', 'actually', 'just', 'getting', 'mad',\n       'unacceptable', 'all', 'old', 'infuriating', 'CeCe', 'the', 'by',\n       'officially', 'life', 'light', 'space', 'JD', 'DayZ'], dtype=object)"
     },
     "execution_count": 112,
     "metadata": {},
     "output_type": "execute_result"
    }
   ],
   "source": [
    "archiveclean[~archiveclean.name.str.istitle()].name.unique()"
   ],
   "metadata": {
    "collapsed": false,
    "pycharm": {
     "name": "#%%\n"
    }
   }
  },
  {
   "cell_type": "code",
   "execution_count": 113,
   "outputs": [],
   "source": [
    "archiveclean.name.replace(['such', 'a', 'quite', 'not', 'one', 'incredibly', 'mad',\n",
    "                           'an', 'very', 'just', 'my', 'his', 'actually', 'getting',\n",
    "                           'this', 'unacceptable', 'all', 'old', 'infuriating', 'the',\n",
    "                           'by', 'officially', 'life', 'light', 'space', 'None'], np.nan, inplace = True)"
   ],
   "metadata": {
    "collapsed": false,
    "pycharm": {
     "name": "#%%\n"
    }
   }
  },
  {
   "cell_type": "markdown",
   "source": [
    "## Test"
   ],
   "metadata": {
    "collapsed": false,
    "pycharm": {
     "name": "#%% md\n"
    }
   }
  },
  {
   "cell_type": "code",
   "execution_count": 114,
   "outputs": [
    {
     "data": {
      "text/plain": "Lucy        11\nCharlie     11\nOliver      10\nCooper      10\nTucker       9\n            ..\nRalf         1\nBuddah       1\nPatch        1\nSuki         1\nFletcher     1\nName: name, Length: 927, dtype: int64"
     },
     "execution_count": 114,
     "metadata": {},
     "output_type": "execute_result"
    }
   ],
   "source": [
    "archiveclean.name.value_counts()"
   ],
   "metadata": {
    "collapsed": false,
    "pycharm": {
     "name": "#%%\n"
    }
   }
  },
  {
   "cell_type": "markdown",
   "source": [
    "## Define\n",
    "Remove ratings and links from text but ratings needs to be extracted first"
   ],
   "metadata": {
    "collapsed": false,
    "pycharm": {
     "name": "#%% md\n"
    }
   }
  },
  {
   "cell_type": "markdown",
   "source": [
    "## Code"
   ],
   "metadata": {
    "collapsed": false,
    "pycharm": {
     "name": "#%% md\n"
    }
   }
  },
  {
   "cell_type": "code",
   "execution_count": 115,
   "outputs": [
    {
     "data": {
      "text/plain": "0    This is Phineas. He's a mystical boy. Only eve...\n1    This is Tilly. She's just checking pup on you....\n2    This is Archie. He is a rare Norwegian Pouncin...\n3    This is Darla. She commenced a snooze mid meal...\n4    This is Franklin. He would like you to stop ca...\nName: text, dtype: object"
     },
     "execution_count": 115,
     "metadata": {},
     "output_type": "execute_result"
    }
   ],
   "source": [
    "archiveclean.text[0:5]"
   ],
   "metadata": {
    "collapsed": false,
    "pycharm": {
     "name": "#%%\n"
    }
   }
  },
  {
   "cell_type": "code",
   "execution_count": 116,
   "outputs": [
    {
     "name": "stderr",
     "output_type": "stream",
     "text": [
      "/opt/anaconda3/lib/python3.8/site-packages/pandas/core/strings.py:2001: UserWarning: This pattern has match groups. To actually get the groups, use str.extract.\n",
      "  return func(self, *args, **kwargs)\n"
     ]
    },
    {
     "data": {
      "text/plain": "                                                   text  rating_numerator\n45    This is Bella. She hopes her smile made you sm...                 5\n695   This is Logan, the Chow who lived. He solemnly...                75\n763   This is Sophie. She's a Jubilant Bush Pupper. ...                27\n1712  Here we have uncovered an entire battalion of ...                26",
      "text/html": "<div>\n<style scoped>\n    .dataframe tbody tr th:only-of-type {\n        vertical-align: middle;\n    }\n\n    .dataframe tbody tr th {\n        vertical-align: top;\n    }\n\n    .dataframe thead th {\n        text-align: right;\n    }\n</style>\n<table border=\"1\" class=\"dataframe\">\n  <thead>\n    <tr style=\"text-align: right;\">\n      <th></th>\n      <th>text</th>\n      <th>rating_numerator</th>\n    </tr>\n  </thead>\n  <tbody>\n    <tr>\n      <th>45</th>\n      <td>This is Bella. She hopes her smile made you sm...</td>\n      <td>5</td>\n    </tr>\n    <tr>\n      <th>695</th>\n      <td>This is Logan, the Chow who lived. He solemnly...</td>\n      <td>75</td>\n    </tr>\n    <tr>\n      <th>763</th>\n      <td>This is Sophie. She's a Jubilant Bush Pupper. ...</td>\n      <td>27</td>\n    </tr>\n    <tr>\n      <th>1712</th>\n      <td>Here we have uncovered an entire battalion of ...</td>\n      <td>26</td>\n    </tr>\n  </tbody>\n</table>\n</div>"
     },
     "execution_count": 116,
     "metadata": {},
     "output_type": "execute_result"
    }
   ],
   "source": [
    "#extracting rating numbers\n",
    "archiveclean[archiveclean.text.str.contains(r'(\\d+\\.\\d*\\/\\d+)')][['text','rating_numerator']]"
   ],
   "metadata": {
    "collapsed": false,
    "pycharm": {
     "name": "#%%\n"
    }
   }
  },
  {
   "cell_type": "code",
   "execution_count": 117,
   "outputs": [
    {
     "name": "stderr",
     "output_type": "stream",
     "text": [
      "/opt/anaconda3/lib/python3.8/site-packages/pandas/core/strings.py:2001: UserWarning: This pattern has match groups. To actually get the groups, use str.extract.\n",
      "  return func(self, *args, **kwargs)\n"
     ]
    }
   ],
   "source": [
    "nrate = archiveclean[archiveclean.text.str.contains(r\"(\\d+\\.\\d*\\/\\d+)\")]['text'].str.extract(r\"(\\d+\\.\\d*(?=\\/\\d+))\")"
   ],
   "metadata": {
    "collapsed": false,
    "pycharm": {
     "name": "#%%\n"
    }
   }
  },
  {
   "cell_type": "code",
   "execution_count": 118,
   "outputs": [
    {
     "data": {
      "text/plain": "          0\n45     13.5\n695    9.75\n763   11.27\n1712  11.26",
      "text/html": "<div>\n<style scoped>\n    .dataframe tbody tr th:only-of-type {\n        vertical-align: middle;\n    }\n\n    .dataframe tbody tr th {\n        vertical-align: top;\n    }\n\n    .dataframe thead th {\n        text-align: right;\n    }\n</style>\n<table border=\"1\" class=\"dataframe\">\n  <thead>\n    <tr style=\"text-align: right;\">\n      <th></th>\n      <th>0</th>\n    </tr>\n  </thead>\n  <tbody>\n    <tr>\n      <th>45</th>\n      <td>13.5</td>\n    </tr>\n    <tr>\n      <th>695</th>\n      <td>9.75</td>\n    </tr>\n    <tr>\n      <th>763</th>\n      <td>11.27</td>\n    </tr>\n    <tr>\n      <th>1712</th>\n      <td>11.26</td>\n    </tr>\n  </tbody>\n</table>\n</div>"
     },
     "execution_count": 118,
     "metadata": {},
     "output_type": "execute_result"
    }
   ],
   "source": [
    "nrate"
   ],
   "metadata": {
    "collapsed": false,
    "pycharm": {
     "name": "#%%\n"
    }
   }
  },
  {
   "cell_type": "code",
   "execution_count": 119,
   "outputs": [],
   "source": [
    "archiveclean.loc[nrate.index,'rating_numerator']=nrate.values"
   ],
   "metadata": {
    "collapsed": false,
    "pycharm": {
     "name": "#%%\n"
    }
   }
  },
  {
   "cell_type": "code",
   "execution_count": 120,
   "outputs": [],
   "source": [
    "archiveclean.rating_numerator = archiveclean.rating_numerator.astype('float')"
   ],
   "metadata": {
    "collapsed": false,
    "pycharm": {
     "name": "#%%\n"
    }
   }
  },
  {
   "cell_type": "markdown",
   "source": [
    "## Test"
   ],
   "metadata": {
    "collapsed": false,
    "pycharm": {
     "name": "#%% md\n"
    }
   }
  },
  {
   "cell_type": "code",
   "execution_count": 121,
   "outputs": [
    {
     "data": {
      "text/plain": "                tweet_id                 timestamp              source  \\\n45    883482846933004288 2017-07-08 00:28:19+00:00  Twitter for iPhone   \n695   786709082849828864 2016-10-13 23:23:56+00:00  Twitter for iPhone   \n763   778027034220126208 2016-09-20 00:24:34+00:00  Twitter for iPhone   \n1712  680494726643068929 2015-12-25 21:06:00+00:00  Twitter for iPhone   \n\n                                                   text  \\\n45    This is Bella. She hopes her smile made you sm...   \n695   This is Logan, the Chow who lived. He solemnly...   \n763   This is Sophie. She's a Jubilant Bush Pupper. ...   \n1712  Here we have uncovered an entire battalion of ...   \n\n                                          expanded_urls  rating_numerator  \\\n45    https://twitter.com/dog_rates/status/883482846...             13.50   \n695   https://twitter.com/dog_rates/status/786709082...              9.75   \n763   https://twitter.com/dog_rates/status/778027034...             11.27   \n1712  https://twitter.com/dog_rates/status/680494726...             11.26   \n\n      rating_denominator    name doggo floofer  pupper puppo  \n45                    10   Bella   NaN     NaN     NaN   NaN  \n695                   10   Logan   NaN     NaN     NaN   NaN  \n763                   10  Sophie   NaN     NaN  pupper   NaN  \n1712                  10     NaN   NaN     NaN     NaN   NaN  ",
      "text/html": "<div>\n<style scoped>\n    .dataframe tbody tr th:only-of-type {\n        vertical-align: middle;\n    }\n\n    .dataframe tbody tr th {\n        vertical-align: top;\n    }\n\n    .dataframe thead th {\n        text-align: right;\n    }\n</style>\n<table border=\"1\" class=\"dataframe\">\n  <thead>\n    <tr style=\"text-align: right;\">\n      <th></th>\n      <th>tweet_id</th>\n      <th>timestamp</th>\n      <th>source</th>\n      <th>text</th>\n      <th>expanded_urls</th>\n      <th>rating_numerator</th>\n      <th>rating_denominator</th>\n      <th>name</th>\n      <th>doggo</th>\n      <th>floofer</th>\n      <th>pupper</th>\n      <th>puppo</th>\n    </tr>\n  </thead>\n  <tbody>\n    <tr>\n      <th>45</th>\n      <td>883482846933004288</td>\n      <td>2017-07-08 00:28:19+00:00</td>\n      <td>Twitter for iPhone</td>\n      <td>This is Bella. She hopes her smile made you sm...</td>\n      <td>https://twitter.com/dog_rates/status/883482846...</td>\n      <td>13.50</td>\n      <td>10</td>\n      <td>Bella</td>\n      <td>NaN</td>\n      <td>NaN</td>\n      <td>NaN</td>\n      <td>NaN</td>\n    </tr>\n    <tr>\n      <th>695</th>\n      <td>786709082849828864</td>\n      <td>2016-10-13 23:23:56+00:00</td>\n      <td>Twitter for iPhone</td>\n      <td>This is Logan, the Chow who lived. He solemnly...</td>\n      <td>https://twitter.com/dog_rates/status/786709082...</td>\n      <td>9.75</td>\n      <td>10</td>\n      <td>Logan</td>\n      <td>NaN</td>\n      <td>NaN</td>\n      <td>NaN</td>\n      <td>NaN</td>\n    </tr>\n    <tr>\n      <th>763</th>\n      <td>778027034220126208</td>\n      <td>2016-09-20 00:24:34+00:00</td>\n      <td>Twitter for iPhone</td>\n      <td>This is Sophie. She's a Jubilant Bush Pupper. ...</td>\n      <td>https://twitter.com/dog_rates/status/778027034...</td>\n      <td>11.27</td>\n      <td>10</td>\n      <td>Sophie</td>\n      <td>NaN</td>\n      <td>NaN</td>\n      <td>pupper</td>\n      <td>NaN</td>\n    </tr>\n    <tr>\n      <th>1712</th>\n      <td>680494726643068929</td>\n      <td>2015-12-25 21:06:00+00:00</td>\n      <td>Twitter for iPhone</td>\n      <td>Here we have uncovered an entire battalion of ...</td>\n      <td>https://twitter.com/dog_rates/status/680494726...</td>\n      <td>11.26</td>\n      <td>10</td>\n      <td>NaN</td>\n      <td>NaN</td>\n      <td>NaN</td>\n      <td>NaN</td>\n      <td>NaN</td>\n    </tr>\n  </tbody>\n</table>\n</div>"
     },
     "execution_count": 121,
     "metadata": {},
     "output_type": "execute_result"
    }
   ],
   "source": [
    "archiveclean.loc[nrate.index]"
   ],
   "metadata": {
    "collapsed": false,
    "pycharm": {
     "name": "#%%\n"
    }
   }
  },
  {
   "cell_type": "code",
   "execution_count": 122,
   "outputs": [
    {
     "data": {
      "text/plain": "258     This is Hank. He's been outside for 3 minutes ...\n66      This is Duddles. He did an attempt. 13/10 some...\n2059    This is Sparky. That's his pancake now. He wil...\n441     This is Howie. He just bloomed. 11/10 revoluti...\n1279    Here's a pupper with magic eyes. Not wearing a...\nName: text, dtype: object"
     },
     "execution_count": 122,
     "metadata": {},
     "output_type": "execute_result"
    }
   ],
   "source": [
    "archiveclean.text.sample(5)"
   ],
   "metadata": {
    "collapsed": false,
    "pycharm": {
     "name": "#%%\n"
    }
   }
  },
  {
   "cell_type": "markdown",
   "source": [
    "## Define\n",
    "\n",
    "Make dosgtage and column and remove separate dog stage columns"
   ],
   "metadata": {
    "collapsed": false,
    "pycharm": {
     "name": "#%% md\n"
    }
   }
  },
  {
   "cell_type": "markdown",
   "source": [
    "## Code"
   ],
   "metadata": {
    "collapsed": false,
    "pycharm": {
     "name": "#%% md\n"
    }
   }
  },
  {
   "cell_type": "code",
   "execution_count": 123,
   "outputs": [],
   "source": [
    "# joining dog stages as one column\n",
    "archiveclean['dog_stage'] = archiveclean['text'].str.extract('(puppo|pupper|floofer|doggo)', expand=True)"
   ],
   "metadata": {
    "collapsed": false,
    "pycharm": {
     "name": "#%%\n"
    }
   }
  },
  {
   "cell_type": "code",
   "execution_count": 124,
   "outputs": [],
   "source": [
    "#changing dog stage to dtype to category\n",
    "archiveclean.dog_stage=archiveclean.dog_stage.astype('category')\n",
    "\n",
    "#drop the four cols\n",
    "cols=['doggo','floofer','pupper', 'puppo']\n",
    "archiveclean = archiveclean.drop(columns= cols, axis = 1)"
   ],
   "metadata": {
    "collapsed": false,
    "pycharm": {
     "name": "#%%\n"
    }
   }
  },
  {
   "cell_type": "markdown",
   "source": [
    "## Test"
   ],
   "metadata": {
    "collapsed": false,
    "pycharm": {
     "name": "#%% md\n"
    }
   }
  },
  {
   "cell_type": "code",
   "execution_count": 125,
   "outputs": [
    {
     "name": "stdout",
     "output_type": "stream",
     "text": [
      "<class 'pandas.core.frame.DataFrame'>\n",
      "Int64Index: 2077 entries, 0 to 2355\n",
      "Data columns (total 9 columns):\n",
      " #   Column              Non-Null Count  Dtype              \n",
      "---  ------              --------------  -----              \n",
      " 0   tweet_id            2077 non-null   int64              \n",
      " 1   timestamp           2077 non-null   datetime64[ns, UTC]\n",
      " 2   source              2077 non-null   category           \n",
      " 3   text                2077 non-null   object             \n",
      " 4   expanded_urls       2077 non-null   object             \n",
      " 5   rating_numerator    2077 non-null   float64            \n",
      " 6   rating_denominator  2077 non-null   int64              \n",
      " 7   name                1387 non-null   object             \n",
      " 8   dog_stage           346 non-null    category           \n",
      "dtypes: category(2), datetime64[ns, UTC](1), float64(1), int64(2), object(3)\n",
      "memory usage: 214.2+ KB\n"
     ]
    }
   ],
   "source": [
    "archiveclean.info()"
   ],
   "metadata": {
    "collapsed": false,
    "pycharm": {
     "name": "#%%\n"
    }
   }
  },
  {
   "cell_type": "code",
   "execution_count": 126,
   "outputs": [
    {
     "data": {
      "text/plain": "pupper     234\ndoggo       79\npuppo       29\nfloofer      4\nName: dog_stage, dtype: int64"
     },
     "execution_count": 126,
     "metadata": {},
     "output_type": "execute_result"
    }
   ],
   "source": [
    "archiveclean.dog_stage.value_counts()"
   ],
   "metadata": {
    "collapsed": false,
    "pycharm": {
     "name": "#%%\n"
    }
   }
  },
  {
   "cell_type": "markdown",
   "source": [
    "## Define\n",
    "\n",
    "Remove img_num from img_pred cleaned dataframe"
   ],
   "metadata": {
    "collapsed": false,
    "pycharm": {
     "name": "#%% md\n"
    }
   }
  },
  {
   "cell_type": "markdown",
   "source": [
    "## Code"
   ],
   "metadata": {
    "collapsed": false,
    "pycharm": {
     "name": "#%% md\n"
    }
   }
  },
  {
   "cell_type": "code",
   "execution_count": 127,
   "outputs": [],
   "source": [
    "img_predclean.drop('img_num', axis=1, inplace=True)"
   ],
   "metadata": {
    "collapsed": false,
    "pycharm": {
     "name": "#%%\n"
    }
   }
  },
  {
   "cell_type": "markdown",
   "source": [
    "## Test"
   ],
   "metadata": {
    "collapsed": false,
    "pycharm": {
     "name": "#%% md\n"
    }
   }
  },
  {
   "cell_type": "code",
   "execution_count": 128,
   "outputs": [
    {
     "name": "stdout",
     "output_type": "stream",
     "text": [
      "<class 'pandas.core.frame.DataFrame'>\n",
      "RangeIndex: 2075 entries, 0 to 2074\n",
      "Data columns (total 11 columns):\n",
      " #   Column    Non-Null Count  Dtype  \n",
      "---  ------    --------------  -----  \n",
      " 0   tweet_id  2075 non-null   int64  \n",
      " 1   jpg_url   2075 non-null   object \n",
      " 2   p1        2075 non-null   object \n",
      " 3   p1_conf   2075 non-null   float64\n",
      " 4   p1_dog    2075 non-null   bool   \n",
      " 5   p2        2075 non-null   object \n",
      " 6   p2_conf   2075 non-null   float64\n",
      " 7   p2_dog    2075 non-null   bool   \n",
      " 8   p3        2075 non-null   object \n",
      " 9   p3_conf   2075 non-null   float64\n",
      " 10  p3_dog    2075 non-null   bool   \n",
      "dtypes: bool(3), float64(3), int64(1), object(4)\n",
      "memory usage: 135.9+ KB\n"
     ]
    }
   ],
   "source": [
    "img_predclean.info()"
   ],
   "metadata": {
    "collapsed": false,
    "pycharm": {
     "name": "#%%\n"
    }
   }
  },
  {
   "cell_type": "markdown",
   "source": [
    "## Define\n",
    "\n",
    "Creating breed and confidence columns"
   ],
   "metadata": {
    "collapsed": false,
    "pycharm": {
     "name": "#%% md\n"
    }
   }
  },
  {
   "cell_type": "code",
   "execution_count": 129,
   "outputs": [],
   "source": [
    "breed = []\n",
    "confidence = []\n",
    "for index, row in img_predclean.iterrows():\n",
    "    if row['p1_dog'] and row['p1_conf']==max([row['p1_conf'],row['p2_conf'],row['p3_conf']]):\n",
    "        breed.append(row['p1'])\n",
    "        confidence.append(row['p1_conf'])\n",
    "    elif row['p2_dog'] and row['p2_conf']==max([row['p1_conf'],row['p2_conf'],row['p3_conf']]):\n",
    "        breed.append(row['p2'])\n",
    "        confidence.append(row['p2_conf'])\n",
    "    elif row['p3_dog'] and row['p1_conf']==max([row['p1_conf'],row['p2_conf'],row['p3_conf']]):\n",
    "        breed.append(row['p3'])\n",
    "        confidence.append(row['p3_conf'])\n",
    "    else:\n",
    "        breed.append(np.nan)\n",
    "        confidence.append(np.nan)\n",
    "\n",
    "img_predclean['breed']= breed\n",
    "img_predclean['confidence']= confidence"
   ],
   "metadata": {
    "collapsed": false,
    "pycharm": {
     "name": "#%%\n"
    }
   }
  },
  {
   "cell_type": "code",
   "execution_count": 153,
   "outputs": [],
   "source": [
    "img_predclean = img_predclean[['tweet_id', 'jpg_url', 'breed','confidence']]"
   ],
   "metadata": {
    "collapsed": false,
    "pycharm": {
     "name": "#%%\n"
    }
   }
  },
  {
   "cell_type": "markdown",
   "source": [
    "## Test"
   ],
   "metadata": {
    "collapsed": false,
    "pycharm": {
     "name": "#%% md\n"
    }
   }
  },
  {
   "cell_type": "code",
   "execution_count": 131,
   "outputs": [
    {
     "name": "stdout",
     "output_type": "stream",
     "text": [
      "<class 'pandas.core.frame.DataFrame'>\n",
      "RangeIndex: 2075 entries, 0 to 2074\n",
      "Data columns (total 4 columns):\n",
      " #   Column      Non-Null Count  Dtype  \n",
      "---  ------      --------------  -----  \n",
      " 0   tweet_id    2075 non-null   int64  \n",
      " 1   jpg_url     2075 non-null   object \n",
      " 2   breed       1697 non-null   object \n",
      " 3   confidence  1697 non-null   float64\n",
      "dtypes: float64(1), int64(1), object(2)\n",
      "memory usage: 65.0+ KB\n"
     ]
    }
   ],
   "source": [
    "img_predclean.info()"
   ],
   "metadata": {
    "collapsed": false,
    "pycharm": {
     "name": "#%%\n"
    }
   }
  },
  {
   "cell_type": "markdown",
   "source": [
    "\n",
    "## Define\n",
    "Removing not needed columns from api list dataframe"
   ],
   "metadata": {
    "collapsed": false,
    "pycharm": {
     "name": "#%% md\n"
    }
   }
  },
  {
   "cell_type": "markdown",
   "source": [
    "## Code"
   ],
   "metadata": {
    "collapsed": false,
    "pycharm": {
     "name": "#%% md\n"
    }
   }
  },
  {
   "cell_type": "code",
   "execution_count": 132,
   "outputs": [
    {
     "data": {
      "text/plain": "Index(['created_at', 'id', 'id_str', 'full_text', 'truncated',\n       'display_text_range', 'entities', 'extended_entities', 'source',\n       'in_reply_to_status_id', 'in_reply_to_status_id_str',\n       'in_reply_to_user_id', 'in_reply_to_user_id_str',\n       'in_reply_to_screen_name', 'user', 'geo', 'coordinates', 'place',\n       'contributors', 'is_quote_status', 'retweet_count', 'favorite_count',\n       'favorited', 'retweeted', 'possibly_sensitive',\n       'possibly_sensitive_appealable', 'lang', 'retweeted_status',\n       'quoted_status_id', 'quoted_status_id_str', 'quoted_status'],\n      dtype='object')"
     },
     "execution_count": 132,
     "metadata": {},
     "output_type": "execute_result"
    }
   ],
   "source": [
    "api_listclean.columns"
   ],
   "metadata": {
    "collapsed": false,
    "pycharm": {
     "name": "#%%\n"
    }
   }
  },
  {
   "cell_type": "code",
   "execution_count": 133,
   "outputs": [],
   "source": [
    "api_listclean = api_listclean[['id', 'retweet_count','favorite_count']]\n",
    "\n",
    "api_listclean.columns =['tweet_id', 'retweet_count', 'favorite_count']"
   ],
   "metadata": {
    "collapsed": false,
    "pycharm": {
     "name": "#%%\n"
    }
   }
  },
  {
   "cell_type": "markdown",
   "source": [
    "## Test"
   ],
   "metadata": {
    "collapsed": false,
    "pycharm": {
     "name": "#%% md\n"
    }
   }
  },
  {
   "cell_type": "code",
   "execution_count": 134,
   "outputs": [
    {
     "name": "stdout",
     "output_type": "stream",
     "text": [
      "<class 'pandas.core.frame.DataFrame'>\n",
      "RangeIndex: 2354 entries, 0 to 2353\n",
      "Data columns (total 3 columns):\n",
      " #   Column          Non-Null Count  Dtype\n",
      "---  ------          --------------  -----\n",
      " 0   tweet_id        2354 non-null   int64\n",
      " 1   retweet_count   2354 non-null   int64\n",
      " 2   favorite_count  2354 non-null   int64\n",
      "dtypes: int64(3)\n",
      "memory usage: 55.3 KB\n"
     ]
    }
   ],
   "source": [
    "api_listclean.info()"
   ],
   "metadata": {
    "collapsed": false,
    "pycharm": {
     "name": "#%%\n"
    }
   }
  },
  {
   "cell_type": "code",
   "execution_count": 135,
   "outputs": [],
   "source": [
    "#merging data\n",
    "df = pd.merge(archiveclean,img_predclean, on = 'tweet_id')\n",
    "df = pd.merge(df,api_listclean, on='tweet_id')"
   ],
   "metadata": {
    "collapsed": false,
    "pycharm": {
     "name": "#%%\n"
    }
   }
  },
  {
   "cell_type": "code",
   "execution_count": 136,
   "outputs": [
    {
     "data": {
      "text/plain": "             tweet_id                 timestamp              source  \\\n0  892420643555336193 2017-08-01 16:23:56+00:00  Twitter for iPhone   \n1  892177421306343426 2017-08-01 00:17:27+00:00  Twitter for iPhone   \n2  891815181378084864 2017-07-31 00:18:03+00:00  Twitter for iPhone   \n3  891689557279858688 2017-07-30 15:58:51+00:00  Twitter for iPhone   \n4  891327558926688256 2017-07-29 16:00:24+00:00  Twitter for iPhone   \n\n                                                text  \\\n0  This is Phineas. He's a mystical boy. Only eve...   \n1  This is Tilly. She's just checking pup on you....   \n2  This is Archie. He is a rare Norwegian Pouncin...   \n3  This is Darla. She commenced a snooze mid meal...   \n4  This is Franklin. He would like you to stop ca...   \n\n                                       expanded_urls  rating_numerator  \\\n0  https://twitter.com/dog_rates/status/892420643...              13.0   \n1  https://twitter.com/dog_rates/status/892177421...              13.0   \n2  https://twitter.com/dog_rates/status/891815181...              12.0   \n3  https://twitter.com/dog_rates/status/891689557...              13.0   \n4  https://twitter.com/dog_rates/status/891327558...              12.0   \n\n   rating_denominator      name dog_stage  \\\n0                  10   Phineas       NaN   \n1                  10     Tilly       NaN   \n2                  10    Archie       NaN   \n3                  10     Darla       NaN   \n4                  10  Franklin       NaN   \n\n                                           jpg_url      breed  confidence  \\\n0  https://pbs.twimg.com/media/DGKD1-bXoAAIAUK.jpg        NaN         NaN   \n1  https://pbs.twimg.com/media/DGGmoV4XsAAUL6n.jpg  Chihuahua    0.323581   \n2  https://pbs.twimg.com/media/DGBdLU1WsAANxJ9.jpg  Chihuahua    0.716012   \n3  https://pbs.twimg.com/media/DF_q7IAWsAEuuN8.jpg        NaN         NaN   \n4  https://pbs.twimg.com/media/DF6hr6BUMAAzZgT.jpg     basset    0.555712   \n\n   retweet_count  favorite_count  \n0           8853           39467  \n1           6514           33819  \n2           4328           25461  \n3           8964           42908  \n4           9774           41048  ",
      "text/html": "<div>\n<style scoped>\n    .dataframe tbody tr th:only-of-type {\n        vertical-align: middle;\n    }\n\n    .dataframe tbody tr th {\n        vertical-align: top;\n    }\n\n    .dataframe thead th {\n        text-align: right;\n    }\n</style>\n<table border=\"1\" class=\"dataframe\">\n  <thead>\n    <tr style=\"text-align: right;\">\n      <th></th>\n      <th>tweet_id</th>\n      <th>timestamp</th>\n      <th>source</th>\n      <th>text</th>\n      <th>expanded_urls</th>\n      <th>rating_numerator</th>\n      <th>rating_denominator</th>\n      <th>name</th>\n      <th>dog_stage</th>\n      <th>jpg_url</th>\n      <th>breed</th>\n      <th>confidence</th>\n      <th>retweet_count</th>\n      <th>favorite_count</th>\n    </tr>\n  </thead>\n  <tbody>\n    <tr>\n      <th>0</th>\n      <td>892420643555336193</td>\n      <td>2017-08-01 16:23:56+00:00</td>\n      <td>Twitter for iPhone</td>\n      <td>This is Phineas. He's a mystical boy. Only eve...</td>\n      <td>https://twitter.com/dog_rates/status/892420643...</td>\n      <td>13.0</td>\n      <td>10</td>\n      <td>Phineas</td>\n      <td>NaN</td>\n      <td>https://pbs.twimg.com/media/DGKD1-bXoAAIAUK.jpg</td>\n      <td>NaN</td>\n      <td>NaN</td>\n      <td>8853</td>\n      <td>39467</td>\n    </tr>\n    <tr>\n      <th>1</th>\n      <td>892177421306343426</td>\n      <td>2017-08-01 00:17:27+00:00</td>\n      <td>Twitter for iPhone</td>\n      <td>This is Tilly. She's just checking pup on you....</td>\n      <td>https://twitter.com/dog_rates/status/892177421...</td>\n      <td>13.0</td>\n      <td>10</td>\n      <td>Tilly</td>\n      <td>NaN</td>\n      <td>https://pbs.twimg.com/media/DGGmoV4XsAAUL6n.jpg</td>\n      <td>Chihuahua</td>\n      <td>0.323581</td>\n      <td>6514</td>\n      <td>33819</td>\n    </tr>\n    <tr>\n      <th>2</th>\n      <td>891815181378084864</td>\n      <td>2017-07-31 00:18:03+00:00</td>\n      <td>Twitter for iPhone</td>\n      <td>This is Archie. He is a rare Norwegian Pouncin...</td>\n      <td>https://twitter.com/dog_rates/status/891815181...</td>\n      <td>12.0</td>\n      <td>10</td>\n      <td>Archie</td>\n      <td>NaN</td>\n      <td>https://pbs.twimg.com/media/DGBdLU1WsAANxJ9.jpg</td>\n      <td>Chihuahua</td>\n      <td>0.716012</td>\n      <td>4328</td>\n      <td>25461</td>\n    </tr>\n    <tr>\n      <th>3</th>\n      <td>891689557279858688</td>\n      <td>2017-07-30 15:58:51+00:00</td>\n      <td>Twitter for iPhone</td>\n      <td>This is Darla. She commenced a snooze mid meal...</td>\n      <td>https://twitter.com/dog_rates/status/891689557...</td>\n      <td>13.0</td>\n      <td>10</td>\n      <td>Darla</td>\n      <td>NaN</td>\n      <td>https://pbs.twimg.com/media/DF_q7IAWsAEuuN8.jpg</td>\n      <td>NaN</td>\n      <td>NaN</td>\n      <td>8964</td>\n      <td>42908</td>\n    </tr>\n    <tr>\n      <th>4</th>\n      <td>891327558926688256</td>\n      <td>2017-07-29 16:00:24+00:00</td>\n      <td>Twitter for iPhone</td>\n      <td>This is Franklin. He would like you to stop ca...</td>\n      <td>https://twitter.com/dog_rates/status/891327558...</td>\n      <td>12.0</td>\n      <td>10</td>\n      <td>Franklin</td>\n      <td>NaN</td>\n      <td>https://pbs.twimg.com/media/DF6hr6BUMAAzZgT.jpg</td>\n      <td>basset</td>\n      <td>0.555712</td>\n      <td>9774</td>\n      <td>41048</td>\n    </tr>\n  </tbody>\n</table>\n</div>"
     },
     "execution_count": 136,
     "metadata": {},
     "output_type": "execute_result"
    }
   ],
   "source": [
    "df.head()"
   ],
   "metadata": {
    "collapsed": false,
    "pycharm": {
     "name": "#%%\n"
    }
   }
  },
  {
   "cell_type": "code",
   "execution_count": 137,
   "outputs": [
    {
     "name": "stdout",
     "output_type": "stream",
     "text": [
      "<class 'pandas.core.frame.DataFrame'>\n",
      "Int64Index: 1954 entries, 0 to 1953\n",
      "Data columns (total 14 columns):\n",
      " #   Column              Non-Null Count  Dtype              \n",
      "---  ------              --------------  -----              \n",
      " 0   tweet_id            1954 non-null   int64              \n",
      " 1   timestamp           1954 non-null   datetime64[ns, UTC]\n",
      " 2   source              1954 non-null   category           \n",
      " 3   text                1954 non-null   object             \n",
      " 4   expanded_urls       1954 non-null   object             \n",
      " 5   rating_numerator    1954 non-null   float64            \n",
      " 6   rating_denominator  1954 non-null   int64              \n",
      " 7   name                1346 non-null   object             \n",
      " 8   dog_stage           316 non-null    category           \n",
      " 9   jpg_url             1954 non-null   object             \n",
      " 10  breed               1601 non-null   object             \n",
      " 11  confidence          1601 non-null   float64            \n",
      " 12  retweet_count       1954 non-null   int64              \n",
      " 13  favorite_count      1954 non-null   int64              \n",
      "dtypes: category(2), datetime64[ns, UTC](1), float64(2), int64(4), object(5)\n",
      "memory usage: 202.6+ KB\n"
     ]
    }
   ],
   "source": [
    "df.info()"
   ],
   "metadata": {
    "collapsed": false,
    "pycharm": {
     "name": "#%%\n"
    }
   }
  },
  {
   "cell_type": "code",
   "execution_count": 138,
   "outputs": [],
   "source": [
    "#saving master data\n",
    "df.to_csv('twitter_archive_master.csv')"
   ],
   "metadata": {
    "collapsed": false,
    "pycharm": {
     "name": "#%%\n"
    }
   }
  },
  {
   "cell_type": "markdown",
   "source": [
    "## Visualizations"
   ],
   "metadata": {
    "collapsed": false,
    "pycharm": {
     "name": "#%% md\n"
    }
   }
  },
  {
   "cell_type": "markdown",
   "source": [
    "Frequency chart for rating distribution"
   ],
   "metadata": {
    "collapsed": false,
    "pycharm": {
     "name": "#%% md\n"
    }
   }
  },
  {
   "cell_type": "code",
   "execution_count": 152,
   "outputs": [
    {
     "name": "stderr",
     "output_type": "stream",
     "text": [
      "/opt/anaconda3/lib/python3.8/site-packages/seaborn/_decorators.py:36: FutureWarning: Pass the following variables as keyword args: x, y. From version 0.12, the only valid positional argument will be `data`, and passing other arguments without an explicit keyword will result in an error or misinterpretation.\n",
      "  warnings.warn(\n"
     ]
    },
    {
     "data": {
      "text/plain": "<Figure size 864x432 with 1 Axes>",
      "image/png": "[encoded data removed]"
     },
     "metadata": {
      "needs_background": "light"
     },
     "output_type": "display_data"
    }
   ],
   "source": [
    "data = df.rating_numerator.value_counts()\n",
    "\n",
    "x = data.index\n",
    "y = data.values\n",
    "fig, ax = plt.subplots(figsize=(12, 6))\n",
    "g = sns.barplot(x, y, palette='magma', ax=ax)\n",
    "ax.set(xlabel='Ratings', ylabel='Frequency', title='Ratings frequency')\n",
    "plt.show()"
   ],
   "metadata": {
    "collapsed": false,
    "pycharm": {
     "name": "#%%\n"
    }
   }
  },
  {
   "cell_type": "code",
   "execution_count": null,
   "outputs": [],
   "source": [
    "df.rating_numerator.unique()"
   ],
   "metadata": {
    "collapsed": false,
    "pycharm": {
     "name": "#%%\n"
    }
   }
  },
  {
   "cell_type": "code",
   "execution_count": null,
   "outputs": [],
   "source": [
    "ax = sns.regplot(x='retweet_count', y='favorite_count', data=df, color='r', scatter_kws={'s':5, 'alpha':.3})\n",
    "ax.set(xlabel='Retweet count', ylabel='Favorite count', title='Favorites VS Retweets')\n",
    "plt.show()"
   ],
   "metadata": {
    "collapsed": false,
    "pycharm": {
     "name": "#%%\n"
    }
   }
  },
  {
   "cell_type": "markdown",
   "source": [
    "Favorite and retweets are positively correlated"
   ],
   "metadata": {
    "collapsed": false
   }
  },
  {
   "cell_type": "markdown",
   "source": [
    "## Dog stages\n",
    "\n",
    "Here I will find the most popular dog state based on the count of the tweet ids"
   ],
   "metadata": {
    "collapsed": false
   }
  },
  {
   "cell_type": "code",
   "execution_count": null,
   "outputs": [],
   "source": [
    "data = df.groupby('dog_stage').count()['tweet_id']\n",
    "ax = sns.barplot(y=data.index, x=data.values, palette='viridis')\n",
    "ax.set(xlabel='Count', ylabel='Dog stage', title='Dog Stage Counts')\n",
    "plt.show()"
   ],
   "metadata": {
    "collapsed": false,
    "pycharm": {
     "name": "#%%\n"
    }
   }
  },
  {
   "cell_type": "markdown",
   "source": [
    "The most popular dog stage is pupper"
   ],
   "metadata": {
    "collapsed": false,
    "pycharm": {
     "name": "#%% md\n"
    }
   }
  },
  {
   "cell_type": "markdown",
   "source": [
    "## Tweet per month\n",
    "\n",
    "Here I will define \"interactions\" as the sum of retweets and favorites. I will create a new column called monthly_tweetact with this sum, and then use a similar process as before to find the average tweet_activity per tweet by month."
   ],
   "metadata": {
    "collapsed": false,
    "pycharm": {
     "name": "#%% md\n"
    }
   }
  },
  {
   "cell_type": "code",
   "source": [
    "df['tweet_activity']=df['retweet_count']+df['favorite_count']"
   ],
   "metadata": {
    "collapsed": false,
    "pycharm": {
     "name": "#%%\n"
    }
   },
   "execution_count": 143,
   "outputs": []
  },
  {
   "cell_type": "code",
   "source": [
    "monthly_tweetact = df.groupby(df['timestamp'].dt.to_period('M'))['tweet_activity'].mean()"
   ],
   "metadata": {
    "collapsed": false,
    "pycharm": {
     "name": "#%%\n"
    }
   },
   "execution_count": 144,
   "outputs": [
    {
     "name": "stderr",
     "output_type": "stream",
     "text": [
      "/opt/anaconda3/lib/python3.8/site-packages/pandas/core/arrays/datetimes.py:1088: UserWarning: Converting to PeriodArray/Index representation will drop timezone information.\n",
      "  warnings.warn(\n"
     ]
    }
   ]
  },
  {
   "cell_type": "code",
   "source": [
    "monthly_tweetact.plot()\n",
    "plt.title('Average Activity Per Tweet by Month')\n",
    "plt.xlabel('Month')\n",
    "plt.ylabel('Tweet Activity');"
   ],
   "metadata": {
    "collapsed": false,
    "pycharm": {
     "name": "#%%\n"
    }
   },
   "execution_count": 145,
   "outputs": [
    {
     "data": {
      "text/plain": "<Figure size 432x288 with 1 Axes>",
      "image/png": "[encoded data removed]"
     },
     "metadata": {
      "needs_background": "light"
     },
     "output_type": "display_data"
    }
   ]
  },
  {
   "cell_type": "markdown",
   "source": [
    "The interaction with the tweet increased from Jan 2016 and had a nose dive in July 2016. It picked up again and had a lot of interactions."
   ],
   "metadata": {
    "collapsed": false,
    "pycharm": {
     "name": "#%% md\n"
    }
   }
  },
  {
   "cell_type": "markdown",
   "source": [
    "## Comparing tweet sources"
   ],
   "metadata": {
    "collapsed": false,
    "pycharm": {
     "name": "#%% md\n"
    }
   }
  },
  {
   "cell_type": "code",
   "source": [
    "dt = df.groupby('source').count()['tweet_id']\n",
    "bp = sns.barplot(y=dt.index, x=dt.values, palette = 'magma')\n",
    "bp.set(xlabel ='Count', ylabel= 'Tweet Source', title = 'Tweet Source Graph')\n",
    "plt.show()"
   ],
   "metadata": {
    "collapsed": false,
    "pycharm": {
     "name": "#%%\n"
    }
   },
   "execution_count": 146,
   "outputs": [
    {
     "data": {
      "text/plain": "<Figure size 432x288 with 1 Axes>",
      "image/png": "[encoded data removed]"
     },
     "metadata": {
      "needs_background": "light"
     },
     "output_type": "display_data"
    }
   ]
  },
  {
   "cell_type": "markdown",
   "source": [
    "From the graph, Most tweets were from iPhone users as Vine makes the least users"
   ],
   "metadata": {
    "collapsed": false,
    "pycharm": {
     "name": "#%% md\n"
    }
   }
  },
  {
   "cell_type": "code",
   "execution_count": 149,
   "outputs": [
    {
     "name": "stderr",
     "output_type": "stream",
     "text": [
      "/opt/anaconda3/lib/python3.8/site-packages/pandas/core/arrays/datetimes.py:1088: UserWarning: Converting to PeriodArray/Index representation will drop timezone information.\n",
      "  warnings.warn(\n"
     ]
    }
   ],
   "source": [
    "mtc = archiveclean.groupby(archiveclean['timestamp'].dt.to_period('M'))['tweet_id'].count();"
   ],
   "metadata": {
    "collapsed": false,
    "pycharm": {
     "name": "#%%\n"
    }
   }
  },
  {
   "cell_type": "code",
   "execution_count": 150,
   "outputs": [
    {
     "data": {
      "text/plain": "<Figure size 432x288 with 1 Axes>",
      "image/png": "[encoded data removed]"
     },
     "metadata": {
      "needs_background": "light"
     },
     "output_type": "display_data"
    }
   ],
   "source": [
    "mtc.plot()\n",
    "plt.title('Tweet Count by Month')\n",
    "plt.xlabel('Month')\n",
    "plt.ylabel('Number of Tweets');"
   ],
   "metadata": {
    "collapsed": false,
    "pycharm": {
     "name": "#%%\n"
    }
   }
  },
  {
   "cell_type": "markdown",
   "source": [
    "## Conclusion\n",
    "\n",
    "\n",
    "A report will be found on the wrangle report file."
   ],
   "metadata": {
    "collapsed": false,
    "pycharm": {
     "name": "#%% md\n"
    }
   }
  },
  {
   "cell_type": "code",
   "execution_count": null,
   "outputs": [],
   "source": [],
   "metadata": {
    "collapsed": false,
    "pycharm": {
     "name": "#%%\n"
    }
   }
  }
 ],
 "metadata": {
  "kernelspec": {
   "display_name": "Python 3",
   "language": "python",
   "name": "python3"
  },
  "language_info": {
   "codemirror_mode": {
    "name": "ipython",
    "version": 2
   },
   "file_extension": ".py",
   "mimetype": "text/x-python",
   "name": "python",
   "nbconvert_exporter": "python",
   "pygments_lexer": "ipython2",
   "version": "2.7.6"
  }
 },
 "nbformat": 4,
 "nbformat_minor": 0
}