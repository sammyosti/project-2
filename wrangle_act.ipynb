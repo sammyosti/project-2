{
 "cells": [
  {
   "cell_type": "code",
   "execution_count": 124,
   "outputs": [],
   "source": [
    "import pandas as pd\n",
    "import numpy as np\n",
    "import matplotlib.pyplot as plt\n",
    "%matplotlib inline\n",
    "import requests\n",
    "import tweepy\n",
    "from tweepy import OAuthHandler\n",
    "import json\n",
    "from timeit import default_timer as timer"
   ],
   "metadata": {
    "collapsed": false,
    "pycharm": {
     "name": "#%%\n"
    }
   }
  },
  {
   "cell_type": "markdown",
   "source": [
    "# Project: Wrangling and Analyze Data"
   ],
   "metadata": {
    "collapsed": false
   }
  },
  {
   "cell_type": "markdown",
   "source": [
    "## Data Gathering\n",
    "In the cell below, gather **all** three pieces of data for this project and load them in the notebook. **Note:** the methods required to gather each data are different.\n",
    "1. Directly download the WeRateDogs Twitter archive data (twitter_archive_enhanced.csv)"
   ],
   "metadata": {
    "collapsed": false
   }
  },
  {
   "cell_type": "code",
   "execution_count": 125,
   "outputs": [],
   "source": [
    "#importing archive data\n",
    "archive = pd.read_csv('twitter-archive-enhanced.csv')"
   ],
   "metadata": {
    "collapsed": false,
    "pycharm": {
     "name": "#%%\n"
    }
   }
  },
  {
   "cell_type": "markdown",
   "metadata": {},
   "source": [
    "2. Use the Requests library to download the tweet image prediction (image_predictions.tsv)"
   ]
  },
  {
   "cell_type": "code",
   "execution_count": 126,
   "outputs": [],
   "source": [
    "#downloading tweet image predictions\n",
    "url='https://d17h27t6h515a5.cloudfront.net/topher/2017/August/599fd2ad_image-predictions/image-predictions.tsv'\n",
    "response = requests.get(url)\n",
    "\n",
    "with open('image-predictions.tsv', mode= 'wb') as file:\n",
    "    file.write(response.content)"
   ],
   "metadata": {
    "collapsed": false,
    "pycharm": {
     "name": "#%%\n"
    }
   }
  },
  {
   "cell_type": "code",
   "execution_count": 127,
   "outputs": [
    {
     "data": {
      "text/plain": "<Response [200]>"
     },
     "execution_count": 127,
     "metadata": {},
     "output_type": "execute_result"
    }
   ],
   "source": [
    "response"
   ],
   "metadata": {
    "collapsed": false,
    "pycharm": {
     "name": "#%%\n"
    }
   }
  },
  {
   "cell_type": "code",
   "execution_count": 128,
   "outputs": [],
   "source": [
    "imgpred = pd.read_csv('image-predictions.tsv', sep='\\t')"
   ],
   "metadata": {
    "collapsed": false,
    "pycharm": {
     "name": "#%%\n"
    }
   }
  },
  {
   "cell_type": "markdown",
   "metadata": {},
   "source": [
    "3. Use the Tweepy library to query additional data via the Twitter API (tweet_json.txt)"
   ]
  },
  {
   "cell_type": "code",
   "execution_count": 129,
   "metadata": {},
   "outputs": [],
   "source": [
    "#getting tweet data\n",
    "\n",
    "#consumer_key ='1XhhuRqy6AUbHx0Jrb5xJUlFY'\n",
    "#consumer_secret = 'pauUJSvlQYsDYXlTjPyPvV23BZuItctQIPyPdoNPlCeX1og8Ci'\n",
    "#access_token = '1196287280-BF7UCE8VMbpNOw0Aff0egLMQ1b3zW53Cc05Gsej'\n",
    "#access_secret = 'QCDAm7ttEPW1V7leaa2X2r0RfwYEVBau26BscBAZPRpCG'\n",
    "\n",
    "#auth = OAuthHandler(consumer_key,consumer_secret)\n",
    "#auth.set_access_token(access_token,access_secret)\n",
    "\n",
    "#api = tweepy.API(auth,wait_on_rate_limit=True)"
   ]
  },
  {
   "cell_type": "code",
   "execution_count": 130,
   "outputs": [
    {
     "data": {
      "text/plain": "2356"
     },
     "execution_count": 130,
     "metadata": {},
     "output_type": "execute_result"
    }
   ],
   "source": [
    "tweet_ids = archive.tweet_id.values\n",
    "len(tweet_ids)"
   ],
   "metadata": {
    "collapsed": false,
    "pycharm": {
     "name": "#%%\n"
    }
   }
  },
  {
   "cell_type": "code",
   "execution_count": 131,
   "outputs": [],
   "source": [
    "#count = 0\n",
    "#fails_dict = {}\n",
    "#start = timer()\n",
    "#with open('tweet_json.txt', 'w') as outfile:\n",
    "#    for tweet_id in tweet_ids:\n",
    "#        count+=1\n",
    "#        print(str(count)+':'+str(tweet_id))\n",
    "#        try:\n",
    "#            tweet = api.get_status(tweet_id,tweet_mode='extend')\n",
    "#            print('Success')\n",
    "#            json.dump(tweet._json, outfile)\n",
    "#            outfile.write('\\n')\n",
    "#        except tweepy.errors.TweepyException as e:\n",
    "#            print('Fail')\n",
    "#            fails_dict[tweet_id]=e\n",
    "#            pass\n",
    "#end = timer()\n",
    "#print(end-start)\n",
    "#print(fails_dict)"
   ],
   "metadata": {
    "collapsed": false,
    "pycharm": {
     "name": "#%%\n"
    }
   }
  },
  {
   "cell_type": "code",
   "execution_count": 132,
   "outputs": [],
   "source": [
    "#converting txt file to a data list\n",
    "df_list = []\n",
    "with open('tweet_json.txt')as file:\n",
    "    for line in file:\n",
    "        df_list.append(json.loads(line))"
   ],
   "metadata": {
    "collapsed": false,
    "pycharm": {
     "name": "#%%\n"
    }
   }
  },
  {
   "cell_type": "code",
   "execution_count": 133,
   "outputs": [
    {
     "name": "stdout",
     "output_type": "stream",
     "text": [
      "{'created_at': 'Tue Aug 01 16:23:56 +0000 2017', 'id': 892420643555336193, 'id_str': '892420643555336193', 'full_text': \"This is Phineas. He's a mystical boy. Only ever appears in the hole of a donut. 13/10 https://t.co/MgUWQ76dJU\", 'truncated': False, 'display_text_range': [0, 85], 'entities': {'hashtags': [], 'symbols': [], 'user_mentions': [], 'urls': [], 'media': [{'id': 892420639486877696, 'id_str': '892420639486877696', 'indices': [86, 109], 'media_url': 'http://pbs.twimg.com/media/DGKD1-bXoAAIAUK.jpg', 'media_url_https': 'https://pbs.twimg.com/media/DGKD1-bXoAAIAUK.jpg', 'url': 'https://t.co/MgUWQ76dJU', 'display_url': 'pic.twitter.com/MgUWQ76dJU', 'expanded_url': 'https://twitter.com/dog_rates/status/892420643555336193/photo/1', 'type': 'photo', 'sizes': {'large': {'w': 540, 'h': 528, 'resize': 'fit'}, 'thumb': {'w': 150, 'h': 150, 'resize': 'crop'}, 'small': {'w': 540, 'h': 528, 'resize': 'fit'}, 'medium': {'w': 540, 'h': 528, 'resize': 'fit'}}}]}, 'extended_entities': {'media': [{'id': 892420639486877696, 'id_str': '892420639486877696', 'indices': [86, 109], 'media_url': 'http://pbs.twimg.com/media/DGKD1-bXoAAIAUK.jpg', 'media_url_https': 'https://pbs.twimg.com/media/DGKD1-bXoAAIAUK.jpg', 'url': 'https://t.co/MgUWQ76dJU', 'display_url': 'pic.twitter.com/MgUWQ76dJU', 'expanded_url': 'https://twitter.com/dog_rates/status/892420643555336193/photo/1', 'type': 'photo', 'sizes': {'large': {'w': 540, 'h': 528, 'resize': 'fit'}, 'thumb': {'w': 150, 'h': 150, 'resize': 'crop'}, 'small': {'w': 540, 'h': 528, 'resize': 'fit'}, 'medium': {'w': 540, 'h': 528, 'resize': 'fit'}}}]}, 'source': '<a href=\"http://twitter.com/download/iphone\" rel=\"nofollow\">Twitter for iPhone</a>', 'in_reply_to_status_id': None, 'in_reply_to_status_id_str': None, 'in_reply_to_user_id': None, 'in_reply_to_user_id_str': None, 'in_reply_to_screen_name': None, 'user': {'id': 4196983835, 'id_str': '4196983835', 'name': 'WeRateDogs™ (author)', 'screen_name': 'dog_rates', 'location': 'DM YOUR DOGS, WE WILL RATE', 'description': '#1 Source for Professional Dog Ratings | STORE: @ShopWeRateDogs | IG, FB & SC: WeRateDogs MOBILE APP: @GoodDogsGame | Business: dogratingtwitter@gmail.com', 'url': 'https://t.co/N7sNNHAEXS', 'entities': {'url': {'urls': [{'url': 'https://t.co/N7sNNHAEXS', 'expanded_url': 'http://weratedogs.com', 'display_url': 'weratedogs.com', 'indices': [0, 23]}]}, 'description': {'urls': []}}, 'protected': False, 'followers_count': 3200889, 'friends_count': 104, 'listed_count': 2784, 'created_at': 'Sun Nov 15 21:41:29 +0000 2015', 'favourites_count': 114031, 'utc_offset': None, 'time_zone': None, 'geo_enabled': True, 'verified': True, 'statuses_count': 5288, 'lang': 'en', 'contributors_enabled': False, 'is_translator': False, 'is_translation_enabled': False, 'profile_background_color': '000000', 'profile_background_image_url': 'http://abs.twimg.com/images/themes/theme1/bg.png', 'profile_background_image_url_https': 'https://abs.twimg.com/images/themes/theme1/bg.png', 'profile_background_tile': False, 'profile_image_url': 'http://pbs.twimg.com/profile_images/861415328504569856/R2xOOfwe_normal.jpg', 'profile_image_url_https': 'https://pbs.twimg.com/profile_images/861415328504569856/R2xOOfwe_normal.jpg', 'profile_banner_url': 'https://pbs.twimg.com/profile_banners/4196983835/1501129017', 'profile_link_color': 'F5ABB5', 'profile_sidebar_border_color': '000000', 'profile_sidebar_fill_color': '000000', 'profile_text_color': '000000', 'profile_use_background_image': False, 'has_extended_profile': True, 'default_profile': False, 'default_profile_image': False, 'following': True, 'follow_request_sent': False, 'notifications': False, 'translator_type': 'none'}, 'geo': None, 'coordinates': None, 'place': None, 'contributors': None, 'is_quote_status': False, 'retweet_count': 8853, 'favorite_count': 39467, 'favorited': False, 'retweeted': False, 'possibly_sensitive': False, 'possibly_sensitive_appealable': False, 'lang': 'en'}\n"
     ]
    }
   ],
   "source": [
    "print(df_list[0])"
   ],
   "metadata": {
    "collapsed": false,
    "pycharm": {
     "name": "#%%\n"
    }
   }
  },
  {
   "cell_type": "markdown",
   "metadata": {
    "extensions": {
     "jupyter_dashboards": {
      "version": 1,
      "views": {
       "grid_default": {
        "col": 4,
        "height": 4,
        "hidden": false,
        "row": 28,
        "width": 4
       },
       "report_default": {
        "hidden": false
       }
      }
     }
    }
   },
   "source": [
    "## Assessing Data\n",
    "In this section, detect and document at least **eight (8) quality issues and two (2) tidiness issue**. You must use **both** visual assessment\n",
    "programmatic assessement to assess the data.\n",
    "\n",
    "**Note:** pay attention to the following key points when you access the data.\n",
    "\n",
    "* You only want original ratings (no retweets) that have images. Though there are 5000+ tweets in the dataset, not all are dog ratings and some are retweets.\n",
    "* Assessing and cleaning the entire dataset completely would require a lot of time, and is not necessary to practice and demonstrate your skills in data wrangling. Therefore, the requirements of this project are only to assess and clean at least 8 quality issues and at least 2 tidiness issues in this dataset.\n",
    "* The fact that the rating numerators are greater than the denominators does not need to be cleaned. This [unique rating system](http://knowyourmeme.com/memes/theyre-good-dogs-brent) is a big part of the popularity of WeRateDogs.\n",
    "* You do not need to gather the tweets beyond August 1st, 2017. You can, but note that you won't be able to gather the image predictions for these tweets since you don't have access to the algorithm used.\n",
    "\n"
   ]
  },
  {
   "cell_type": "code",
   "execution_count": 134,
   "metadata": {},
   "outputs": [
    {
     "name": "stdout",
     "output_type": "stream",
     "text": [
      "<class 'pandas.core.frame.DataFrame'>\n",
      "RangeIndex: 2075 entries, 0 to 2074\n",
      "Data columns (total 12 columns):\n",
      " #   Column    Non-Null Count  Dtype  \n",
      "---  ------    --------------  -----  \n",
      " 0   tweet_id  2075 non-null   int64  \n",
      " 1   jpg_url   2075 non-null   object \n",
      " 2   img_num   2075 non-null   int64  \n",
      " 3   p1        2075 non-null   object \n",
      " 4   p1_conf   2075 non-null   float64\n",
      " 5   p1_dog    2075 non-null   bool   \n",
      " 6   p2        2075 non-null   object \n",
      " 7   p2_conf   2075 non-null   float64\n",
      " 8   p2_dog    2075 non-null   bool   \n",
      " 9   p3        2075 non-null   object \n",
      " 10  p3_conf   2075 non-null   float64\n",
      " 11  p3_dog    2075 non-null   bool   \n",
      "dtypes: bool(3), float64(3), int64(2), object(4)\n",
      "memory usage: 152.1+ KB\n"
     ]
    }
   ],
   "source": [
    "imgpred.info()"
   ]
  },
  {
   "cell_type": "code",
   "execution_count": 135,
   "outputs": [
    {
     "data": {
      "text/plain": "                tweet_id  in_reply_to_status_id  in_reply_to_user_id  \\\n0     892420643555336193                    NaN                  NaN   \n1     892177421306343426                    NaN                  NaN   \n2     891815181378084864                    NaN                  NaN   \n3     891689557279858688                    NaN                  NaN   \n4     891327558926688256                    NaN                  NaN   \n...                  ...                    ...                  ...   \n2351  666049248165822465                    NaN                  NaN   \n2352  666044226329800704                    NaN                  NaN   \n2353  666033412701032449                    NaN                  NaN   \n2354  666029285002620928                    NaN                  NaN   \n2355  666020888022790149                    NaN                  NaN   \n\n                      timestamp  \\\n0     2017-08-01 16:23:56 +0000   \n1     2017-08-01 00:17:27 +0000   \n2     2017-07-31 00:18:03 +0000   \n3     2017-07-30 15:58:51 +0000   \n4     2017-07-29 16:00:24 +0000   \n...                         ...   \n2351  2015-11-16 00:24:50 +0000   \n2352  2015-11-16 00:04:52 +0000   \n2353  2015-11-15 23:21:54 +0000   \n2354  2015-11-15 23:05:30 +0000   \n2355  2015-11-15 22:32:08 +0000   \n\n                                                 source  \\\n0     <a href=\"http://twitter.com/download/iphone\" r...   \n1     <a href=\"http://twitter.com/download/iphone\" r...   \n2     <a href=\"http://twitter.com/download/iphone\" r...   \n3     <a href=\"http://twitter.com/download/iphone\" r...   \n4     <a href=\"http://twitter.com/download/iphone\" r...   \n...                                                 ...   \n2351  <a href=\"http://twitter.com/download/iphone\" r...   \n2352  <a href=\"http://twitter.com/download/iphone\" r...   \n2353  <a href=\"http://twitter.com/download/iphone\" r...   \n2354  <a href=\"http://twitter.com/download/iphone\" r...   \n2355  <a href=\"http://twitter.com/download/iphone\" r...   \n\n                                                   text  retweeted_status_id  \\\n0     This is Phineas. He's a mystical boy. Only eve...                  NaN   \n1     This is Tilly. She's just checking pup on you....                  NaN   \n2     This is Archie. He is a rare Norwegian Pouncin...                  NaN   \n3     This is Darla. She commenced a snooze mid meal...                  NaN   \n4     This is Franklin. He would like you to stop ca...                  NaN   \n...                                                 ...                  ...   \n2351  Here we have a 1949 1st generation vulpix. Enj...                  NaN   \n2352  This is a purebred Piers Morgan. Loves to Netf...                  NaN   \n2353  Here is a very happy pup. Big fan of well-main...                  NaN   \n2354  This is a western brown Mitsubishi terrier. Up...                  NaN   \n2355  Here we have a Japanese Irish Setter. Lost eye...                  NaN   \n\n      retweeted_status_user_id retweeted_status_timestamp  \\\n0                          NaN                        NaN   \n1                          NaN                        NaN   \n2                          NaN                        NaN   \n3                          NaN                        NaN   \n4                          NaN                        NaN   \n...                        ...                        ...   \n2351                       NaN                        NaN   \n2352                       NaN                        NaN   \n2353                       NaN                        NaN   \n2354                       NaN                        NaN   \n2355                       NaN                        NaN   \n\n                                          expanded_urls  rating_numerator  \\\n0     https://twitter.com/dog_rates/status/892420643...                13   \n1     https://twitter.com/dog_rates/status/892177421...                13   \n2     https://twitter.com/dog_rates/status/891815181...                12   \n3     https://twitter.com/dog_rates/status/891689557...                13   \n4     https://twitter.com/dog_rates/status/891327558...                12   \n...                                                 ...               ...   \n2351  https://twitter.com/dog_rates/status/666049248...                 5   \n2352  https://twitter.com/dog_rates/status/666044226...                 6   \n2353  https://twitter.com/dog_rates/status/666033412...                 9   \n2354  https://twitter.com/dog_rates/status/666029285...                 7   \n2355  https://twitter.com/dog_rates/status/666020888...                 8   \n\n      rating_denominator      name doggo floofer pupper puppo  \n0                     10   Phineas  None    None   None  None  \n1                     10     Tilly  None    None   None  None  \n2                     10    Archie  None    None   None  None  \n3                     10     Darla  None    None   None  None  \n4                     10  Franklin  None    None   None  None  \n...                  ...       ...   ...     ...    ...   ...  \n2351                  10      None  None    None   None  None  \n2352                  10         a  None    None   None  None  \n2353                  10         a  None    None   None  None  \n2354                  10         a  None    None   None  None  \n2355                  10      None  None    None   None  None  \n\n[2356 rows x 17 columns]",
      "text/html": "<div>\n<style scoped>\n    .dataframe tbody tr th:only-of-type {\n        vertical-align: middle;\n    }\n\n    .dataframe tbody tr th {\n        vertical-align: top;\n    }\n\n    .dataframe thead th {\n        text-align: right;\n    }\n</style>\n<table border=\"1\" class=\"dataframe\">\n  <thead>\n    <tr style=\"text-align: right;\">\n      <th></th>\n      <th>tweet_id</th>\n      <th>in_reply_to_status_id</th>\n      <th>in_reply_to_user_id</th>\n      <th>timestamp</th>\n      <th>source</th>\n      <th>text</th>\n      <th>retweeted_status_id</th>\n      <th>retweeted_status_user_id</th>\n      <th>retweeted_status_timestamp</th>\n      <th>expanded_urls</th>\n      <th>rating_numerator</th>\n      <th>rating_denominator</th>\n      <th>name</th>\n      <th>doggo</th>\n      <th>floofer</th>\n      <th>pupper</th>\n      <th>puppo</th>\n    </tr>\n  </thead>\n  <tbody>\n    <tr>\n      <th>0</th>\n      <td>892420643555336193</td>\n      <td>NaN</td>\n      <td>NaN</td>\n      <td>2017-08-01 16:23:56 +0000</td>\n      <td>&lt;a href=\"http://twitter.com/download/iphone\" r...</td>\n      <td>This is Phineas. He's a mystical boy. Only eve...</td>\n      <td>NaN</td>\n      <td>NaN</td>\n      <td>NaN</td>\n      <td>https://twitter.com/dog_rates/status/892420643...</td>\n      <td>13</td>\n      <td>10</td>\n      <td>Phineas</td>\n      <td>None</td>\n      <td>None</td>\n      <td>None</td>\n      <td>None</td>\n    </tr>\n    <tr>\n      <th>1</th>\n      <td>892177421306343426</td>\n      <td>NaN</td>\n      <td>NaN</td>\n      <td>2017-08-01 00:17:27 +0000</td>\n      <td>&lt;a href=\"http://twitter.com/download/iphone\" r...</td>\n      <td>This is Tilly. She's just checking pup on you....</td>\n      <td>NaN</td>\n      <td>NaN</td>\n      <td>NaN</td>\n      <td>https://twitter.com/dog_rates/status/892177421...</td>\n      <td>13</td>\n      <td>10</td>\n      <td>Tilly</td>\n      <td>None</td>\n      <td>None</td>\n      <td>None</td>\n      <td>None</td>\n    </tr>\n    <tr>\n      <th>2</th>\n      <td>891815181378084864</td>\n      <td>NaN</td>\n      <td>NaN</td>\n      <td>2017-07-31 00:18:03 +0000</td>\n      <td>&lt;a href=\"http://twitter.com/download/iphone\" r...</td>\n      <td>This is Archie. He is a rare Norwegian Pouncin...</td>\n      <td>NaN</td>\n      <td>NaN</td>\n      <td>NaN</td>\n      <td>https://twitter.com/dog_rates/status/891815181...</td>\n      <td>12</td>\n      <td>10</td>\n      <td>Archie</td>\n      <td>None</td>\n      <td>None</td>\n      <td>None</td>\n      <td>None</td>\n    </tr>\n    <tr>\n      <th>3</th>\n      <td>891689557279858688</td>\n      <td>NaN</td>\n      <td>NaN</td>\n      <td>2017-07-30 15:58:51 +0000</td>\n      <td>&lt;a href=\"http://twitter.com/download/iphone\" r...</td>\n      <td>This is Darla. She commenced a snooze mid meal...</td>\n      <td>NaN</td>\n      <td>NaN</td>\n      <td>NaN</td>\n      <td>https://twitter.com/dog_rates/status/891689557...</td>\n      <td>13</td>\n      <td>10</td>\n      <td>Darla</td>\n      <td>None</td>\n      <td>None</td>\n      <td>None</td>\n      <td>None</td>\n    </tr>\n    <tr>\n      <th>4</th>\n      <td>891327558926688256</td>\n      <td>NaN</td>\n      <td>NaN</td>\n      <td>2017-07-29 16:00:24 +0000</td>\n      <td>&lt;a href=\"http://twitter.com/download/iphone\" r...</td>\n      <td>This is Franklin. He would like you to stop ca...</td>\n      <td>NaN</td>\n      <td>NaN</td>\n      <td>NaN</td>\n      <td>https://twitter.com/dog_rates/status/891327558...</td>\n      <td>12</td>\n      <td>10</td>\n      <td>Franklin</td>\n      <td>None</td>\n      <td>None</td>\n      <td>None</td>\n      <td>None</td>\n    </tr>\n    <tr>\n      <th>...</th>\n      <td>...</td>\n      <td>...</td>\n      <td>...</td>\n      <td>...</td>\n      <td>...</td>\n      <td>...</td>\n      <td>...</td>\n      <td>...</td>\n      <td>...</td>\n      <td>...</td>\n      <td>...</td>\n      <td>...</td>\n      <td>...</td>\n      <td>...</td>\n      <td>...</td>\n      <td>...</td>\n      <td>...</td>\n    </tr>\n    <tr>\n      <th>2351</th>\n      <td>666049248165822465</td>\n      <td>NaN</td>\n      <td>NaN</td>\n      <td>2015-11-16 00:24:50 +0000</td>\n      <td>&lt;a href=\"http://twitter.com/download/iphone\" r...</td>\n      <td>Here we have a 1949 1st generation vulpix. Enj...</td>\n      <td>NaN</td>\n      <td>NaN</td>\n      <td>NaN</td>\n      <td>https://twitter.com/dog_rates/status/666049248...</td>\n      <td>5</td>\n      <td>10</td>\n      <td>None</td>\n      <td>None</td>\n      <td>None</td>\n      <td>None</td>\n      <td>None</td>\n    </tr>\n    <tr>\n      <th>2352</th>\n      <td>666044226329800704</td>\n      <td>NaN</td>\n      <td>NaN</td>\n      <td>2015-11-16 00:04:52 +0000</td>\n      <td>&lt;a href=\"http://twitter.com/download/iphone\" r...</td>\n      <td>This is a purebred Piers Morgan. Loves to Netf...</td>\n      <td>NaN</td>\n      <td>NaN</td>\n      <td>NaN</td>\n      <td>https://twitter.com/dog_rates/status/666044226...</td>\n      <td>6</td>\n      <td>10</td>\n      <td>a</td>\n      <td>None</td>\n      <td>None</td>\n      <td>None</td>\n      <td>None</td>\n    </tr>\n    <tr>\n      <th>2353</th>\n      <td>666033412701032449</td>\n      <td>NaN</td>\n      <td>NaN</td>\n      <td>2015-11-15 23:21:54 +0000</td>\n      <td>&lt;a href=\"http://twitter.com/download/iphone\" r...</td>\n      <td>Here is a very happy pup. Big fan of well-main...</td>\n      <td>NaN</td>\n      <td>NaN</td>\n      <td>NaN</td>\n      <td>https://twitter.com/dog_rates/status/666033412...</td>\n      <td>9</td>\n      <td>10</td>\n      <td>a</td>\n      <td>None</td>\n      <td>None</td>\n      <td>None</td>\n      <td>None</td>\n    </tr>\n    <tr>\n      <th>2354</th>\n      <td>666029285002620928</td>\n      <td>NaN</td>\n      <td>NaN</td>\n      <td>2015-11-15 23:05:30 +0000</td>\n      <td>&lt;a href=\"http://twitter.com/download/iphone\" r...</td>\n      <td>This is a western brown Mitsubishi terrier. Up...</td>\n      <td>NaN</td>\n      <td>NaN</td>\n      <td>NaN</td>\n      <td>https://twitter.com/dog_rates/status/666029285...</td>\n      <td>7</td>\n      <td>10</td>\n      <td>a</td>\n      <td>None</td>\n      <td>None</td>\n      <td>None</td>\n      <td>None</td>\n    </tr>\n    <tr>\n      <th>2355</th>\n      <td>666020888022790149</td>\n      <td>NaN</td>\n      <td>NaN</td>\n      <td>2015-11-15 22:32:08 +0000</td>\n      <td>&lt;a href=\"http://twitter.com/download/iphone\" r...</td>\n      <td>Here we have a Japanese Irish Setter. Lost eye...</td>\n      <td>NaN</td>\n      <td>NaN</td>\n      <td>NaN</td>\n      <td>https://twitter.com/dog_rates/status/666020888...</td>\n      <td>8</td>\n      <td>10</td>\n      <td>None</td>\n      <td>None</td>\n      <td>None</td>\n      <td>None</td>\n      <td>None</td>\n    </tr>\n  </tbody>\n</table>\n<p>2356 rows × 17 columns</p>\n</div>"
     },
     "execution_count": 135,
     "metadata": {},
     "output_type": "execute_result"
    }
   ],
   "source": [
    "archive"
   ],
   "metadata": {
    "collapsed": false,
    "pycharm": {
     "name": "#%%\n"
    }
   }
  },
  {
   "cell_type": "code",
   "execution_count": 136,
   "outputs": [
    {
     "name": "stdout",
     "output_type": "stream",
     "text": [
      "<class 'pandas.core.frame.DataFrame'>\n",
      "RangeIndex: 2356 entries, 0 to 2355\n",
      "Data columns (total 17 columns):\n",
      " #   Column                      Non-Null Count  Dtype  \n",
      "---  ------                      --------------  -----  \n",
      " 0   tweet_id                    2356 non-null   int64  \n",
      " 1   in_reply_to_status_id       78 non-null     float64\n",
      " 2   in_reply_to_user_id         78 non-null     float64\n",
      " 3   timestamp                   2356 non-null   object \n",
      " 4   source                      2356 non-null   object \n",
      " 5   text                        2356 non-null   object \n",
      " 6   retweeted_status_id         181 non-null    float64\n",
      " 7   retweeted_status_user_id    181 non-null    float64\n",
      " 8   retweeted_status_timestamp  181 non-null    object \n",
      " 9   expanded_urls               2297 non-null   object \n",
      " 10  rating_numerator            2356 non-null   int64  \n",
      " 11  rating_denominator          2356 non-null   int64  \n",
      " 12  name                        2356 non-null   object \n",
      " 13  doggo                       2356 non-null   object \n",
      " 14  floofer                     2356 non-null   object \n",
      " 15  pupper                      2356 non-null   object \n",
      " 16  puppo                       2356 non-null   object \n",
      "dtypes: float64(4), int64(3), object(10)\n",
      "memory usage: 313.0+ KB\n"
     ]
    }
   ],
   "source": [
    "archive.info()"
   ],
   "metadata": {
    "collapsed": false,
    "pycharm": {
     "name": "#%%\n"
    }
   }
  },
  {
   "cell_type": "code",
   "execution_count": 137,
   "outputs": [
    {
     "data": {
      "text/plain": "tweet_id                         0\nin_reply_to_status_id         2278\nin_reply_to_user_id           2278\ntimestamp                        0\nsource                           0\ntext                             0\nretweeted_status_id           2175\nretweeted_status_user_id      2175\nretweeted_status_timestamp    2175\nexpanded_urls                   59\nrating_numerator                 0\nrating_denominator               0\nname                             0\ndoggo                            0\nfloofer                          0\npupper                           0\npuppo                            0\ndtype: int64"
     },
     "execution_count": 137,
     "metadata": {},
     "output_type": "execute_result"
    }
   ],
   "source": [
    "archive.isnull().sum()"
   ],
   "metadata": {
    "collapsed": false,
    "pycharm": {
     "name": "#%%\n"
    }
   }
  },
  {
   "cell_type": "code",
   "execution_count": 138,
   "outputs": [
    {
     "data": {
      "text/plain": "45      883482846933004288\n229     848212111729840128\n315     835152434251116546\n387     826598799820865537\n462     817502432452313088\n               ...        \n2351    666049248165822465\n2352    666044226329800704\n2353    666033412701032449\n2354    666029285002620928\n2355    666020888022790149\nName: tweet_id, Length: 440, dtype: int64"
     },
     "execution_count": 138,
     "metadata": {},
     "output_type": "execute_result"
    }
   ],
   "source": [
    "#IDs that have numerator less than 10\n",
    "archive[archive.rating_numerator<10].tweet_id"
   ],
   "metadata": {
    "collapsed": false,
    "pycharm": {
     "name": "#%%\n"
    }
   }
  },
  {
   "cell_type": "code",
   "execution_count": 139,
   "outputs": [
    {
     "data": {
      "text/plain": "440"
     },
     "execution_count": 139,
     "metadata": {},
     "output_type": "execute_result"
    }
   ],
   "source": [
    "archive[archive.rating_numerator<10].count()[0]"
   ],
   "metadata": {
    "collapsed": false,
    "pycharm": {
     "name": "#%%\n"
    }
   }
  },
  {
   "cell_type": "code",
   "execution_count": 140,
   "outputs": [
    {
     "data": {
      "text/plain": "<a href=\"http://twitter.com/download/iphone\" rel=\"nofollow\">Twitter for iPhone</a>     2221\n<a href=\"http://vine.co\" rel=\"nofollow\">Vine - Make a Scene</a>                          91\n<a href=\"http://twitter.com\" rel=\"nofollow\">Twitter Web Client</a>                       33\n<a href=\"https://about.twitter.com/products/tweetdeck\" rel=\"nofollow\">TweetDeck</a>      11\nName: source, dtype: int64"
     },
     "execution_count": 140,
     "metadata": {},
     "output_type": "execute_result"
    }
   ],
   "source": [
    "#checking for mispelled values that can cause duplicates\n",
    "archive.source.value_counts()"
   ],
   "metadata": {
    "collapsed": false,
    "pycharm": {
     "name": "#%%\n"
    }
   }
  },
  {
   "cell_type": "code",
   "execution_count": 141,
   "outputs": [
    {
     "data": {
      "text/plain": "                   id  retweet_count  favorite_count\n0  892420643555336193           8853           39467\n1  892177421306343426           6514           33819\n2  891815181378084864           4328           25461\n3  891689557279858688           8964           42908\n4  891327558926688256           9774           41048",
      "text/html": "<div>\n<style scoped>\n    .dataframe tbody tr th:only-of-type {\n        vertical-align: middle;\n    }\n\n    .dataframe tbody tr th {\n        vertical-align: top;\n    }\n\n    .dataframe thead th {\n        text-align: right;\n    }\n</style>\n<table border=\"1\" class=\"dataframe\">\n  <thead>\n    <tr style=\"text-align: right;\">\n      <th></th>\n      <th>id</th>\n      <th>retweet_count</th>\n      <th>favorite_count</th>\n    </tr>\n  </thead>\n  <tbody>\n    <tr>\n      <th>0</th>\n      <td>892420643555336193</td>\n      <td>8853</td>\n      <td>39467</td>\n    </tr>\n    <tr>\n      <th>1</th>\n      <td>892177421306343426</td>\n      <td>6514</td>\n      <td>33819</td>\n    </tr>\n    <tr>\n      <th>2</th>\n      <td>891815181378084864</td>\n      <td>4328</td>\n      <td>25461</td>\n    </tr>\n    <tr>\n      <th>3</th>\n      <td>891689557279858688</td>\n      <td>8964</td>\n      <td>42908</td>\n    </tr>\n    <tr>\n      <th>4</th>\n      <td>891327558926688256</td>\n      <td>9774</td>\n      <td>41048</td>\n    </tr>\n  </tbody>\n</table>\n</div>"
     },
     "execution_count": 141,
     "metadata": {},
     "output_type": "execute_result"
    }
   ],
   "source": [
    "tweet_data = pd.DataFrame(df_list,columns=['id',\n",
    "                                           'retweet_count',\n",
    "                                           'favorite_count'])\n",
    "\n",
    "tweet_data.head()"
   ],
   "metadata": {
    "collapsed": false,
    "pycharm": {
     "name": "#%%\n"
    }
   }
  },
  {
   "cell_type": "code",
   "execution_count": 142,
   "outputs": [
    {
     "data": {
      "text/plain": "None       745\na           55\nCharlie     12\nLucy        11\nCooper      11\n          ... \nBones        1\nChase        1\nChaz         1\nDwight       1\nBrandy       1\nName: name, Length: 957, dtype: int64"
     },
     "execution_count": 142,
     "metadata": {},
     "output_type": "execute_result"
    }
   ],
   "source": [
    "archive.name.value_counts()"
   ],
   "metadata": {
    "collapsed": false,
    "pycharm": {
     "name": "#%%\n"
    }
   }
  },
  {
   "cell_type": "code",
   "execution_count": 143,
   "outputs": [
    {
     "data": {
      "text/plain": "               tweet_id  in_reply_to_status_id  in_reply_to_user_id  \\\n775  776201521193218049                    NaN                  NaN   \n\n                     timestamp  \\\n775  2016-09-14 23:30:38 +0000   \n\n                                                source  \\\n775  <a href=\"http://twitter.com/download/iphone\" r...   \n\n                                                  text  retweeted_status_id  \\\n775  This is O'Malley. That is how he sleeps. Doesn...                  NaN   \n\n     retweeted_status_user_id retweeted_status_timestamp  \\\n775                       NaN                        NaN   \n\n                                         expanded_urls  rating_numerator  \\\n775  https://twitter.com/dog_rates/status/776201521...                10   \n\n     rating_denominator name doggo floofer pupper puppo  \n775                  10    O  None    None   None  None  ",
      "text/html": "<div>\n<style scoped>\n    .dataframe tbody tr th:only-of-type {\n        vertical-align: middle;\n    }\n\n    .dataframe tbody tr th {\n        vertical-align: top;\n    }\n\n    .dataframe thead th {\n        text-align: right;\n    }\n</style>\n<table border=\"1\" class=\"dataframe\">\n  <thead>\n    <tr style=\"text-align: right;\">\n      <th></th>\n      <th>tweet_id</th>\n      <th>in_reply_to_status_id</th>\n      <th>in_reply_to_user_id</th>\n      <th>timestamp</th>\n      <th>source</th>\n      <th>text</th>\n      <th>retweeted_status_id</th>\n      <th>retweeted_status_user_id</th>\n      <th>retweeted_status_timestamp</th>\n      <th>expanded_urls</th>\n      <th>rating_numerator</th>\n      <th>rating_denominator</th>\n      <th>name</th>\n      <th>doggo</th>\n      <th>floofer</th>\n      <th>pupper</th>\n      <th>puppo</th>\n    </tr>\n  </thead>\n  <tbody>\n    <tr>\n      <th>775</th>\n      <td>776201521193218049</td>\n      <td>NaN</td>\n      <td>NaN</td>\n      <td>2016-09-14 23:30:38 +0000</td>\n      <td>&lt;a href=\"http://twitter.com/download/iphone\" r...</td>\n      <td>This is O'Malley. That is how he sleeps. Doesn...</td>\n      <td>NaN</td>\n      <td>NaN</td>\n      <td>NaN</td>\n      <td>https://twitter.com/dog_rates/status/776201521...</td>\n      <td>10</td>\n      <td>10</td>\n      <td>O</td>\n      <td>None</td>\n      <td>None</td>\n      <td>None</td>\n      <td>None</td>\n    </tr>\n  </tbody>\n</table>\n</div>"
     },
     "execution_count": 143,
     "metadata": {},
     "output_type": "execute_result"
    }
   ],
   "source": [
    "#some names looks inaccurate or invalid example 'an', 'a', 'o'\n",
    "archive[archive.name=='O']"
   ],
   "metadata": {
    "collapsed": false,
    "pycharm": {
     "name": "#%%\n"
    }
   }
  },
  {
   "cell_type": "code",
   "execution_count": 144,
   "outputs": [
    {
     "data": {
      "text/plain": "                tweet_id  in_reply_to_status_id  in_reply_to_user_id  \\\n1527  690360449368465409                    NaN                  NaN   \n1603  685943807276412928                    NaN                  NaN   \n1797  677269281705472000                    NaN                  NaN   \n1815  676613908052996102                    NaN                  NaN   \n2037  671561002136281088                    NaN                  NaN   \n2212  668587383441514497                    NaN                  NaN   \n2345  666063827256086533                    NaN                  NaN   \n2346  666058600524156928                    NaN                  NaN   \n\n                      timestamp  \\\n1527  2016-01-22 02:28:52 +0000   \n1603  2016-01-09 21:58:42 +0000   \n1797  2015-12-16 23:29:14 +0000   \n1815  2015-12-15 04:05:01 +0000   \n2037  2015-12-01 05:26:34 +0000   \n2212  2015-11-23 00:30:28 +0000   \n2345  2015-11-16 01:22:45 +0000   \n2346  2015-11-16 01:01:59 +0000   \n\n                                                 source  \\\n1527  <a href=\"http://twitter.com/download/iphone\" r...   \n1603  <a href=\"http://twitter.com/download/iphone\" r...   \n1797  <a href=\"http://twitter.com/download/iphone\" r...   \n1815  <a href=\"http://twitter.com/download/iphone\" r...   \n2037  <a href=\"http://twitter.com/download/iphone\" r...   \n2212  <a href=\"http://vine.co\" rel=\"nofollow\">Vine -...   \n2345  <a href=\"http://twitter.com/download/iphone\" r...   \n2346  <a href=\"http://twitter.com/download/iphone\" r...   \n\n                                                   text  retweeted_status_id  \\\n1527  Stop sending in lobsters. This is the final wa...                  NaN   \n1603  This is the newly formed pupper a capella grou...                  NaN   \n1797  This is the happiest pupper I've ever seen. 10...                  NaN   \n1815  This is the saddest/sweetest/best picture I've...                  NaN   \n2037  This is the best thing I've ever seen so sprea...                  NaN   \n2212  Never forget this vine. You will not stop watc...                  NaN   \n2345  This is the happiest dog you will ever see. Ve...                  NaN   \n2346  Here is the Rand Paul of retrievers folks! He'...                  NaN   \n\n      retweeted_status_user_id retweeted_status_timestamp  \\\n1527                       NaN                        NaN   \n1603                       NaN                        NaN   \n1797                       NaN                        NaN   \n1815                       NaN                        NaN   \n2037                       NaN                        NaN   \n2212                       NaN                        NaN   \n2345                       NaN                        NaN   \n2346                       NaN                        NaN   \n\n                                          expanded_urls  rating_numerator  \\\n1527  https://twitter.com/dog_rates/status/690360449...                 9   \n1603  https://twitter.com/dog_rates/status/685943807...                 8   \n1797  https://twitter.com/dog_rates/status/677269281...                10   \n1815  https://twitter.com/dog_rates/status/676613908...                12   \n2037  https://twitter.com/dog_rates/status/671561002...                13   \n2212                      https://vine.co/v/ea0OwvPTx9l                13   \n2345  https://twitter.com/dog_rates/status/666063827...                10   \n2346  https://twitter.com/dog_rates/status/666058600...                 8   \n\n      rating_denominator name doggo floofer  pupper puppo  \n1527                  10  the  None    None    None  None  \n1603                  10  the  None    None  pupper  None  \n1797                  10  the  None    None  pupper  None  \n1815                  10  the  None    None    None  None  \n2037                  10  the  None    None    None  None  \n2212                  10  the  None    None    None  None  \n2345                  10  the  None    None    None  None  \n2346                  10  the  None    None    None  None  ",
      "text/html": "<div>\n<style scoped>\n    .dataframe tbody tr th:only-of-type {\n        vertical-align: middle;\n    }\n\n    .dataframe tbody tr th {\n        vertical-align: top;\n    }\n\n    .dataframe thead th {\n        text-align: right;\n    }\n</style>\n<table border=\"1\" class=\"dataframe\">\n  <thead>\n    <tr style=\"text-align: right;\">\n      <th></th>\n      <th>tweet_id</th>\n      <th>in_reply_to_status_id</th>\n      <th>in_reply_to_user_id</th>\n      <th>timestamp</th>\n      <th>source</th>\n      <th>text</th>\n      <th>retweeted_status_id</th>\n      <th>retweeted_status_user_id</th>\n      <th>retweeted_status_timestamp</th>\n      <th>expanded_urls</th>\n      <th>rating_numerator</th>\n      <th>rating_denominator</th>\n      <th>name</th>\n      <th>doggo</th>\n      <th>floofer</th>\n      <th>pupper</th>\n      <th>puppo</th>\n    </tr>\n  </thead>\n  <tbody>\n    <tr>\n      <th>1527</th>\n      <td>690360449368465409</td>\n      <td>NaN</td>\n      <td>NaN</td>\n      <td>2016-01-22 02:28:52 +0000</td>\n      <td>&lt;a href=\"http://twitter.com/download/iphone\" r...</td>\n      <td>Stop sending in lobsters. This is the final wa...</td>\n      <td>NaN</td>\n      <td>NaN</td>\n      <td>NaN</td>\n      <td>https://twitter.com/dog_rates/status/690360449...</td>\n      <td>9</td>\n      <td>10</td>\n      <td>the</td>\n      <td>None</td>\n      <td>None</td>\n      <td>None</td>\n      <td>None</td>\n    </tr>\n    <tr>\n      <th>1603</th>\n      <td>685943807276412928</td>\n      <td>NaN</td>\n      <td>NaN</td>\n      <td>2016-01-09 21:58:42 +0000</td>\n      <td>&lt;a href=\"http://twitter.com/download/iphone\" r...</td>\n      <td>This is the newly formed pupper a capella grou...</td>\n      <td>NaN</td>\n      <td>NaN</td>\n      <td>NaN</td>\n      <td>https://twitter.com/dog_rates/status/685943807...</td>\n      <td>8</td>\n      <td>10</td>\n      <td>the</td>\n      <td>None</td>\n      <td>None</td>\n      <td>pupper</td>\n      <td>None</td>\n    </tr>\n    <tr>\n      <th>1797</th>\n      <td>677269281705472000</td>\n      <td>NaN</td>\n      <td>NaN</td>\n      <td>2015-12-16 23:29:14 +0000</td>\n      <td>&lt;a href=\"http://twitter.com/download/iphone\" r...</td>\n      <td>This is the happiest pupper I've ever seen. 10...</td>\n      <td>NaN</td>\n      <td>NaN</td>\n      <td>NaN</td>\n      <td>https://twitter.com/dog_rates/status/677269281...</td>\n      <td>10</td>\n      <td>10</td>\n      <td>the</td>\n      <td>None</td>\n      <td>None</td>\n      <td>pupper</td>\n      <td>None</td>\n    </tr>\n    <tr>\n      <th>1815</th>\n      <td>676613908052996102</td>\n      <td>NaN</td>\n      <td>NaN</td>\n      <td>2015-12-15 04:05:01 +0000</td>\n      <td>&lt;a href=\"http://twitter.com/download/iphone\" r...</td>\n      <td>This is the saddest/sweetest/best picture I've...</td>\n      <td>NaN</td>\n      <td>NaN</td>\n      <td>NaN</td>\n      <td>https://twitter.com/dog_rates/status/676613908...</td>\n      <td>12</td>\n      <td>10</td>\n      <td>the</td>\n      <td>None</td>\n      <td>None</td>\n      <td>None</td>\n      <td>None</td>\n    </tr>\n    <tr>\n      <th>2037</th>\n      <td>671561002136281088</td>\n      <td>NaN</td>\n      <td>NaN</td>\n      <td>2015-12-01 05:26:34 +0000</td>\n      <td>&lt;a href=\"http://twitter.com/download/iphone\" r...</td>\n      <td>This is the best thing I've ever seen so sprea...</td>\n      <td>NaN</td>\n      <td>NaN</td>\n      <td>NaN</td>\n      <td>https://twitter.com/dog_rates/status/671561002...</td>\n      <td>13</td>\n      <td>10</td>\n      <td>the</td>\n      <td>None</td>\n      <td>None</td>\n      <td>None</td>\n      <td>None</td>\n    </tr>\n    <tr>\n      <th>2212</th>\n      <td>668587383441514497</td>\n      <td>NaN</td>\n      <td>NaN</td>\n      <td>2015-11-23 00:30:28 +0000</td>\n      <td>&lt;a href=\"http://vine.co\" rel=\"nofollow\"&gt;Vine -...</td>\n      <td>Never forget this vine. You will not stop watc...</td>\n      <td>NaN</td>\n      <td>NaN</td>\n      <td>NaN</td>\n      <td>https://vine.co/v/ea0OwvPTx9l</td>\n      <td>13</td>\n      <td>10</td>\n      <td>the</td>\n      <td>None</td>\n      <td>None</td>\n      <td>None</td>\n      <td>None</td>\n    </tr>\n    <tr>\n      <th>2345</th>\n      <td>666063827256086533</td>\n      <td>NaN</td>\n      <td>NaN</td>\n      <td>2015-11-16 01:22:45 +0000</td>\n      <td>&lt;a href=\"http://twitter.com/download/iphone\" r...</td>\n      <td>This is the happiest dog you will ever see. Ve...</td>\n      <td>NaN</td>\n      <td>NaN</td>\n      <td>NaN</td>\n      <td>https://twitter.com/dog_rates/status/666063827...</td>\n      <td>10</td>\n      <td>10</td>\n      <td>the</td>\n      <td>None</td>\n      <td>None</td>\n      <td>None</td>\n      <td>None</td>\n    </tr>\n    <tr>\n      <th>2346</th>\n      <td>666058600524156928</td>\n      <td>NaN</td>\n      <td>NaN</td>\n      <td>2015-11-16 01:01:59 +0000</td>\n      <td>&lt;a href=\"http://twitter.com/download/iphone\" r...</td>\n      <td>Here is the Rand Paul of retrievers folks! He'...</td>\n      <td>NaN</td>\n      <td>NaN</td>\n      <td>NaN</td>\n      <td>https://twitter.com/dog_rates/status/666058600...</td>\n      <td>8</td>\n      <td>10</td>\n      <td>the</td>\n      <td>None</td>\n      <td>None</td>\n      <td>None</td>\n      <td>None</td>\n    </tr>\n  </tbody>\n</table>\n</div>"
     },
     "execution_count": 144,
     "metadata": {},
     "output_type": "execute_result"
    }
   ],
   "source": [
    "archive[archive.name=='the']"
   ],
   "metadata": {
    "collapsed": false,
    "pycharm": {
     "name": "#%%\n"
    }
   }
  },
  {
   "cell_type": "code",
   "execution_count": 145,
   "outputs": [
    {
     "data": {
      "text/plain": "                tweet_id  in_reply_to_status_id  in_reply_to_user_id  \\\n113   870726314365509632           8.707262e+17         1.648776e+07   \n262   842765311967449089                    NaN                  NaN   \n273   840728873075638272                    NaN                  NaN   \n274   840698636975636481           8.406983e+17         8.405479e+17   \n320   834458053273591808                    NaN                  NaN   \n387   826598799820865537           8.265984e+17         4.196984e+09   \n461   817536400337801217                    NaN                  NaN   \n485   814578408554463233                    NaN                  NaN   \n516   810984652412424192                    NaN                  NaN   \n799   772826264096874500                    NaN                  NaN   \n889   759793422261743616                    NaN                  NaN   \n898   758854675097526272                    NaN                  NaN   \n976   750026558547456000                    NaN                  NaN   \n1104  735137028879360001                    NaN                  NaN   \n1179  719367763014393856                    NaN                  NaN   \n1199  716791146589110272                    NaN                  NaN   \n1222  714258258790387713                    NaN                  NaN   \n1274  709198395643068416                    NaN                  NaN   \n1366  702671118226825216                    NaN                  NaN   \n1421  698195409219559425                    NaN                  NaN   \n1465  694352839993344000                    NaN                  NaN   \n1481  693280720173801472                    NaN                  NaN   \n1508  691483041324204033                    NaN                  NaN   \n1524  690597161306841088                    NaN                  NaN   \n1538  689835978131935233                    NaN                  NaN   \n1569  687807801670897665                    NaN                  NaN   \n1593  686386521809772549                    NaN                  NaN   \n1621  684926975086034944                    NaN                  NaN   \n1646  683834909291606017                    NaN                  NaN   \n1707  680801747103793152                    NaN                  NaN   \n1763  678446151570427904                    NaN                  NaN   \n1795  677314812125323265                    NaN                  NaN   \n1812  676811746707918848                    NaN                  NaN   \n1817  676603393314578432                    NaN                  NaN   \n1842  675870721063669760           6.757073e+17         4.196984e+09   \n1897  674737130913071104                    NaN                  NaN   \n1899  674670581682434048                    NaN                  NaN   \n1901  674646392044941312                    NaN                  NaN   \n1913  674372068062928900                    NaN                  NaN   \n1931  674036086168010753                    NaN                  NaN   \n2031  671768281401958400                    NaN                  NaN   \n2037  671561002136281088                    NaN                  NaN   \n2064  671154572044468225                    NaN                  NaN   \n2084  670807719151067136                    NaN                  NaN   \n2096  670755717859713024                    NaN                  NaN   \n2137  670046952931721218                    NaN                  NaN   \n2177  669037058363662336                    NaN                  NaN   \n2190  668960084974809088                    NaN                  NaN   \n2196  668852170888998912                    NaN                  NaN   \n2207  668627278264475648                    NaN                  NaN   \n2210  668620235289837568                    NaN                  NaN   \n2216  668537837512433665                    NaN                  NaN   \n2232  668221241640230912                    NaN                  NaN   \n2246  667878741721415682                    NaN                  NaN   \n2268  667517642048163840                    NaN                  NaN   \n2293  667152164079423490                    NaN                  NaN   \n2306  666835007768551424                    NaN                  NaN   \n\n                      timestamp  \\\n113   2017-06-02 19:38:25 +0000   \n262   2017-03-17 15:51:22 +0000   \n273   2017-03-12 00:59:17 +0000   \n274   2017-03-11 22:59:09 +0000   \n320   2017-02-22 17:41:18 +0000   \n387   2017-02-01 01:11:25 +0000   \n461   2017-01-07 01:00:41 +0000   \n485   2016-12-29 21:06:41 +0000   \n516   2016-12-19 23:06:23 +0000   \n799   2016-09-05 15:58:34 +0000   \n889   2016-07-31 16:50:42 +0000   \n898   2016-07-29 02:40:28 +0000   \n976   2016-07-04 18:00:41 +0000   \n1104  2016-05-24 15:55:00 +0000   \n1179  2016-04-11 03:33:34 +0000   \n1199  2016-04-04 00:55:01 +0000   \n1222  2016-03-28 01:10:13 +0000   \n1274  2016-03-14 02:04:08 +0000   \n1366  2016-02-25 01:47:04 +0000   \n1421  2016-02-12 17:22:12 +0000   \n1465  2016-02-02 02:53:12 +0000   \n1481  2016-01-30 03:52:58 +0000   \n1508  2016-01-25 04:49:38 +0000   \n1524  2016-01-22 18:09:28 +0000   \n1538  2016-01-20 15:44:48 +0000   \n1569  2016-01-15 01:25:33 +0000   \n1593  2016-01-11 03:17:53 +0000   \n1621  2016-01-07 02:38:10 +0000   \n1646  2016-01-04 02:18:42 +0000   \n1707  2015-12-26 17:25:59 +0000   \n1763  2015-12-20 05:25:42 +0000   \n1795  2015-12-17 02:30:09 +0000   \n1812  2015-12-15 17:11:09 +0000   \n1817  2015-12-15 03:23:14 +0000   \n1842  2015-12-13 02:51:51 +0000   \n1897  2015-12-09 23:47:22 +0000   \n1899  2015-12-09 19:22:56 +0000   \n1901  2015-12-09 17:46:48 +0000   \n1913  2015-12-08 23:36:44 +0000   \n1931  2015-12-08 01:21:40 +0000   \n2031  2015-12-01 19:10:13 +0000   \n2037  2015-12-01 05:26:34 +0000   \n2064  2015-11-30 02:31:34 +0000   \n2084  2015-11-29 03:33:17 +0000   \n2096  2015-11-29 00:06:39 +0000   \n2137  2015-11-27 01:10:17 +0000   \n2177  2015-11-24 06:17:19 +0000   \n2190  2015-11-24 01:11:27 +0000   \n2196  2015-11-23 18:02:38 +0000   \n2207  2015-11-23 03:09:00 +0000   \n2210  2015-11-23 02:41:01 +0000   \n2216  2015-11-22 21:13:35 +0000   \n2232  2015-11-22 00:15:33 +0000   \n2246  2015-11-21 01:34:35 +0000   \n2268  2015-11-20 01:39:42 +0000   \n2293  2015-11-19 01:27:25 +0000   \n2306  2015-11-18 04:27:09 +0000   \n\n                                                 source  \\\n113   <a href=\"http://twitter.com/download/iphone\" r...   \n262   <a href=\"http://twitter.com/download/iphone\" r...   \n273   <a href=\"http://twitter.com/download/iphone\" r...   \n274   <a href=\"http://twitter.com/download/iphone\" r...   \n320   <a href=\"http://twitter.com/download/iphone\" r...   \n387   <a href=\"http://twitter.com/download/iphone\" r...   \n461   <a href=\"http://twitter.com/download/iphone\" r...   \n485   <a href=\"http://twitter.com/download/iphone\" r...   \n516   <a href=\"http://twitter.com/download/iphone\" r...   \n799   <a href=\"http://twitter.com/download/iphone\" r...   \n889   <a href=\"http://twitter.com/download/iphone\" r...   \n898   <a href=\"http://twitter.com/download/iphone\" r...   \n976   <a href=\"https://about.twitter.com/products/tw...   \n1104  <a href=\"http://twitter.com/download/iphone\" r...   \n1179  <a href=\"http://twitter.com/download/iphone\" r...   \n1199  <a href=\"http://twitter.com/download/iphone\" r...   \n1222  <a href=\"http://twitter.com/download/iphone\" r...   \n1274  <a href=\"http://twitter.com/download/iphone\" r...   \n1366  <a href=\"http://twitter.com/download/iphone\" r...   \n1421  <a href=\"http://twitter.com/download/iphone\" r...   \n1465  <a href=\"http://twitter.com/download/iphone\" r...   \n1481  <a href=\"http://twitter.com/download/iphone\" r...   \n1508  <a href=\"http://twitter.com/download/iphone\" r...   \n1524  <a href=\"http://twitter.com/download/iphone\" r...   \n1538  <a href=\"http://twitter.com/download/iphone\" r...   \n1569  <a href=\"http://twitter.com/download/iphone\" r...   \n1593  <a href=\"http://twitter.com/download/iphone\" r...   \n1621  <a href=\"http://twitter.com/download/iphone\" r...   \n1646  <a href=\"http://twitter.com/download/iphone\" r...   \n1707  <a href=\"http://twitter.com/download/iphone\" r...   \n1763  <a href=\"http://twitter.com/download/iphone\" r...   \n1795  <a href=\"http://twitter.com/download/iphone\" r...   \n1812  <a href=\"http://twitter.com/download/iphone\" r...   \n1817  <a href=\"http://twitter.com/download/iphone\" r...   \n1842  <a href=\"http://twitter.com/download/iphone\" r...   \n1897  <a href=\"http://twitter.com/download/iphone\" r...   \n1899  <a href=\"http://twitter.com/download/iphone\" r...   \n1901  <a href=\"http://twitter.com/download/iphone\" r...   \n1913  <a href=\"http://twitter.com/download/iphone\" r...   \n1931  <a href=\"http://twitter.com/download/iphone\" r...   \n2031  <a href=\"http://twitter.com/download/iphone\" r...   \n2037  <a href=\"http://twitter.com/download/iphone\" r...   \n2064  <a href=\"http://twitter.com/download/iphone\" r...   \n2084  <a href=\"http://twitter.com/download/iphone\" r...   \n2096  <a href=\"http://twitter.com/download/iphone\" r...   \n2137  <a href=\"http://twitter.com/download/iphone\" r...   \n2177  <a href=\"http://twitter.com/download/iphone\" r...   \n2190  <a href=\"http://twitter.com/download/iphone\" r...   \n2196  <a href=\"http://twitter.com/download/iphone\" r...   \n2207  <a href=\"http://twitter.com/download/iphone\" r...   \n2210  <a href=\"http://twitter.com/download/iphone\" r...   \n2216  <a href=\"http://twitter.com/download/iphone\" r...   \n2232  <a href=\"http://twitter.com/download/iphone\" r...   \n2246  <a href=\"http://twitter.com/download/iphone\" r...   \n2268  <a href=\"http://twitter.com\" rel=\"nofollow\">Tw...   \n2293  <a href=\"http://twitter.com/download/iphone\" r...   \n2306  <a href=\"http://twitter.com/download/iphone\" r...   \n\n                                                   text  retweeted_status_id  \\\n113   @ComplicitOwl @ShopWeRateDogs &gt;10/10 is res...                  NaN   \n262   Meet Indie. She's not a fan of baths but she's...                  NaN   \n273   RT @dog_rates: This is Pipsy. He is a fluffbal...         6.671522e+17   \n274   @0_kelvin_0 &gt;10/10 is reserved for puppos s...                  NaN   \n320   Meet Chester (bottom) &amp; Harold (top). They...                  NaN   \n387   I was going to do 007/10, but the joke wasn't ...                  NaN   \n461   Say hello to Eugene &amp; Patti Melt. No matte...                  NaN   \n485   RT @dog_rates: Meet Beau &amp; Wilbur. Wilbur ...         6.981954e+17   \n516   Meet Sam. She smiles 24/7 &amp; secretly aspir...                  NaN   \n799   Meet Roosevelt. He's preparing for takeoff. Ma...                  NaN   \n889   Meet Maggie &amp; Lila. Maggie is the doggo, L...                  NaN   \n898   This is Lilli Bee &amp; Honey Bear. Unfortunat...                  NaN   \n976   Meet Jax &amp; Jil. Jil is yelling the pledge ...                  NaN   \n1104  Meet Buckley. His family &amp; some neighbors ...                  NaN   \n1179  Meet Sid &amp; Murphy. Murphy floats alongside...                  NaN   \n1199  Meet Jennifur. She's supposed to be navigating...                  NaN   \n1222  Meet Travis and Flurp. Travis is pretty chill ...                  NaN   \n1274  From left to right:\\nCletus, Jerome, Alejandro...                  NaN   \n1366  Meet Rambo &amp; Kiwi. Rambo's the pup with th...                  NaN   \n1421  Meet Beau &amp; Wilbur. Wilbur stole Beau's be...                  NaN   \n1465  Meet Oliviér. He takes killer selfies. Has a d...                  NaN   \n1481  This is Sadie and her 2 pups Shebang &amp; Ruf...                  NaN   \n1508  When bae says they can't go out but you see th...                  NaN   \n1524  This is Lolo. She's America af. Behind in scie...                  NaN   \n1538  Meet Fynn &amp; Taco. Fynn is an all-powerful ...                  NaN   \n1569  Meet Trooper &amp; Maya. Trooper protects Maya...                  NaN   \n1593  Say hello to Crimson. He's a Speckled Winnebag...                  NaN   \n1621  Meet Bruiser &amp; Charlie. They are the best ...                  NaN   \n1646  Here we see a faulty pupper. Might need to rep...                  NaN   \n1707  Great picture here. Dog on the right panicked ...                  NaN   \n1763  Touching scene here. Really stirs up the emoti...                  NaN   \n1795  Meet Tassy &amp; Bee. Tassy is pretty chill, b...                  NaN   \n1812  Say hello to Penny &amp; Gizmo. They are pract...                  NaN   \n1817  This is Godzilla pupper. He had a ruff childho...                  NaN   \n1842  &amp; this is Yoshi. Another world record cont...                  NaN   \n1897  Meet Rufio. He is unaware of the pink legless ...                  NaN   \n1899  Meet Jeb &amp; Bush. Jeb is somehow stuck in t...                  NaN   \n1901  Two gorgeous dogs here. Little waddling dog is...                  NaN   \n1913  Meet Chesney. On the outside he stays calm &am...                  NaN   \n1931  Meet Daisy. She has no eyes &amp; her face has...                  NaN   \n2031  When you try to recreate the scene from Lady &...                  NaN   \n2037  This is the best thing I've ever seen so sprea...                  NaN   \n2064  Meet Holly. She's trying to teach small human-...                  NaN   \n2084  Say hello to Andy. He can balance on one foot,...                  NaN   \n2096  Say hello to Gin &amp; Tonic. They're having a...                  NaN   \n2137  This is Ben &amp; Carson. It's impossible for ...                  NaN   \n2177  Here we have Pancho and Peaches. Pancho is a C...                  NaN   \n2190  Meet Jaycob. He got scared of the vacuum. Hide...                  NaN   \n2196  Say hello to Bobb. Bobb is a Golden High Fescu...                  NaN   \n2207  This is Timofy. He's a pilot for Southwest. It...                  NaN   \n2210  Say hello to Kallie. There was a tornado in th...                  NaN   \n2216  This is Spark. He's nervous. Other dog hasn't ...                  NaN   \n2232  These two dogs are Bo &amp; Smittens. Smittens...                  NaN   \n2246  This is Tedrick. He lives on the edge. Needs s...                  NaN   \n2268  This is Dook &amp; Milo. Dook is struggling to...                  NaN   \n2293  This is Pipsy. He is a fluffball. Enjoys trave...                  NaN   \n2306  These are Peruvian Feldspars. Their names are ...                  NaN   \n\n      retweeted_status_user_id retweeted_status_timestamp  \\\n113                        NaN                        NaN   \n262                        NaN                        NaN   \n273               4.196984e+09  2015-11-19 01:27:25 +0000   \n274                        NaN                        NaN   \n320                        NaN                        NaN   \n387                        NaN                        NaN   \n461                        NaN                        NaN   \n485               4.196984e+09  2016-02-12 17:22:12 +0000   \n516                        NaN                        NaN   \n799                        NaN                        NaN   \n889                        NaN                        NaN   \n898                        NaN                        NaN   \n976                        NaN                        NaN   \n1104                       NaN                        NaN   \n1179                       NaN                        NaN   \n1199                       NaN                        NaN   \n1222                       NaN                        NaN   \n1274                       NaN                        NaN   \n1366                       NaN                        NaN   \n1421                       NaN                        NaN   \n1465                       NaN                        NaN   \n1481                       NaN                        NaN   \n1508                       NaN                        NaN   \n1524                       NaN                        NaN   \n1538                       NaN                        NaN   \n1569                       NaN                        NaN   \n1593                       NaN                        NaN   \n1621                       NaN                        NaN   \n1646                       NaN                        NaN   \n1707                       NaN                        NaN   \n1763                       NaN                        NaN   \n1795                       NaN                        NaN   \n1812                       NaN                        NaN   \n1817                       NaN                        NaN   \n1842                       NaN                        NaN   \n1897                       NaN                        NaN   \n1899                       NaN                        NaN   \n1901                       NaN                        NaN   \n1913                       NaN                        NaN   \n1931                       NaN                        NaN   \n2031                       NaN                        NaN   \n2037                       NaN                        NaN   \n2064                       NaN                        NaN   \n2084                       NaN                        NaN   \n2096                       NaN                        NaN   \n2137                       NaN                        NaN   \n2177                       NaN                        NaN   \n2190                       NaN                        NaN   \n2196                       NaN                        NaN   \n2207                       NaN                        NaN   \n2210                       NaN                        NaN   \n2216                       NaN                        NaN   \n2232                       NaN                        NaN   \n2246                       NaN                        NaN   \n2268                       NaN                        NaN   \n2293                       NaN                        NaN   \n2306                       NaN                        NaN   \n\n                                          expanded_urls  rating_numerator  \\\n113                                                 NaN                10   \n262   https://www.gofundme.com/get-indie-home/,https...                12   \n273   https://twitter.com/dog_rates/status/667152164...                12   \n274                                                 NaN                10   \n320   https://twitter.com/dog_rates/status/834458053...                12   \n387                                                 NaN                 7   \n461   https://twitter.com/dog_rates/status/817536400...                12   \n485   https://twitter.com/dog_rates/status/698195409...                 9   \n516   https://www.gofundme.com/sams-smile,https://tw...                24   \n799   https://twitter.com/dog_rates/status/772826264...                11   \n889   https://twitter.com/dog_rates/status/759793422...                12   \n898   https://twitter.com/dog_rates/status/758854675...                11   \n976   https://twitter.com/dog_rates/status/750026558...                10   \n1104  https://twitter.com/dog_rates/status/735137028...                 9   \n1179  https://twitter.com/dog_rates/status/719367763...                11   \n1199  https://twitter.com/dog_rates/status/716791146...                11   \n1222  https://twitter.com/dog_rates/status/714258258...                10   \n1274  https://twitter.com/dog_rates/status/709198395...                45   \n1366  https://twitter.com/dog_rates/status/702671118...                10   \n1421  https://twitter.com/dog_rates/status/698195409...                 9   \n1465  https://twitter.com/dog_rates/status/694352839...                10   \n1481  https://twitter.com/dog_rates/status/693280720...                10   \n1508  https://twitter.com/dog_rates/status/691483041...                 5   \n1524  https://twitter.com/dog_rates/status/690597161...                11   \n1538  https://twitter.com/dog_rates/status/689835978...                11   \n1569  https://twitter.com/dog_rates/status/687807801...                11   \n1593  https://twitter.com/dog_rates/status/686386521...                11   \n1621  https://twitter.com/dog_rates/status/684926975...                11   \n1646  https://twitter.com/dog_rates/status/683834909...                 9   \n1707  https://twitter.com/dog_rates/status/680801747...                10   \n1763  https://twitter.com/dog_rates/status/678446151...                10   \n1795  https://twitter.com/dog_rates/status/677314812...                10   \n1812  https://twitter.com/dog_rates/status/676811746...                 9   \n1817  https://twitter.com/dog_rates/status/676603393...                 9   \n1842  https://twitter.com/dog_rates/status/675870721...                11   \n1897  https://twitter.com/dog_rates/status/674737130...                10   \n1899  https://twitter.com/dog_rates/status/674670581...                 9   \n1901  https://twitter.com/dog_rates/status/674646392...                 5   \n1913  https://twitter.com/dog_rates/status/674372068...                10   \n1931  https://twitter.com/dog_rates/status/674036086...                 9   \n2031  https://twitter.com/dog_rates/status/671768281...                10   \n2037  https://twitter.com/dog_rates/status/671561002...                13   \n2064  https://twitter.com/dog_rates/status/671154572...                11   \n2084  https://twitter.com/dog_rates/status/670807719...                11   \n2096  https://twitter.com/dog_rates/status/670755717...                 9   \n2137  https://twitter.com/dog_rates/status/670046952...                11   \n2177  https://twitter.com/dog_rates/status/669037058...                10   \n2190  https://twitter.com/dog_rates/status/668960084...                10   \n2196  https://twitter.com/dog_rates/status/668852170...                11   \n2207  https://twitter.com/dog_rates/status/668627278...                 9   \n2210  https://twitter.com/dog_rates/status/668620235...                10   \n2216  https://twitter.com/dog_rates/status/668537837...                 8   \n2232  https://twitter.com/dog_rates/status/668221241...                10   \n2246  https://twitter.com/dog_rates/status/667878741...                 2   \n2268  https://twitter.com/dog_rates/status/667517642...                 8   \n2293  https://twitter.com/dog_rates/status/667152164...                12   \n2306  https://twitter.com/dog_rates/status/666835007...                10   \n\n      rating_denominator       name  doggo floofer  pupper puppo  \n113                   10       None   None    None    None  None  \n262                   10      Indie   None    None    None  None  \n273                   10      Pipsy   None    None    None  None  \n274                   10       None   None    None    None  None  \n320                   10    Chester   None    None    None  None  \n387                   10       None   None    None    None  None  \n461                   10     Eugene   None    None    None  None  \n485                   10       Beau   None    None    None  None  \n516                    7        Sam   None    None    None  None  \n799                   10  Roosevelt   None    None    None  None  \n889                   10     Maggie  doggo    None  pupper  None  \n898                   10      Lilli   None    None    None  None  \n976                   10        Jax   None    None    None  None  \n1104                  10    Buckley   None    None  pupper  None  \n1179                  10        Sid   None    None    None  None  \n1199                  10   Jennifur   None    None    None  None  \n1222                  10     Travis   None    None    None  None  \n1274                  50       None   None    None    None  None  \n1366                  10      Rambo   None    None    None  None  \n1421                  10       Beau   None    None    None  None  \n1465                  10    Oliviér   None    None    None  None  \n1481                  10      Sadie   None    None    None  None  \n1508                  10       None   None    None    None  None  \n1524                  10       Lolo   None    None    None  None  \n1538                  10       Fynn   None    None    None  None  \n1569                  10    Trooper   None    None    None  None  \n1593                  10    Crimson   None    None    None  None  \n1621                  10    Bruiser   None    None    None  None  \n1646                  10       None   None    None  pupper  None  \n1707                  10       None   None    None    None  None  \n1763                  10       None   None    None    None  None  \n1795                  10      Tassy   None    None    None  None  \n1812                  10      Penny   None    None    None  None  \n1817                  10   Godzilla   None    None  pupper  None  \n1842                  10       None   None    None    None  None  \n1897                  10      Rufio   None    None  pupper  None  \n1899                  10        Jeb   None    None    None  None  \n1901                  10       None   None    None    None  None  \n1913                  10    Chesney   None    None    None  None  \n1931                  10      Daisy   None    None    None  None  \n2031                  10       None   None    None    None  None  \n2037                  10        the   None    None    None  None  \n2064                  10      Holly   None    None    None  None  \n2084                  10       Andy   None    None    None  None  \n2096                  10        Gin   None    None    None  None  \n2137                  10        Ben   None    None    None  None  \n2177                  10       None   None    None    None  None  \n2190                  10     Jaycob   None    None    None  None  \n2196                  10       Bobb   None    None    None  None  \n2207                  10     Timofy   None    None    None  None  \n2210                  10     Kallie   None    None    None  None  \n2216                  10      Spark   None    None    None  None  \n2232                  10       None   None    None    None  None  \n2246                  10    Tedrick   None    None    None  None  \n2268                  10       Dook   None    None    None  None  \n2293                  10      Pipsy   None    None    None  None  \n2306                  10       None   None    None    None  None  ",
      "text/html": "<div>\n<style scoped>\n    .dataframe tbody tr th:only-of-type {\n        vertical-align: middle;\n    }\n\n    .dataframe tbody tr th {\n        vertical-align: top;\n    }\n\n    .dataframe thead th {\n        text-align: right;\n    }\n</style>\n<table border=\"1\" class=\"dataframe\">\n  <thead>\n    <tr style=\"text-align: right;\">\n      <th></th>\n      <th>tweet_id</th>\n      <th>in_reply_to_status_id</th>\n      <th>in_reply_to_user_id</th>\n      <th>timestamp</th>\n      <th>source</th>\n      <th>text</th>\n      <th>retweeted_status_id</th>\n      <th>retweeted_status_user_id</th>\n      <th>retweeted_status_timestamp</th>\n      <th>expanded_urls</th>\n      <th>rating_numerator</th>\n      <th>rating_denominator</th>\n      <th>name</th>\n      <th>doggo</th>\n      <th>floofer</th>\n      <th>pupper</th>\n      <th>puppo</th>\n    </tr>\n  </thead>\n  <tbody>\n    <tr>\n      <th>113</th>\n      <td>870726314365509632</td>\n      <td>8.707262e+17</td>\n      <td>1.648776e+07</td>\n      <td>2017-06-02 19:38:25 +0000</td>\n      <td>&lt;a href=\"http://twitter.com/download/iphone\" r...</td>\n      <td>@ComplicitOwl @ShopWeRateDogs &amp;gt;10/10 is res...</td>\n      <td>NaN</td>\n      <td>NaN</td>\n      <td>NaN</td>\n      <td>NaN</td>\n      <td>10</td>\n      <td>10</td>\n      <td>None</td>\n      <td>None</td>\n      <td>None</td>\n      <td>None</td>\n      <td>None</td>\n    </tr>\n    <tr>\n      <th>262</th>\n      <td>842765311967449089</td>\n      <td>NaN</td>\n      <td>NaN</td>\n      <td>2017-03-17 15:51:22 +0000</td>\n      <td>&lt;a href=\"http://twitter.com/download/iphone\" r...</td>\n      <td>Meet Indie. She's not a fan of baths but she's...</td>\n      <td>NaN</td>\n      <td>NaN</td>\n      <td>NaN</td>\n      <td>https://www.gofundme.com/get-indie-home/,https...</td>\n      <td>12</td>\n      <td>10</td>\n      <td>Indie</td>\n      <td>None</td>\n      <td>None</td>\n      <td>None</td>\n      <td>None</td>\n    </tr>\n    <tr>\n      <th>273</th>\n      <td>840728873075638272</td>\n      <td>NaN</td>\n      <td>NaN</td>\n      <td>2017-03-12 00:59:17 +0000</td>\n      <td>&lt;a href=\"http://twitter.com/download/iphone\" r...</td>\n      <td>RT @dog_rates: This is Pipsy. He is a fluffbal...</td>\n      <td>6.671522e+17</td>\n      <td>4.196984e+09</td>\n      <td>2015-11-19 01:27:25 +0000</td>\n      <td>https://twitter.com/dog_rates/status/667152164...</td>\n      <td>12</td>\n      <td>10</td>\n      <td>Pipsy</td>\n      <td>None</td>\n      <td>None</td>\n      <td>None</td>\n      <td>None</td>\n    </tr>\n    <tr>\n      <th>274</th>\n      <td>840698636975636481</td>\n      <td>8.406983e+17</td>\n      <td>8.405479e+17</td>\n      <td>2017-03-11 22:59:09 +0000</td>\n      <td>&lt;a href=\"http://twitter.com/download/iphone\" r...</td>\n      <td>@0_kelvin_0 &amp;gt;10/10 is reserved for puppos s...</td>\n      <td>NaN</td>\n      <td>NaN</td>\n      <td>NaN</td>\n      <td>NaN</td>\n      <td>10</td>\n      <td>10</td>\n      <td>None</td>\n      <td>None</td>\n      <td>None</td>\n      <td>None</td>\n      <td>None</td>\n    </tr>\n    <tr>\n      <th>320</th>\n      <td>834458053273591808</td>\n      <td>NaN</td>\n      <td>NaN</td>\n      <td>2017-02-22 17:41:18 +0000</td>\n      <td>&lt;a href=\"http://twitter.com/download/iphone\" r...</td>\n      <td>Meet Chester (bottom) &amp;amp; Harold (top). They...</td>\n      <td>NaN</td>\n      <td>NaN</td>\n      <td>NaN</td>\n      <td>https://twitter.com/dog_rates/status/834458053...</td>\n      <td>12</td>\n      <td>10</td>\n      <td>Chester</td>\n      <td>None</td>\n      <td>None</td>\n      <td>None</td>\n      <td>None</td>\n    </tr>\n    <tr>\n      <th>387</th>\n      <td>826598799820865537</td>\n      <td>8.265984e+17</td>\n      <td>4.196984e+09</td>\n      <td>2017-02-01 01:11:25 +0000</td>\n      <td>&lt;a href=\"http://twitter.com/download/iphone\" r...</td>\n      <td>I was going to do 007/10, but the joke wasn't ...</td>\n      <td>NaN</td>\n      <td>NaN</td>\n      <td>NaN</td>\n      <td>NaN</td>\n      <td>7</td>\n      <td>10</td>\n      <td>None</td>\n      <td>None</td>\n      <td>None</td>\n      <td>None</td>\n      <td>None</td>\n    </tr>\n    <tr>\n      <th>461</th>\n      <td>817536400337801217</td>\n      <td>NaN</td>\n      <td>NaN</td>\n      <td>2017-01-07 01:00:41 +0000</td>\n      <td>&lt;a href=\"http://twitter.com/download/iphone\" r...</td>\n      <td>Say hello to Eugene &amp;amp; Patti Melt. No matte...</td>\n      <td>NaN</td>\n      <td>NaN</td>\n      <td>NaN</td>\n      <td>https://twitter.com/dog_rates/status/817536400...</td>\n      <td>12</td>\n      <td>10</td>\n      <td>Eugene</td>\n      <td>None</td>\n      <td>None</td>\n      <td>None</td>\n      <td>None</td>\n    </tr>\n    <tr>\n      <th>485</th>\n      <td>814578408554463233</td>\n      <td>NaN</td>\n      <td>NaN</td>\n      <td>2016-12-29 21:06:41 +0000</td>\n      <td>&lt;a href=\"http://twitter.com/download/iphone\" r...</td>\n      <td>RT @dog_rates: Meet Beau &amp;amp; Wilbur. Wilbur ...</td>\n      <td>6.981954e+17</td>\n      <td>4.196984e+09</td>\n      <td>2016-02-12 17:22:12 +0000</td>\n      <td>https://twitter.com/dog_rates/status/698195409...</td>\n      <td>9</td>\n      <td>10</td>\n      <td>Beau</td>\n      <td>None</td>\n      <td>None</td>\n      <td>None</td>\n      <td>None</td>\n    </tr>\n    <tr>\n      <th>516</th>\n      <td>810984652412424192</td>\n      <td>NaN</td>\n      <td>NaN</td>\n      <td>2016-12-19 23:06:23 +0000</td>\n      <td>&lt;a href=\"http://twitter.com/download/iphone\" r...</td>\n      <td>Meet Sam. She smiles 24/7 &amp;amp; secretly aspir...</td>\n      <td>NaN</td>\n      <td>NaN</td>\n      <td>NaN</td>\n      <td>https://www.gofundme.com/sams-smile,https://tw...</td>\n      <td>24</td>\n      <td>7</td>\n      <td>Sam</td>\n      <td>None</td>\n      <td>None</td>\n      <td>None</td>\n      <td>None</td>\n    </tr>\n    <tr>\n      <th>799</th>\n      <td>772826264096874500</td>\n      <td>NaN</td>\n      <td>NaN</td>\n      <td>2016-09-05 15:58:34 +0000</td>\n      <td>&lt;a href=\"http://twitter.com/download/iphone\" r...</td>\n      <td>Meet Roosevelt. He's preparing for takeoff. Ma...</td>\n      <td>NaN</td>\n      <td>NaN</td>\n      <td>NaN</td>\n      <td>https://twitter.com/dog_rates/status/772826264...</td>\n      <td>11</td>\n      <td>10</td>\n      <td>Roosevelt</td>\n      <td>None</td>\n      <td>None</td>\n      <td>None</td>\n      <td>None</td>\n    </tr>\n    <tr>\n      <th>889</th>\n      <td>759793422261743616</td>\n      <td>NaN</td>\n      <td>NaN</td>\n      <td>2016-07-31 16:50:42 +0000</td>\n      <td>&lt;a href=\"http://twitter.com/download/iphone\" r...</td>\n      <td>Meet Maggie &amp;amp; Lila. Maggie is the doggo, L...</td>\n      <td>NaN</td>\n      <td>NaN</td>\n      <td>NaN</td>\n      <td>https://twitter.com/dog_rates/status/759793422...</td>\n      <td>12</td>\n      <td>10</td>\n      <td>Maggie</td>\n      <td>doggo</td>\n      <td>None</td>\n      <td>pupper</td>\n      <td>None</td>\n    </tr>\n    <tr>\n      <th>898</th>\n      <td>758854675097526272</td>\n      <td>NaN</td>\n      <td>NaN</td>\n      <td>2016-07-29 02:40:28 +0000</td>\n      <td>&lt;a href=\"http://twitter.com/download/iphone\" r...</td>\n      <td>This is Lilli Bee &amp;amp; Honey Bear. Unfortunat...</td>\n      <td>NaN</td>\n      <td>NaN</td>\n      <td>NaN</td>\n      <td>https://twitter.com/dog_rates/status/758854675...</td>\n      <td>11</td>\n      <td>10</td>\n      <td>Lilli</td>\n      <td>None</td>\n      <td>None</td>\n      <td>None</td>\n      <td>None</td>\n    </tr>\n    <tr>\n      <th>976</th>\n      <td>750026558547456000</td>\n      <td>NaN</td>\n      <td>NaN</td>\n      <td>2016-07-04 18:00:41 +0000</td>\n      <td>&lt;a href=\"https://about.twitter.com/products/tw...</td>\n      <td>Meet Jax &amp;amp; Jil. Jil is yelling the pledge ...</td>\n      <td>NaN</td>\n      <td>NaN</td>\n      <td>NaN</td>\n      <td>https://twitter.com/dog_rates/status/750026558...</td>\n      <td>10</td>\n      <td>10</td>\n      <td>Jax</td>\n      <td>None</td>\n      <td>None</td>\n      <td>None</td>\n      <td>None</td>\n    </tr>\n    <tr>\n      <th>1104</th>\n      <td>735137028879360001</td>\n      <td>NaN</td>\n      <td>NaN</td>\n      <td>2016-05-24 15:55:00 +0000</td>\n      <td>&lt;a href=\"http://twitter.com/download/iphone\" r...</td>\n      <td>Meet Buckley. His family &amp;amp; some neighbors ...</td>\n      <td>NaN</td>\n      <td>NaN</td>\n      <td>NaN</td>\n      <td>https://twitter.com/dog_rates/status/735137028...</td>\n      <td>9</td>\n      <td>10</td>\n      <td>Buckley</td>\n      <td>None</td>\n      <td>None</td>\n      <td>pupper</td>\n      <td>None</td>\n    </tr>\n    <tr>\n      <th>1179</th>\n      <td>719367763014393856</td>\n      <td>NaN</td>\n      <td>NaN</td>\n      <td>2016-04-11 03:33:34 +0000</td>\n      <td>&lt;a href=\"http://twitter.com/download/iphone\" r...</td>\n      <td>Meet Sid &amp;amp; Murphy. Murphy floats alongside...</td>\n      <td>NaN</td>\n      <td>NaN</td>\n      <td>NaN</td>\n      <td>https://twitter.com/dog_rates/status/719367763...</td>\n      <td>11</td>\n      <td>10</td>\n      <td>Sid</td>\n      <td>None</td>\n      <td>None</td>\n      <td>None</td>\n      <td>None</td>\n    </tr>\n    <tr>\n      <th>1199</th>\n      <td>716791146589110272</td>\n      <td>NaN</td>\n      <td>NaN</td>\n      <td>2016-04-04 00:55:01 +0000</td>\n      <td>&lt;a href=\"http://twitter.com/download/iphone\" r...</td>\n      <td>Meet Jennifur. She's supposed to be navigating...</td>\n      <td>NaN</td>\n      <td>NaN</td>\n      <td>NaN</td>\n      <td>https://twitter.com/dog_rates/status/716791146...</td>\n      <td>11</td>\n      <td>10</td>\n      <td>Jennifur</td>\n      <td>None</td>\n      <td>None</td>\n      <td>None</td>\n      <td>None</td>\n    </tr>\n    <tr>\n      <th>1222</th>\n      <td>714258258790387713</td>\n      <td>NaN</td>\n      <td>NaN</td>\n      <td>2016-03-28 01:10:13 +0000</td>\n      <td>&lt;a href=\"http://twitter.com/download/iphone\" r...</td>\n      <td>Meet Travis and Flurp. Travis is pretty chill ...</td>\n      <td>NaN</td>\n      <td>NaN</td>\n      <td>NaN</td>\n      <td>https://twitter.com/dog_rates/status/714258258...</td>\n      <td>10</td>\n      <td>10</td>\n      <td>Travis</td>\n      <td>None</td>\n      <td>None</td>\n      <td>None</td>\n      <td>None</td>\n    </tr>\n    <tr>\n      <th>1274</th>\n      <td>709198395643068416</td>\n      <td>NaN</td>\n      <td>NaN</td>\n      <td>2016-03-14 02:04:08 +0000</td>\n      <td>&lt;a href=\"http://twitter.com/download/iphone\" r...</td>\n      <td>From left to right:\\nCletus, Jerome, Alejandro...</td>\n      <td>NaN</td>\n      <td>NaN</td>\n      <td>NaN</td>\n      <td>https://twitter.com/dog_rates/status/709198395...</td>\n      <td>45</td>\n      <td>50</td>\n      <td>None</td>\n      <td>None</td>\n      <td>None</td>\n      <td>None</td>\n      <td>None</td>\n    </tr>\n    <tr>\n      <th>1366</th>\n      <td>702671118226825216</td>\n      <td>NaN</td>\n      <td>NaN</td>\n      <td>2016-02-25 01:47:04 +0000</td>\n      <td>&lt;a href=\"http://twitter.com/download/iphone\" r...</td>\n      <td>Meet Rambo &amp;amp; Kiwi. Rambo's the pup with th...</td>\n      <td>NaN</td>\n      <td>NaN</td>\n      <td>NaN</td>\n      <td>https://twitter.com/dog_rates/status/702671118...</td>\n      <td>10</td>\n      <td>10</td>\n      <td>Rambo</td>\n      <td>None</td>\n      <td>None</td>\n      <td>None</td>\n      <td>None</td>\n    </tr>\n    <tr>\n      <th>1421</th>\n      <td>698195409219559425</td>\n      <td>NaN</td>\n      <td>NaN</td>\n      <td>2016-02-12 17:22:12 +0000</td>\n      <td>&lt;a href=\"http://twitter.com/download/iphone\" r...</td>\n      <td>Meet Beau &amp;amp; Wilbur. Wilbur stole Beau's be...</td>\n      <td>NaN</td>\n      <td>NaN</td>\n      <td>NaN</td>\n      <td>https://twitter.com/dog_rates/status/698195409...</td>\n      <td>9</td>\n      <td>10</td>\n      <td>Beau</td>\n      <td>None</td>\n      <td>None</td>\n      <td>None</td>\n      <td>None</td>\n    </tr>\n    <tr>\n      <th>1465</th>\n      <td>694352839993344000</td>\n      <td>NaN</td>\n      <td>NaN</td>\n      <td>2016-02-02 02:53:12 +0000</td>\n      <td>&lt;a href=\"http://twitter.com/download/iphone\" r...</td>\n      <td>Meet Oliviér. He takes killer selfies. Has a d...</td>\n      <td>NaN</td>\n      <td>NaN</td>\n      <td>NaN</td>\n      <td>https://twitter.com/dog_rates/status/694352839...</td>\n      <td>10</td>\n      <td>10</td>\n      <td>Oliviér</td>\n      <td>None</td>\n      <td>None</td>\n      <td>None</td>\n      <td>None</td>\n    </tr>\n    <tr>\n      <th>1481</th>\n      <td>693280720173801472</td>\n      <td>NaN</td>\n      <td>NaN</td>\n      <td>2016-01-30 03:52:58 +0000</td>\n      <td>&lt;a href=\"http://twitter.com/download/iphone\" r...</td>\n      <td>This is Sadie and her 2 pups Shebang &amp;amp; Ruf...</td>\n      <td>NaN</td>\n      <td>NaN</td>\n      <td>NaN</td>\n      <td>https://twitter.com/dog_rates/status/693280720...</td>\n      <td>10</td>\n      <td>10</td>\n      <td>Sadie</td>\n      <td>None</td>\n      <td>None</td>\n      <td>None</td>\n      <td>None</td>\n    </tr>\n    <tr>\n      <th>1508</th>\n      <td>691483041324204033</td>\n      <td>NaN</td>\n      <td>NaN</td>\n      <td>2016-01-25 04:49:38 +0000</td>\n      <td>&lt;a href=\"http://twitter.com/download/iphone\" r...</td>\n      <td>When bae says they can't go out but you see th...</td>\n      <td>NaN</td>\n      <td>NaN</td>\n      <td>NaN</td>\n      <td>https://twitter.com/dog_rates/status/691483041...</td>\n      <td>5</td>\n      <td>10</td>\n      <td>None</td>\n      <td>None</td>\n      <td>None</td>\n      <td>None</td>\n      <td>None</td>\n    </tr>\n    <tr>\n      <th>1524</th>\n      <td>690597161306841088</td>\n      <td>NaN</td>\n      <td>NaN</td>\n      <td>2016-01-22 18:09:28 +0000</td>\n      <td>&lt;a href=\"http://twitter.com/download/iphone\" r...</td>\n      <td>This is Lolo. She's America af. Behind in scie...</td>\n      <td>NaN</td>\n      <td>NaN</td>\n      <td>NaN</td>\n      <td>https://twitter.com/dog_rates/status/690597161...</td>\n      <td>11</td>\n      <td>10</td>\n      <td>Lolo</td>\n      <td>None</td>\n      <td>None</td>\n      <td>None</td>\n      <td>None</td>\n    </tr>\n    <tr>\n      <th>1538</th>\n      <td>689835978131935233</td>\n      <td>NaN</td>\n      <td>NaN</td>\n      <td>2016-01-20 15:44:48 +0000</td>\n      <td>&lt;a href=\"http://twitter.com/download/iphone\" r...</td>\n      <td>Meet Fynn &amp;amp; Taco. Fynn is an all-powerful ...</td>\n      <td>NaN</td>\n      <td>NaN</td>\n      <td>NaN</td>\n      <td>https://twitter.com/dog_rates/status/689835978...</td>\n      <td>11</td>\n      <td>10</td>\n      <td>Fynn</td>\n      <td>None</td>\n      <td>None</td>\n      <td>None</td>\n      <td>None</td>\n    </tr>\n    <tr>\n      <th>1569</th>\n      <td>687807801670897665</td>\n      <td>NaN</td>\n      <td>NaN</td>\n      <td>2016-01-15 01:25:33 +0000</td>\n      <td>&lt;a href=\"http://twitter.com/download/iphone\" r...</td>\n      <td>Meet Trooper &amp;amp; Maya. Trooper protects Maya...</td>\n      <td>NaN</td>\n      <td>NaN</td>\n      <td>NaN</td>\n      <td>https://twitter.com/dog_rates/status/687807801...</td>\n      <td>11</td>\n      <td>10</td>\n      <td>Trooper</td>\n      <td>None</td>\n      <td>None</td>\n      <td>None</td>\n      <td>None</td>\n    </tr>\n    <tr>\n      <th>1593</th>\n      <td>686386521809772549</td>\n      <td>NaN</td>\n      <td>NaN</td>\n      <td>2016-01-11 03:17:53 +0000</td>\n      <td>&lt;a href=\"http://twitter.com/download/iphone\" r...</td>\n      <td>Say hello to Crimson. He's a Speckled Winnebag...</td>\n      <td>NaN</td>\n      <td>NaN</td>\n      <td>NaN</td>\n      <td>https://twitter.com/dog_rates/status/686386521...</td>\n      <td>11</td>\n      <td>10</td>\n      <td>Crimson</td>\n      <td>None</td>\n      <td>None</td>\n      <td>None</td>\n      <td>None</td>\n    </tr>\n    <tr>\n      <th>1621</th>\n      <td>684926975086034944</td>\n      <td>NaN</td>\n      <td>NaN</td>\n      <td>2016-01-07 02:38:10 +0000</td>\n      <td>&lt;a href=\"http://twitter.com/download/iphone\" r...</td>\n      <td>Meet Bruiser &amp;amp; Charlie. They are the best ...</td>\n      <td>NaN</td>\n      <td>NaN</td>\n      <td>NaN</td>\n      <td>https://twitter.com/dog_rates/status/684926975...</td>\n      <td>11</td>\n      <td>10</td>\n      <td>Bruiser</td>\n      <td>None</td>\n      <td>None</td>\n      <td>None</td>\n      <td>None</td>\n    </tr>\n    <tr>\n      <th>1646</th>\n      <td>683834909291606017</td>\n      <td>NaN</td>\n      <td>NaN</td>\n      <td>2016-01-04 02:18:42 +0000</td>\n      <td>&lt;a href=\"http://twitter.com/download/iphone\" r...</td>\n      <td>Here we see a faulty pupper. Might need to rep...</td>\n      <td>NaN</td>\n      <td>NaN</td>\n      <td>NaN</td>\n      <td>https://twitter.com/dog_rates/status/683834909...</td>\n      <td>9</td>\n      <td>10</td>\n      <td>None</td>\n      <td>None</td>\n      <td>None</td>\n      <td>pupper</td>\n      <td>None</td>\n    </tr>\n    <tr>\n      <th>1707</th>\n      <td>680801747103793152</td>\n      <td>NaN</td>\n      <td>NaN</td>\n      <td>2015-12-26 17:25:59 +0000</td>\n      <td>&lt;a href=\"http://twitter.com/download/iphone\" r...</td>\n      <td>Great picture here. Dog on the right panicked ...</td>\n      <td>NaN</td>\n      <td>NaN</td>\n      <td>NaN</td>\n      <td>https://twitter.com/dog_rates/status/680801747...</td>\n      <td>10</td>\n      <td>10</td>\n      <td>None</td>\n      <td>None</td>\n      <td>None</td>\n      <td>None</td>\n      <td>None</td>\n    </tr>\n    <tr>\n      <th>1763</th>\n      <td>678446151570427904</td>\n      <td>NaN</td>\n      <td>NaN</td>\n      <td>2015-12-20 05:25:42 +0000</td>\n      <td>&lt;a href=\"http://twitter.com/download/iphone\" r...</td>\n      <td>Touching scene here. Really stirs up the emoti...</td>\n      <td>NaN</td>\n      <td>NaN</td>\n      <td>NaN</td>\n      <td>https://twitter.com/dog_rates/status/678446151...</td>\n      <td>10</td>\n      <td>10</td>\n      <td>None</td>\n      <td>None</td>\n      <td>None</td>\n      <td>None</td>\n      <td>None</td>\n    </tr>\n    <tr>\n      <th>1795</th>\n      <td>677314812125323265</td>\n      <td>NaN</td>\n      <td>NaN</td>\n      <td>2015-12-17 02:30:09 +0000</td>\n      <td>&lt;a href=\"http://twitter.com/download/iphone\" r...</td>\n      <td>Meet Tassy &amp;amp; Bee. Tassy is pretty chill, b...</td>\n      <td>NaN</td>\n      <td>NaN</td>\n      <td>NaN</td>\n      <td>https://twitter.com/dog_rates/status/677314812...</td>\n      <td>10</td>\n      <td>10</td>\n      <td>Tassy</td>\n      <td>None</td>\n      <td>None</td>\n      <td>None</td>\n      <td>None</td>\n    </tr>\n    <tr>\n      <th>1812</th>\n      <td>676811746707918848</td>\n      <td>NaN</td>\n      <td>NaN</td>\n      <td>2015-12-15 17:11:09 +0000</td>\n      <td>&lt;a href=\"http://twitter.com/download/iphone\" r...</td>\n      <td>Say hello to Penny &amp;amp; Gizmo. They are pract...</td>\n      <td>NaN</td>\n      <td>NaN</td>\n      <td>NaN</td>\n      <td>https://twitter.com/dog_rates/status/676811746...</td>\n      <td>9</td>\n      <td>10</td>\n      <td>Penny</td>\n      <td>None</td>\n      <td>None</td>\n      <td>None</td>\n      <td>None</td>\n    </tr>\n    <tr>\n      <th>1817</th>\n      <td>676603393314578432</td>\n      <td>NaN</td>\n      <td>NaN</td>\n      <td>2015-12-15 03:23:14 +0000</td>\n      <td>&lt;a href=\"http://twitter.com/download/iphone\" r...</td>\n      <td>This is Godzilla pupper. He had a ruff childho...</td>\n      <td>NaN</td>\n      <td>NaN</td>\n      <td>NaN</td>\n      <td>https://twitter.com/dog_rates/status/676603393...</td>\n      <td>9</td>\n      <td>10</td>\n      <td>Godzilla</td>\n      <td>None</td>\n      <td>None</td>\n      <td>pupper</td>\n      <td>None</td>\n    </tr>\n    <tr>\n      <th>1842</th>\n      <td>675870721063669760</td>\n      <td>6.757073e+17</td>\n      <td>4.196984e+09</td>\n      <td>2015-12-13 02:51:51 +0000</td>\n      <td>&lt;a href=\"http://twitter.com/download/iphone\" r...</td>\n      <td>&amp;amp; this is Yoshi. Another world record cont...</td>\n      <td>NaN</td>\n      <td>NaN</td>\n      <td>NaN</td>\n      <td>https://twitter.com/dog_rates/status/675870721...</td>\n      <td>11</td>\n      <td>10</td>\n      <td>None</td>\n      <td>None</td>\n      <td>None</td>\n      <td>None</td>\n      <td>None</td>\n    </tr>\n    <tr>\n      <th>1897</th>\n      <td>674737130913071104</td>\n      <td>NaN</td>\n      <td>NaN</td>\n      <td>2015-12-09 23:47:22 +0000</td>\n      <td>&lt;a href=\"http://twitter.com/download/iphone\" r...</td>\n      <td>Meet Rufio. He is unaware of the pink legless ...</td>\n      <td>NaN</td>\n      <td>NaN</td>\n      <td>NaN</td>\n      <td>https://twitter.com/dog_rates/status/674737130...</td>\n      <td>10</td>\n      <td>10</td>\n      <td>Rufio</td>\n      <td>None</td>\n      <td>None</td>\n      <td>pupper</td>\n      <td>None</td>\n    </tr>\n    <tr>\n      <th>1899</th>\n      <td>674670581682434048</td>\n      <td>NaN</td>\n      <td>NaN</td>\n      <td>2015-12-09 19:22:56 +0000</td>\n      <td>&lt;a href=\"http://twitter.com/download/iphone\" r...</td>\n      <td>Meet Jeb &amp;amp; Bush. Jeb is somehow stuck in t...</td>\n      <td>NaN</td>\n      <td>NaN</td>\n      <td>NaN</td>\n      <td>https://twitter.com/dog_rates/status/674670581...</td>\n      <td>9</td>\n      <td>10</td>\n      <td>Jeb</td>\n      <td>None</td>\n      <td>None</td>\n      <td>None</td>\n      <td>None</td>\n    </tr>\n    <tr>\n      <th>1901</th>\n      <td>674646392044941312</td>\n      <td>NaN</td>\n      <td>NaN</td>\n      <td>2015-12-09 17:46:48 +0000</td>\n      <td>&lt;a href=\"http://twitter.com/download/iphone\" r...</td>\n      <td>Two gorgeous dogs here. Little waddling dog is...</td>\n      <td>NaN</td>\n      <td>NaN</td>\n      <td>NaN</td>\n      <td>https://twitter.com/dog_rates/status/674646392...</td>\n      <td>5</td>\n      <td>10</td>\n      <td>None</td>\n      <td>None</td>\n      <td>None</td>\n      <td>None</td>\n      <td>None</td>\n    </tr>\n    <tr>\n      <th>1913</th>\n      <td>674372068062928900</td>\n      <td>NaN</td>\n      <td>NaN</td>\n      <td>2015-12-08 23:36:44 +0000</td>\n      <td>&lt;a href=\"http://twitter.com/download/iphone\" r...</td>\n      <td>Meet Chesney. On the outside he stays calm &amp;am...</td>\n      <td>NaN</td>\n      <td>NaN</td>\n      <td>NaN</td>\n      <td>https://twitter.com/dog_rates/status/674372068...</td>\n      <td>10</td>\n      <td>10</td>\n      <td>Chesney</td>\n      <td>None</td>\n      <td>None</td>\n      <td>None</td>\n      <td>None</td>\n    </tr>\n    <tr>\n      <th>1931</th>\n      <td>674036086168010753</td>\n      <td>NaN</td>\n      <td>NaN</td>\n      <td>2015-12-08 01:21:40 +0000</td>\n      <td>&lt;a href=\"http://twitter.com/download/iphone\" r...</td>\n      <td>Meet Daisy. She has no eyes &amp;amp; her face has...</td>\n      <td>NaN</td>\n      <td>NaN</td>\n      <td>NaN</td>\n      <td>https://twitter.com/dog_rates/status/674036086...</td>\n      <td>9</td>\n      <td>10</td>\n      <td>Daisy</td>\n      <td>None</td>\n      <td>None</td>\n      <td>None</td>\n      <td>None</td>\n    </tr>\n    <tr>\n      <th>2031</th>\n      <td>671768281401958400</td>\n      <td>NaN</td>\n      <td>NaN</td>\n      <td>2015-12-01 19:10:13 +0000</td>\n      <td>&lt;a href=\"http://twitter.com/download/iphone\" r...</td>\n      <td>When you try to recreate the scene from Lady &amp;...</td>\n      <td>NaN</td>\n      <td>NaN</td>\n      <td>NaN</td>\n      <td>https://twitter.com/dog_rates/status/671768281...</td>\n      <td>10</td>\n      <td>10</td>\n      <td>None</td>\n      <td>None</td>\n      <td>None</td>\n      <td>None</td>\n      <td>None</td>\n    </tr>\n    <tr>\n      <th>2037</th>\n      <td>671561002136281088</td>\n      <td>NaN</td>\n      <td>NaN</td>\n      <td>2015-12-01 05:26:34 +0000</td>\n      <td>&lt;a href=\"http://twitter.com/download/iphone\" r...</td>\n      <td>This is the best thing I've ever seen so sprea...</td>\n      <td>NaN</td>\n      <td>NaN</td>\n      <td>NaN</td>\n      <td>https://twitter.com/dog_rates/status/671561002...</td>\n      <td>13</td>\n      <td>10</td>\n      <td>the</td>\n      <td>None</td>\n      <td>None</td>\n      <td>None</td>\n      <td>None</td>\n    </tr>\n    <tr>\n      <th>2064</th>\n      <td>671154572044468225</td>\n      <td>NaN</td>\n      <td>NaN</td>\n      <td>2015-11-30 02:31:34 +0000</td>\n      <td>&lt;a href=\"http://twitter.com/download/iphone\" r...</td>\n      <td>Meet Holly. She's trying to teach small human-...</td>\n      <td>NaN</td>\n      <td>NaN</td>\n      <td>NaN</td>\n      <td>https://twitter.com/dog_rates/status/671154572...</td>\n      <td>11</td>\n      <td>10</td>\n      <td>Holly</td>\n      <td>None</td>\n      <td>None</td>\n      <td>None</td>\n      <td>None</td>\n    </tr>\n    <tr>\n      <th>2084</th>\n      <td>670807719151067136</td>\n      <td>NaN</td>\n      <td>NaN</td>\n      <td>2015-11-29 03:33:17 +0000</td>\n      <td>&lt;a href=\"http://twitter.com/download/iphone\" r...</td>\n      <td>Say hello to Andy. He can balance on one foot,...</td>\n      <td>NaN</td>\n      <td>NaN</td>\n      <td>NaN</td>\n      <td>https://twitter.com/dog_rates/status/670807719...</td>\n      <td>11</td>\n      <td>10</td>\n      <td>Andy</td>\n      <td>None</td>\n      <td>None</td>\n      <td>None</td>\n      <td>None</td>\n    </tr>\n    <tr>\n      <th>2096</th>\n      <td>670755717859713024</td>\n      <td>NaN</td>\n      <td>NaN</td>\n      <td>2015-11-29 00:06:39 +0000</td>\n      <td>&lt;a href=\"http://twitter.com/download/iphone\" r...</td>\n      <td>Say hello to Gin &amp;amp; Tonic. They're having a...</td>\n      <td>NaN</td>\n      <td>NaN</td>\n      <td>NaN</td>\n      <td>https://twitter.com/dog_rates/status/670755717...</td>\n      <td>9</td>\n      <td>10</td>\n      <td>Gin</td>\n      <td>None</td>\n      <td>None</td>\n      <td>None</td>\n      <td>None</td>\n    </tr>\n    <tr>\n      <th>2137</th>\n      <td>670046952931721218</td>\n      <td>NaN</td>\n      <td>NaN</td>\n      <td>2015-11-27 01:10:17 +0000</td>\n      <td>&lt;a href=\"http://twitter.com/download/iphone\" r...</td>\n      <td>This is Ben &amp;amp; Carson. It's impossible for ...</td>\n      <td>NaN</td>\n      <td>NaN</td>\n      <td>NaN</td>\n      <td>https://twitter.com/dog_rates/status/670046952...</td>\n      <td>11</td>\n      <td>10</td>\n      <td>Ben</td>\n      <td>None</td>\n      <td>None</td>\n      <td>None</td>\n      <td>None</td>\n    </tr>\n    <tr>\n      <th>2177</th>\n      <td>669037058363662336</td>\n      <td>NaN</td>\n      <td>NaN</td>\n      <td>2015-11-24 06:17:19 +0000</td>\n      <td>&lt;a href=\"http://twitter.com/download/iphone\" r...</td>\n      <td>Here we have Pancho and Peaches. Pancho is a C...</td>\n      <td>NaN</td>\n      <td>NaN</td>\n      <td>NaN</td>\n      <td>https://twitter.com/dog_rates/status/669037058...</td>\n      <td>10</td>\n      <td>10</td>\n      <td>None</td>\n      <td>None</td>\n      <td>None</td>\n      <td>None</td>\n      <td>None</td>\n    </tr>\n    <tr>\n      <th>2190</th>\n      <td>668960084974809088</td>\n      <td>NaN</td>\n      <td>NaN</td>\n      <td>2015-11-24 01:11:27 +0000</td>\n      <td>&lt;a href=\"http://twitter.com/download/iphone\" r...</td>\n      <td>Meet Jaycob. He got scared of the vacuum. Hide...</td>\n      <td>NaN</td>\n      <td>NaN</td>\n      <td>NaN</td>\n      <td>https://twitter.com/dog_rates/status/668960084...</td>\n      <td>10</td>\n      <td>10</td>\n      <td>Jaycob</td>\n      <td>None</td>\n      <td>None</td>\n      <td>None</td>\n      <td>None</td>\n    </tr>\n    <tr>\n      <th>2196</th>\n      <td>668852170888998912</td>\n      <td>NaN</td>\n      <td>NaN</td>\n      <td>2015-11-23 18:02:38 +0000</td>\n      <td>&lt;a href=\"http://twitter.com/download/iphone\" r...</td>\n      <td>Say hello to Bobb. Bobb is a Golden High Fescu...</td>\n      <td>NaN</td>\n      <td>NaN</td>\n      <td>NaN</td>\n      <td>https://twitter.com/dog_rates/status/668852170...</td>\n      <td>11</td>\n      <td>10</td>\n      <td>Bobb</td>\n      <td>None</td>\n      <td>None</td>\n      <td>None</td>\n      <td>None</td>\n    </tr>\n    <tr>\n      <th>2207</th>\n      <td>668627278264475648</td>\n      <td>NaN</td>\n      <td>NaN</td>\n      <td>2015-11-23 03:09:00 +0000</td>\n      <td>&lt;a href=\"http://twitter.com/download/iphone\" r...</td>\n      <td>This is Timofy. He's a pilot for Southwest. It...</td>\n      <td>NaN</td>\n      <td>NaN</td>\n      <td>NaN</td>\n      <td>https://twitter.com/dog_rates/status/668627278...</td>\n      <td>9</td>\n      <td>10</td>\n      <td>Timofy</td>\n      <td>None</td>\n      <td>None</td>\n      <td>None</td>\n      <td>None</td>\n    </tr>\n    <tr>\n      <th>2210</th>\n      <td>668620235289837568</td>\n      <td>NaN</td>\n      <td>NaN</td>\n      <td>2015-11-23 02:41:01 +0000</td>\n      <td>&lt;a href=\"http://twitter.com/download/iphone\" r...</td>\n      <td>Say hello to Kallie. There was a tornado in th...</td>\n      <td>NaN</td>\n      <td>NaN</td>\n      <td>NaN</td>\n      <td>https://twitter.com/dog_rates/status/668620235...</td>\n      <td>10</td>\n      <td>10</td>\n      <td>Kallie</td>\n      <td>None</td>\n      <td>None</td>\n      <td>None</td>\n      <td>None</td>\n    </tr>\n    <tr>\n      <th>2216</th>\n      <td>668537837512433665</td>\n      <td>NaN</td>\n      <td>NaN</td>\n      <td>2015-11-22 21:13:35 +0000</td>\n      <td>&lt;a href=\"http://twitter.com/download/iphone\" r...</td>\n      <td>This is Spark. He's nervous. Other dog hasn't ...</td>\n      <td>NaN</td>\n      <td>NaN</td>\n      <td>NaN</td>\n      <td>https://twitter.com/dog_rates/status/668537837...</td>\n      <td>8</td>\n      <td>10</td>\n      <td>Spark</td>\n      <td>None</td>\n      <td>None</td>\n      <td>None</td>\n      <td>None</td>\n    </tr>\n    <tr>\n      <th>2232</th>\n      <td>668221241640230912</td>\n      <td>NaN</td>\n      <td>NaN</td>\n      <td>2015-11-22 00:15:33 +0000</td>\n      <td>&lt;a href=\"http://twitter.com/download/iphone\" r...</td>\n      <td>These two dogs are Bo &amp;amp; Smittens. Smittens...</td>\n      <td>NaN</td>\n      <td>NaN</td>\n      <td>NaN</td>\n      <td>https://twitter.com/dog_rates/status/668221241...</td>\n      <td>10</td>\n      <td>10</td>\n      <td>None</td>\n      <td>None</td>\n      <td>None</td>\n      <td>None</td>\n      <td>None</td>\n    </tr>\n    <tr>\n      <th>2246</th>\n      <td>667878741721415682</td>\n      <td>NaN</td>\n      <td>NaN</td>\n      <td>2015-11-21 01:34:35 +0000</td>\n      <td>&lt;a href=\"http://twitter.com/download/iphone\" r...</td>\n      <td>This is Tedrick. He lives on the edge. Needs s...</td>\n      <td>NaN</td>\n      <td>NaN</td>\n      <td>NaN</td>\n      <td>https://twitter.com/dog_rates/status/667878741...</td>\n      <td>2</td>\n      <td>10</td>\n      <td>Tedrick</td>\n      <td>None</td>\n      <td>None</td>\n      <td>None</td>\n      <td>None</td>\n    </tr>\n    <tr>\n      <th>2268</th>\n      <td>667517642048163840</td>\n      <td>NaN</td>\n      <td>NaN</td>\n      <td>2015-11-20 01:39:42 +0000</td>\n      <td>&lt;a href=\"http://twitter.com\" rel=\"nofollow\"&gt;Tw...</td>\n      <td>This is Dook &amp;amp; Milo. Dook is struggling to...</td>\n      <td>NaN</td>\n      <td>NaN</td>\n      <td>NaN</td>\n      <td>https://twitter.com/dog_rates/status/667517642...</td>\n      <td>8</td>\n      <td>10</td>\n      <td>Dook</td>\n      <td>None</td>\n      <td>None</td>\n      <td>None</td>\n      <td>None</td>\n    </tr>\n    <tr>\n      <th>2293</th>\n      <td>667152164079423490</td>\n      <td>NaN</td>\n      <td>NaN</td>\n      <td>2015-11-19 01:27:25 +0000</td>\n      <td>&lt;a href=\"http://twitter.com/download/iphone\" r...</td>\n      <td>This is Pipsy. He is a fluffball. Enjoys trave...</td>\n      <td>NaN</td>\n      <td>NaN</td>\n      <td>NaN</td>\n      <td>https://twitter.com/dog_rates/status/667152164...</td>\n      <td>12</td>\n      <td>10</td>\n      <td>Pipsy</td>\n      <td>None</td>\n      <td>None</td>\n      <td>None</td>\n      <td>None</td>\n    </tr>\n    <tr>\n      <th>2306</th>\n      <td>666835007768551424</td>\n      <td>NaN</td>\n      <td>NaN</td>\n      <td>2015-11-18 04:27:09 +0000</td>\n      <td>&lt;a href=\"http://twitter.com/download/iphone\" r...</td>\n      <td>These are Peruvian Feldspars. Their names are ...</td>\n      <td>NaN</td>\n      <td>NaN</td>\n      <td>NaN</td>\n      <td>https://twitter.com/dog_rates/status/666835007...</td>\n      <td>10</td>\n      <td>10</td>\n      <td>None</td>\n      <td>None</td>\n      <td>None</td>\n      <td>None</td>\n      <td>None</td>\n    </tr>\n  </tbody>\n</table>\n</div>"
     },
     "execution_count": 145,
     "metadata": {},
     "output_type": "execute_result"
    }
   ],
   "source": [
    "archive[archive.text.str.contains('&',na=False)]"
   ],
   "metadata": {
    "collapsed": false,
    "pycharm": {
     "name": "#%%\n"
    }
   }
  },
  {
   "cell_type": "code",
   "execution_count": 146,
   "outputs": [
    {
     "data": {
      "text/plain": "           tweet_id      img_num      p1_conf       p2_conf       p3_conf\ncount  2.075000e+03  2075.000000  2075.000000  2.075000e+03  2.075000e+03\nmean   7.384514e+17     1.203855     0.594548  1.345886e-01  6.032417e-02\nstd    6.785203e+16     0.561875     0.271174  1.006657e-01  5.090593e-02\nmin    6.660209e+17     1.000000     0.044333  1.011300e-08  1.740170e-10\n25%    6.764835e+17     1.000000     0.364412  5.388625e-02  1.622240e-02\n50%    7.119988e+17     1.000000     0.588230  1.181810e-01  4.944380e-02\n75%    7.932034e+17     1.000000     0.843855  1.955655e-01  9.180755e-02\nmax    8.924206e+17     4.000000     1.000000  4.880140e-01  2.734190e-01",
      "text/html": "<div>\n<style scoped>\n    .dataframe tbody tr th:only-of-type {\n        vertical-align: middle;\n    }\n\n    .dataframe tbody tr th {\n        vertical-align: top;\n    }\n\n    .dataframe thead th {\n        text-align: right;\n    }\n</style>\n<table border=\"1\" class=\"dataframe\">\n  <thead>\n    <tr style=\"text-align: right;\">\n      <th></th>\n      <th>tweet_id</th>\n      <th>img_num</th>\n      <th>p1_conf</th>\n      <th>p2_conf</th>\n      <th>p3_conf</th>\n    </tr>\n  </thead>\n  <tbody>\n    <tr>\n      <th>count</th>\n      <td>2.075000e+03</td>\n      <td>2075.000000</td>\n      <td>2075.000000</td>\n      <td>2.075000e+03</td>\n      <td>2.075000e+03</td>\n    </tr>\n    <tr>\n      <th>mean</th>\n      <td>7.384514e+17</td>\n      <td>1.203855</td>\n      <td>0.594548</td>\n      <td>1.345886e-01</td>\n      <td>6.032417e-02</td>\n    </tr>\n    <tr>\n      <th>std</th>\n      <td>6.785203e+16</td>\n      <td>0.561875</td>\n      <td>0.271174</td>\n      <td>1.006657e-01</td>\n      <td>5.090593e-02</td>\n    </tr>\n    <tr>\n      <th>min</th>\n      <td>6.660209e+17</td>\n      <td>1.000000</td>\n      <td>0.044333</td>\n      <td>1.011300e-08</td>\n      <td>1.740170e-10</td>\n    </tr>\n    <tr>\n      <th>25%</th>\n      <td>6.764835e+17</td>\n      <td>1.000000</td>\n      <td>0.364412</td>\n      <td>5.388625e-02</td>\n      <td>1.622240e-02</td>\n    </tr>\n    <tr>\n      <th>50%</th>\n      <td>7.119988e+17</td>\n      <td>1.000000</td>\n      <td>0.588230</td>\n      <td>1.181810e-01</td>\n      <td>4.944380e-02</td>\n    </tr>\n    <tr>\n      <th>75%</th>\n      <td>7.932034e+17</td>\n      <td>1.000000</td>\n      <td>0.843855</td>\n      <td>1.955655e-01</td>\n      <td>9.180755e-02</td>\n    </tr>\n    <tr>\n      <th>max</th>\n      <td>8.924206e+17</td>\n      <td>4.000000</td>\n      <td>1.000000</td>\n      <td>4.880140e-01</td>\n      <td>2.734190e-01</td>\n    </tr>\n  </tbody>\n</table>\n</div>"
     },
     "execution_count": 146,
     "metadata": {},
     "output_type": "execute_result"
    }
   ],
   "source": [
    "imgpred.describe()"
   ],
   "metadata": {
    "collapsed": false,
    "pycharm": {
     "name": "#%%\n"
    }
   }
  },
  {
   "cell_type": "markdown",
   "metadata": {},
   "source": [
    "### Quality issues\n",
    "1.\n",
    "\n",
    "2.\n",
    "\n",
    "3.\n",
    "\n",
    "4.\n",
    "\n",
    "5.\n",
    "\n",
    "6.\n",
    "\n",
    "7.\n",
    "\n",
    "8."
   ]
  },
  {
   "cell_type": "markdown",
   "metadata": {
    "extensions": {
     "jupyter_dashboards": {
      "version": 1,
      "views": {
       "grid_default": {
        "col": 0,
        "height": 7,
        "hidden": false,
        "row": 40,
        "width": 12
       },
       "report_default": {
        "hidden": false
       }
      }
     }
    }
   },
   "source": [
    "### Tidiness issues\n",
    "1. Dog stage must be in a column together\n",
    "\n",
    "2. join tweets information, image prediction to archive dataframe"
   ]
  },
  {
   "cell_type": "markdown",
   "metadata": {
    "extensions": {
     "jupyter_dashboards": {
      "version": 1,
      "views": {
       "grid_default": {
        "col": 4,
        "height": 4,
        "hidden": false,
        "row": 32,
        "width": 4
       },
       "report_default": {
        "hidden": false
       }
      }
     }
    }
   },
   "source": [
    "## Cleaning Data\n",
    "In this section, clean **all** of the issues you documented while assessing. \n",
    "\n",
    "**Note:** Make a copy of the original data before cleaning. Cleaning includes merging individual pieces of data according to the rules of [tidy data](https://cran.r-project.org/web/packages/tidyr/vignettes/tidy-data.html). The result should be a high-quality and tidy master pandas DataFrame (or DataFrames, if appropriate)."
   ]
  },
  {
   "cell_type": "code",
   "execution_count": 147,
   "metadata": {},
   "outputs": [],
   "source": [
    "# Make copies of original pieces of data\n",
    "archiveclean = archive.copy()\n",
    "imgpredclean = imgpred.copy()\n",
    "tweet_dataclean = tweet_data.copy()"
   ]
  },
  {
   "cell_type": "markdown",
   "metadata": {},
   "source": [
    "### Issue #1: Dog Stage Problem"
   ]
  },
  {
   "cell_type": "markdown",
   "metadata": {},
   "source": [
    "##### Define: Creating column for dog stage"
   ]
  },
  {
   "cell_type": "markdown",
   "metadata": {},
   "source": [
    "#### Code"
   ]
  },
  {
   "cell_type": "code",
   "execution_count": 148,
   "outputs": [],
   "source": [
    "archiveclean['dog_stage'] = archiveclean['text'].str.extract('(puppo|pupper|floofer|doggo)', expand=True)\n",
    "\n",
    "\n",
    "# dropping individual dog stage column\n",
    "drop_col = ['doggo','floofer','pupper', 'puppo']\n",
    "archiveclean = archiveclean.drop(drop_col,axis=1)"
   ],
   "metadata": {
    "collapsed": false,
    "pycharm": {
     "name": "#%%\n"
    }
   }
  },
  {
   "cell_type": "markdown",
   "metadata": {},
   "source": [
    "#### Test"
   ]
  },
  {
   "cell_type": "code",
   "execution_count": 149,
   "metadata": {},
   "outputs": [
    {
     "data": {
      "text/plain": "             tweet_id  in_reply_to_status_id  in_reply_to_user_id  \\\n0  892420643555336193                    NaN                  NaN   \n1  892177421306343426                    NaN                  NaN   \n2  891815181378084864                    NaN                  NaN   \n3  891689557279858688                    NaN                  NaN   \n4  891327558926688256                    NaN                  NaN   \n\n                   timestamp  \\\n0  2017-08-01 16:23:56 +0000   \n1  2017-08-01 00:17:27 +0000   \n2  2017-07-31 00:18:03 +0000   \n3  2017-07-30 15:58:51 +0000   \n4  2017-07-29 16:00:24 +0000   \n\n                                              source  \\\n0  <a href=\"http://twitter.com/download/iphone\" r...   \n1  <a href=\"http://twitter.com/download/iphone\" r...   \n2  <a href=\"http://twitter.com/download/iphone\" r...   \n3  <a href=\"http://twitter.com/download/iphone\" r...   \n4  <a href=\"http://twitter.com/download/iphone\" r...   \n\n                                                text  retweeted_status_id  \\\n0  This is Phineas. He's a mystical boy. Only eve...                  NaN   \n1  This is Tilly. She's just checking pup on you....                  NaN   \n2  This is Archie. He is a rare Norwegian Pouncin...                  NaN   \n3  This is Darla. She commenced a snooze mid meal...                  NaN   \n4  This is Franklin. He would like you to stop ca...                  NaN   \n\n   retweeted_status_user_id retweeted_status_timestamp  \\\n0                       NaN                        NaN   \n1                       NaN                        NaN   \n2                       NaN                        NaN   \n3                       NaN                        NaN   \n4                       NaN                        NaN   \n\n                                       expanded_urls  rating_numerator  \\\n0  https://twitter.com/dog_rates/status/892420643...                13   \n1  https://twitter.com/dog_rates/status/892177421...                13   \n2  https://twitter.com/dog_rates/status/891815181...                12   \n3  https://twitter.com/dog_rates/status/891689557...                13   \n4  https://twitter.com/dog_rates/status/891327558...                12   \n\n   rating_denominator      name dog_stage  \n0                  10   Phineas       NaN  \n1                  10     Tilly       NaN  \n2                  10    Archie       NaN  \n3                  10     Darla       NaN  \n4                  10  Franklin       NaN  ",
      "text/html": "<div>\n<style scoped>\n    .dataframe tbody tr th:only-of-type {\n        vertical-align: middle;\n    }\n\n    .dataframe tbody tr th {\n        vertical-align: top;\n    }\n\n    .dataframe thead th {\n        text-align: right;\n    }\n</style>\n<table border=\"1\" class=\"dataframe\">\n  <thead>\n    <tr style=\"text-align: right;\">\n      <th></th>\n      <th>tweet_id</th>\n      <th>in_reply_to_status_id</th>\n      <th>in_reply_to_user_id</th>\n      <th>timestamp</th>\n      <th>source</th>\n      <th>text</th>\n      <th>retweeted_status_id</th>\n      <th>retweeted_status_user_id</th>\n      <th>retweeted_status_timestamp</th>\n      <th>expanded_urls</th>\n      <th>rating_numerator</th>\n      <th>rating_denominator</th>\n      <th>name</th>\n      <th>dog_stage</th>\n    </tr>\n  </thead>\n  <tbody>\n    <tr>\n      <th>0</th>\n      <td>892420643555336193</td>\n      <td>NaN</td>\n      <td>NaN</td>\n      <td>2017-08-01 16:23:56 +0000</td>\n      <td>&lt;a href=\"http://twitter.com/download/iphone\" r...</td>\n      <td>This is Phineas. He's a mystical boy. Only eve...</td>\n      <td>NaN</td>\n      <td>NaN</td>\n      <td>NaN</td>\n      <td>https://twitter.com/dog_rates/status/892420643...</td>\n      <td>13</td>\n      <td>10</td>\n      <td>Phineas</td>\n      <td>NaN</td>\n    </tr>\n    <tr>\n      <th>1</th>\n      <td>892177421306343426</td>\n      <td>NaN</td>\n      <td>NaN</td>\n      <td>2017-08-01 00:17:27 +0000</td>\n      <td>&lt;a href=\"http://twitter.com/download/iphone\" r...</td>\n      <td>This is Tilly. She's just checking pup on you....</td>\n      <td>NaN</td>\n      <td>NaN</td>\n      <td>NaN</td>\n      <td>https://twitter.com/dog_rates/status/892177421...</td>\n      <td>13</td>\n      <td>10</td>\n      <td>Tilly</td>\n      <td>NaN</td>\n    </tr>\n    <tr>\n      <th>2</th>\n      <td>891815181378084864</td>\n      <td>NaN</td>\n      <td>NaN</td>\n      <td>2017-07-31 00:18:03 +0000</td>\n      <td>&lt;a href=\"http://twitter.com/download/iphone\" r...</td>\n      <td>This is Archie. He is a rare Norwegian Pouncin...</td>\n      <td>NaN</td>\n      <td>NaN</td>\n      <td>NaN</td>\n      <td>https://twitter.com/dog_rates/status/891815181...</td>\n      <td>12</td>\n      <td>10</td>\n      <td>Archie</td>\n      <td>NaN</td>\n    </tr>\n    <tr>\n      <th>3</th>\n      <td>891689557279858688</td>\n      <td>NaN</td>\n      <td>NaN</td>\n      <td>2017-07-30 15:58:51 +0000</td>\n      <td>&lt;a href=\"http://twitter.com/download/iphone\" r...</td>\n      <td>This is Darla. She commenced a snooze mid meal...</td>\n      <td>NaN</td>\n      <td>NaN</td>\n      <td>NaN</td>\n      <td>https://twitter.com/dog_rates/status/891689557...</td>\n      <td>13</td>\n      <td>10</td>\n      <td>Darla</td>\n      <td>NaN</td>\n    </tr>\n    <tr>\n      <th>4</th>\n      <td>891327558926688256</td>\n      <td>NaN</td>\n      <td>NaN</td>\n      <td>2017-07-29 16:00:24 +0000</td>\n      <td>&lt;a href=\"http://twitter.com/download/iphone\" r...</td>\n      <td>This is Franklin. He would like you to stop ca...</td>\n      <td>NaN</td>\n      <td>NaN</td>\n      <td>NaN</td>\n      <td>https://twitter.com/dog_rates/status/891327558...</td>\n      <td>12</td>\n      <td>10</td>\n      <td>Franklin</td>\n      <td>NaN</td>\n    </tr>\n  </tbody>\n</table>\n</div>"
     },
     "execution_count": 149,
     "metadata": {},
     "output_type": "execute_result"
    }
   ],
   "source": [
    "archiveclean.head()"
   ]
  },
  {
   "cell_type": "markdown",
   "metadata": {},
   "source": [
    "### Issue #2: Joining tweet info and image prediction to archive"
   ]
  },
  {
   "cell_type": "markdown",
   "metadata": {
    "collapsed": true,
    "extensions": {
     "jupyter_dashboards": {
      "version": 1,
      "views": {
       "grid_default": {
        "hidden": true
       },
       "report_default": {
        "hidden": true
       }
      }
     }
    }
   },
   "source": [
    "##### Define: Add the tweets information and image prediction to archive"
   ]
  },
  {
   "cell_type": "markdown",
   "metadata": {},
   "source": [
    "#### Code"
   ]
  },
  {
   "cell_type": "code",
   "execution_count": 150,
   "outputs": [
    {
     "ename": "KeyError",
     "evalue": "'tweet_id'",
     "output_type": "error",
     "traceback": [
      "\u001B[0;31m---------------------------------------------------------------------------\u001B[0m",
      "\u001B[0;31mKeyError\u001B[0m                                  Traceback (most recent call last)",
      "\u001B[0;32m<ipython-input-150-22a308f59c32>\u001B[0m in \u001B[0;36m<module>\u001B[0;34m\u001B[0m\n\u001B[1;32m      1\u001B[0m \u001B[0;31m#merging all all dataframes to archive\u001B[0m\u001B[0;34m\u001B[0m\u001B[0;34m\u001B[0m\u001B[0;34m\u001B[0m\u001B[0m\n\u001B[0;32m----> 2\u001B[0;31m \u001B[0marchiveclean\u001B[0m \u001B[0;34m=\u001B[0m \u001B[0mpd\u001B[0m\u001B[0;34m.\u001B[0m\u001B[0mmerge\u001B[0m\u001B[0;34m(\u001B[0m\u001B[0marchiveclean\u001B[0m\u001B[0;34m,\u001B[0m\u001B[0mtweet_dataclean\u001B[0m\u001B[0;34m,\u001B[0m \u001B[0mon\u001B[0m\u001B[0;34m=\u001B[0m\u001B[0;34m'tweet_id'\u001B[0m\u001B[0;34m,\u001B[0m \u001B[0mhow\u001B[0m\u001B[0;34m=\u001B[0m\u001B[0;34m'left'\u001B[0m\u001B[0;34m)\u001B[0m\u001B[0;34m\u001B[0m\u001B[0;34m\u001B[0m\u001B[0m\n\u001B[0m\u001B[1;32m      3\u001B[0m \u001B[0marchiveclean\u001B[0m \u001B[0;34m=\u001B[0m \u001B[0mpd\u001B[0m\u001B[0;34m.\u001B[0m\u001B[0mmerge\u001B[0m\u001B[0;34m(\u001B[0m\u001B[0marchiveclean\u001B[0m\u001B[0;34m,\u001B[0m\u001B[0mimgpredclean\u001B[0m\u001B[0;34m,\u001B[0m \u001B[0mon\u001B[0m \u001B[0;34m=\u001B[0m \u001B[0;34m'tweet_id'\u001B[0m\u001B[0;34m,\u001B[0m \u001B[0mhow\u001B[0m\u001B[0;34m=\u001B[0m\u001B[0;34m'left'\u001B[0m\u001B[0;34m)\u001B[0m\u001B[0;34m\u001B[0m\u001B[0;34m\u001B[0m\u001B[0m\n",
      "\u001B[0;32m/opt/anaconda3/lib/python3.8/site-packages/pandas/core/reshape/merge.py\u001B[0m in \u001B[0;36mmerge\u001B[0;34m(left, right, how, on, left_on, right_on, left_index, right_index, sort, suffixes, copy, indicator, validate)\u001B[0m\n\u001B[1;32m     72\u001B[0m     \u001B[0mvalidate\u001B[0m\u001B[0;34m=\u001B[0m\u001B[0;32mNone\u001B[0m\u001B[0;34m,\u001B[0m\u001B[0;34m\u001B[0m\u001B[0;34m\u001B[0m\u001B[0m\n\u001B[1;32m     73\u001B[0m ) -> \"DataFrame\":\n\u001B[0;32m---> 74\u001B[0;31m     op = _MergeOperation(\n\u001B[0m\u001B[1;32m     75\u001B[0m         \u001B[0mleft\u001B[0m\u001B[0;34m,\u001B[0m\u001B[0;34m\u001B[0m\u001B[0;34m\u001B[0m\u001B[0m\n\u001B[1;32m     76\u001B[0m         \u001B[0mright\u001B[0m\u001B[0;34m,\u001B[0m\u001B[0;34m\u001B[0m\u001B[0;34m\u001B[0m\u001B[0m\n",
      "\u001B[0;32m/opt/anaconda3/lib/python3.8/site-packages/pandas/core/reshape/merge.py\u001B[0m in \u001B[0;36m__init__\u001B[0;34m(self, left, right, how, on, left_on, right_on, axis, left_index, right_index, sort, suffixes, copy, indicator, validate)\u001B[0m\n\u001B[1;32m    650\u001B[0m             \u001B[0mself\u001B[0m\u001B[0;34m.\u001B[0m\u001B[0mright_join_keys\u001B[0m\u001B[0;34m,\u001B[0m\u001B[0;34m\u001B[0m\u001B[0;34m\u001B[0m\u001B[0m\n\u001B[1;32m    651\u001B[0m             \u001B[0mself\u001B[0m\u001B[0;34m.\u001B[0m\u001B[0mjoin_names\u001B[0m\u001B[0;34m,\u001B[0m\u001B[0;34m\u001B[0m\u001B[0;34m\u001B[0m\u001B[0m\n\u001B[0;32m--> 652\u001B[0;31m         ) = self._get_merge_keys()\n\u001B[0m\u001B[1;32m    653\u001B[0m \u001B[0;34m\u001B[0m\u001B[0m\n\u001B[1;32m    654\u001B[0m         \u001B[0;31m# validate the merge keys dtypes. We may need to coerce\u001B[0m\u001B[0;34m\u001B[0m\u001B[0;34m\u001B[0m\u001B[0;34m\u001B[0m\u001B[0m\n",
      "\u001B[0;32m/opt/anaconda3/lib/python3.8/site-packages/pandas/core/reshape/merge.py\u001B[0m in \u001B[0;36m_get_merge_keys\u001B[0;34m(self)\u001B[0m\n\u001B[1;32m   1003\u001B[0m                     \u001B[0;32mif\u001B[0m \u001B[0;32mnot\u001B[0m \u001B[0mis_rkey\u001B[0m\u001B[0;34m(\u001B[0m\u001B[0mrk\u001B[0m\u001B[0;34m)\u001B[0m\u001B[0;34m:\u001B[0m\u001B[0;34m\u001B[0m\u001B[0;34m\u001B[0m\u001B[0m\n\u001B[1;32m   1004\u001B[0m                         \u001B[0;32mif\u001B[0m \u001B[0mrk\u001B[0m \u001B[0;32mis\u001B[0m \u001B[0;32mnot\u001B[0m \u001B[0;32mNone\u001B[0m\u001B[0;34m:\u001B[0m\u001B[0;34m\u001B[0m\u001B[0;34m\u001B[0m\u001B[0m\n\u001B[0;32m-> 1005\u001B[0;31m                             \u001B[0mright_keys\u001B[0m\u001B[0;34m.\u001B[0m\u001B[0mappend\u001B[0m\u001B[0;34m(\u001B[0m\u001B[0mright\u001B[0m\u001B[0;34m.\u001B[0m\u001B[0m_get_label_or_level_values\u001B[0m\u001B[0;34m(\u001B[0m\u001B[0mrk\u001B[0m\u001B[0;34m)\u001B[0m\u001B[0;34m)\u001B[0m\u001B[0;34m\u001B[0m\u001B[0;34m\u001B[0m\u001B[0m\n\u001B[0m\u001B[1;32m   1006\u001B[0m                         \u001B[0;32melse\u001B[0m\u001B[0;34m:\u001B[0m\u001B[0;34m\u001B[0m\u001B[0;34m\u001B[0m\u001B[0m\n\u001B[1;32m   1007\u001B[0m                             \u001B[0;31m# work-around for merge_asof(right_index=True)\u001B[0m\u001B[0;34m\u001B[0m\u001B[0;34m\u001B[0m\u001B[0;34m\u001B[0m\u001B[0m\n",
      "\u001B[0;32m/opt/anaconda3/lib/python3.8/site-packages/pandas/core/generic.py\u001B[0m in \u001B[0;36m_get_label_or_level_values\u001B[0;34m(self, key, axis)\u001B[0m\n\u001B[1;32m   1561\u001B[0m             \u001B[0mvalues\u001B[0m \u001B[0;34m=\u001B[0m \u001B[0mself\u001B[0m\u001B[0;34m.\u001B[0m\u001B[0maxes\u001B[0m\u001B[0;34m[\u001B[0m\u001B[0maxis\u001B[0m\u001B[0;34m]\u001B[0m\u001B[0;34m.\u001B[0m\u001B[0mget_level_values\u001B[0m\u001B[0;34m(\u001B[0m\u001B[0mkey\u001B[0m\u001B[0;34m)\u001B[0m\u001B[0;34m.\u001B[0m\u001B[0m_values\u001B[0m\u001B[0;34m\u001B[0m\u001B[0;34m\u001B[0m\u001B[0m\n\u001B[1;32m   1562\u001B[0m         \u001B[0;32melse\u001B[0m\u001B[0;34m:\u001B[0m\u001B[0;34m\u001B[0m\u001B[0;34m\u001B[0m\u001B[0m\n\u001B[0;32m-> 1563\u001B[0;31m             \u001B[0;32mraise\u001B[0m \u001B[0mKeyError\u001B[0m\u001B[0;34m(\u001B[0m\u001B[0mkey\u001B[0m\u001B[0;34m)\u001B[0m\u001B[0;34m\u001B[0m\u001B[0;34m\u001B[0m\u001B[0m\n\u001B[0m\u001B[1;32m   1564\u001B[0m \u001B[0;34m\u001B[0m\u001B[0m\n\u001B[1;32m   1565\u001B[0m         \u001B[0;31m# Check for duplicates\u001B[0m\u001B[0;34m\u001B[0m\u001B[0;34m\u001B[0m\u001B[0;34m\u001B[0m\u001B[0m\n",
      "\u001B[0;31mKeyError\u001B[0m: 'tweet_id'"
     ]
    }
   ],
   "source": [
    "#merging all all dataframes to archive\n",
    "archiveclean = pd.merge(archiveclean,tweet_dataclean, on='tweet_id', how='left')\n",
    "archiveclean = pd.merge(archiveclean,imgpredclean, on = 'tweet_id', how='left')"
   ],
   "metadata": {
    "collapsed": false,
    "pycharm": {
     "name": "#%%\n"
    }
   }
  },
  {
   "cell_type": "markdown",
   "metadata": {},
   "source": [
    "#### Test"
   ]
  },
  {
   "cell_type": "code",
   "execution_count": null,
   "metadata": {},
   "outputs": [],
   "source": []
  },
  {
   "cell_type": "markdown",
   "metadata": {},
   "source": [
    "## Storing Data\n",
    "Save gathered, assessed, and cleaned master dataset to a CSV file named \"twitter_archive_master.csv\"."
   ]
  },
  {
   "cell_type": "code",
   "execution_count": null,
   "metadata": {},
   "outputs": [],
   "source": []
  },
  {
   "cell_type": "markdown",
   "metadata": {},
   "source": [
    "## Analyzing and Visualizing Data\n",
    "In this section, analyze and visualize your wrangled data. You must produce at least **three (3) insights and one (1) visualization.**"
   ]
  },
  {
   "cell_type": "code",
   "execution_count": null,
   "metadata": {},
   "outputs": [],
   "source": []
  },
  {
   "cell_type": "markdown",
   "metadata": {},
   "source": [
    "### Insights:\n",
    "1.\n",
    "\n",
    "2.\n",
    "\n",
    "3."
   ]
  },
  {
   "cell_type": "markdown",
   "metadata": {
    "collapsed": true
   },
   "source": [
    "### Visualization"
   ]
  },
  {
   "cell_type": "code",
   "execution_count": null,
   "metadata": {},
   "outputs": [],
   "source": []
  }
 ],
 "metadata": {
  "extensions": {
   "jupyter_dashboards": {
    "activeView": "report_default",
    "version": 1,
    "views": {
     "grid_default": {
      "cellMargin": 10,
      "defaultCellHeight": 20,
      "maxColumns": 12,
      "name": "grid",
      "type": "grid"
     },
     "report_default": {
      "name": "report",
      "type": "report"
     }
    }
   }
  },
  "kernelspec": {
   "display_name": "Python 3",
   "language": "python",
   "name": "python3"
  },
  "language_info": {
   "codemirror_mode": {
    "name": "ipython",
    "version": 3
   },
   "file_extension": ".py",
   "mimetype": "text/x-python",
   "name": "python",
   "nbconvert_exporter": "python",
   "pygments_lexer": "ipython3",
   "version": "3.6.3"
  }
 },
 "nbformat": 4,
 "nbformat_minor": 2
}